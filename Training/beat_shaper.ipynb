{
 "cells": [
  {
   "cell_type": "code",
   "execution_count": 1,
   "metadata": {},
   "outputs": [
    {
     "name": "stderr",
     "output_type": "stream",
     "text": [
      "Using TensorFlow backend.\n"
     ]
    }
   ],
   "source": [
    "from __future__ import print_function\n",
    "\n",
    "# importing relevant modules\n",
    "import keras\n",
    "import tensorflow as tf\n",
    "import keras.backend as K\n",
    "import matplotlib.pyplot as plt\n",
    "import librosa\n",
    "import numpy as np\n",
    "import json\n",
    "import random\n",
    "from statistics import stdev\n",
    "\n",
    "from pandas                import read_csv, to_datetime\n",
    "from numpy                 import reshape, array\n",
    "from datetime              import datetime\n",
    "from sklearn.preprocessing import MinMaxScaler\n",
    "from keras.layers          import Dense, Dropout, LSTM, Input, TimeDistributed\n",
    "from keras.models          import Model\n",
    "from keras_tqdm            import TQDMNotebookCallback\n",
    "from IPython.display       import SVG, display\n",
    "from keras.utils.vis_utils import model_to_dot\n",
    "from keras.callbacks       import EarlyStopping\n",
    "from keras.layers          import Conv2DTranspose\n",
    "from os                    import walk\n",
    "from os.path               import isfile, join\n",
    "\n",
    "%matplotlib inline"
   ]
  },
  {
   "cell_type": "markdown",
   "metadata": {},
   "source": [
    "### Functions for loading/processing training data"
   ]
  },
  {
   "cell_type": "code",
   "execution_count": 2,
   "metadata": {},
   "outputs": [],
   "source": [
    "# Load a JSON beatmap file and extract and format the note data for use in the neural net\n",
    "def loadbeatmap(beatmap, beats, bpm, chunks_per_beat=8):\n",
    "    if beatmap[len(beatmap)-5:len(beatmap)] != \".json\":\n",
    "        print(\"Beatmap file \" + audio + \" is not of type .json\")\n",
    "        return -1\n",
    "    \n",
    "    with open(beatmap) as f:\n",
    "        data = json.load(f)\n",
    "  \n",
    "    notes = \"_notes\"\n",
    "    time = \"_time\"\n",
    "    line_index = \"_lineIndex\" #column number\n",
    "    line_layer = \"_lineLayer\" #row number\n",
    "    note_color = \"_type\" #0 is one color and 1 is the other\n",
    "    cut_direction = \"_cutDirection\"#9 cut directions\n",
    "\n",
    "    bpm_scale = bpm / data['_beatsPerMinute']\n",
    "    dim_0 = beats * chunks_per_beat\n",
    "    \n",
    "    # number of rows and columns in the playfield\n",
    "    # number of cells in the playfield (each cell can hold at most 1 note)\n",
    "    playfield_rows = 3\n",
    "    playfield_cols = 4\n",
    "    playfield_cell_count = playfield_rows * playfield_cols\n",
    "    \n",
    "    # number of colors (2): red, blue (order unknown)\n",
    "    # number of directions notes can face (9): \n",
    "    # up, down, left, right, up-left, up-right, down-left, down-right, dot (order unknown)\n",
    "    note_color_count = 2\n",
    "    note_direction_count = 9\n",
    "    \n",
    "    # dimensions for a 'one-hot' representation of a single time unit (chunk)\n",
    "    dim_1 = playfield_rows\n",
    "    dim_2 = playfield_cols\n",
    "    dim_3 = (note_color_count + 1) + (note_direction_count + 1)\n",
    "    \n",
    "    # initialize matrix to zeros, then set the \"no note\" bit for each block at each timestep to 1\n",
    "    outMatrix = np.zeros(shape=(dim_0, dim_1, dim_2, dim_3))\n",
    "    outMatrix[:,:,:,0] = 1\n",
    "    outMatrix[:,:,:,3] = 1\n",
    "    \n",
    "    block_power = 1#(int)(beats * \n",
    "                   #chunks_per_beat *\n",
    "                   #playfield_rows *\n",
    "                   #playfield_cols / \n",
    "                   #len(data['_notes']) )\n",
    "    \n",
    "    # for every note in the beatmap, set the color and direction bits for the proper cell to 1\n",
    "    for n in range(len(data[notes])):\n",
    "        entry = int(np.round(data[notes][n][time]*bpm_scale*chunks_per_beat)) #convert time to row index by rounding to nearest 1/8 beat\n",
    "        if data[notes][n][note_color] < 2:\n",
    "            outMatrix[entry] \\\n",
    "                     [data[notes][n][line_layer]] \\\n",
    "                     [data[notes][n][line_index]] \\\n",
    "                     [data[notes][n][note_color]+1] = block_power\n",
    "            outMatrix[entry] \\\n",
    "                     [data[notes][n][line_layer]] \\\n",
    "                     [data[notes][n][line_index]] \\\n",
    "                     [0] = 0\n",
    "            outMatrix[entry] \\\n",
    "                     [data[notes][n][line_layer]] \\\n",
    "                     [data[notes][n][line_index]] \\\n",
    "                     [data[notes][n][cut_direction]+4] = block_power\n",
    "            outMatrix[entry] \\\n",
    "                     [data[notes][n][line_layer]] \\\n",
    "                     [data[notes][n][line_index]] \\\n",
    "                     [3] = 0\n",
    "\n",
    "    return outMatrix"
   ]
  },
  {
   "cell_type": "code",
   "execution_count": 3,
   "metadata": {},
   "outputs": [],
   "source": [
    "# mean center an array\n",
    "def mean_center(x): \n",
    "    return (x - np.apply_along_axis(np.mean, 0, x) )"
   ]
  },
  {
   "cell_type": "code",
   "execution_count": 4,
   "metadata": {},
   "outputs": [],
   "source": [
    "def mean_center(x): \n",
    "    return (x - np.apply_along_axis(np.mean, 0, x) )\n",
    "\n",
    "def mean_center_norm(x): \n",
    "    return (x - np.apply_along_axis(np.mean, 0, x) )/ np.apply_along_axis(np.std, 0, x)"
   ]
  },
  {
   "cell_type": "code",
   "execution_count": 5,
   "metadata": {},
   "outputs": [],
   "source": [
    "# Load an audio file of type .ogg and resample it to the correct number of \n",
    "# samples per chunk (chunk size defaults to 1/8th note). Then resize the waveform\n",
    "# to be evenly divisible by the number of beats\n",
    "def loadsong(audio, samples_per_chunk=300, chunks_per_beat=8):\n",
    "    # verify extension is .ogg\n",
    "    if audio[len(audio)-4:len(audio)] != \".ogg\":\n",
    "        print(\"Audio file \" + audio + \" is not of type .ogg\")\n",
    "        return -1\n",
    "    \n",
    "    # use librosa to load the audio and find the duration (in seconds) and beats per minute\n",
    "    y, sr = librosa.load(audio)\n",
    "    song_length = librosa.get_duration(y=y,sr=sr) / 60.0\n",
    "    beats_per_minute = int(np.round(librosa.beat.tempo(y, sr=sr)))\n",
    "    \n",
    "    # find new sample rate (samples/sec)\n",
    "    beats_per_second = beats_per_minute / 60.0\n",
    "    samples_per_beat = samples_per_chunk * chunks_per_beat\n",
    "    new_sample_rate = samples_per_beat * beats_per_second\n",
    "    \n",
    "    # resample audio so that it has the right number of samples per chunk\n",
    "    # then slice off any extra samples at the end, so that its length is an even number of beats\n",
    "    y = librosa.resample(y, sr, new_sample_rate)\n",
    "    y = y[0:(len(y)//samples_per_beat) * samples_per_beat]\n",
    "    \n",
    "    # reshape the song into a list of samples_per_chunk sized pieces\n",
    "    y = y.reshape(len(y)//samples_per_chunk, samples_per_chunk)\n",
    "    # then perform the Fourier transform on each piece, remove the imaginary component\n",
    "    # and slice in half to remove the duplicated information\n",
    "    y = np.abs(np.apply_along_axis(np.fft.fft, 1, y))[:,1:(int)(samples_per_chunk/2)+1]\n",
    "    # then mean center the data so that each frequency's amplitude is expressed relative to the\n",
    "    # mean amplitude of that frequency across all pieces (optionally change this to mean_center_norm)\n",
    "    y = np.apply_along_axis(mean_center, 0, y)\n",
    "    \n",
    "    # find the number of beats in the whole song\n",
    "    number_of_beats = int(beats_per_minute * song_length)\n",
    "    \n",
    "    return y, number_of_beats, beats_per_minute"
   ]
  },
  {
   "cell_type": "code",
   "execution_count": 6,
   "metadata": {},
   "outputs": [],
   "source": [
    "# given two lists of previously loaded song sequences and their corresponding beatmap sequences,\n",
    "# append all possible sequences of the same size from a new song/beatmap pair\n",
    "def append_song(init_song, init_beatmap, song, beatmap, \n",
    "                samples_per_chunk=300, \n",
    "                chunks_per_beat=8, \n",
    "                beats_per_sequence=32,\n",
    "                dropout=0.0):\n",
    "    \n",
    "    # load the song and beatmap\n",
    "    song, beats, bpm = loadsong(song, \n",
    "                                samples_per_chunk=samples_per_chunk, \n",
    "                                chunks_per_beat=chunks_per_beat)\n",
    "    beatmap = loadbeatmap(beatmap, beats, bpm, \n",
    "                          chunks_per_beat=chunks_per_beat)\n",
    "    \n",
    "    # calculate the total number of chunks in the song\n",
    "    # the number of chunks each sequence will contain\n",
    "    # and the number of sequences of that size that exist in the song\n",
    "    num_chunks = beats * chunks_per_beat\n",
    "    chunks_per_sequence = chunks_per_beat * beats_per_sequence\n",
    "    num_sequences = num_chunks - chunks_per_sequence\n",
    "    \n",
    "    # with (1 - dropout) probability, append each song sequence to the song \n",
    "    # list and its corresponding beatmap sequence to the beatmap list\n",
    "    for i in range(num_sequences):\n",
    "        if random.random() > dropout:\n",
    "            init_song.append(song[i:i+chunks_per_sequence])\n",
    "            init_beatmap.append(beatmap[i:i+chunks_per_sequence]) \n",
    "        \n",
    "    return init_song, init_beatmap"
   ]
  },
  {
   "cell_type": "code",
   "execution_count": 7,
   "metadata": {},
   "outputs": [],
   "source": [
    "# given two numpy arrays of corresponding song and beatmap sequences\n",
    "# if a beatmap sequence has no note blocks in its center 1/divisionth section \n",
    "# (e.g. the center 1/4th of the sequence) remove the song sequence and beatmap sequence\n",
    "# from the array\n",
    "def remove_empty_sections(X, Y, division=1):\n",
    "    X_2 = []\n",
    "    Y_2 = []\n",
    "    \n",
    "    # calculate the start and end indices of the middle slices\n",
    "    sequence_size = Y.shape[1]\n",
    "    slice_start = (sequence_size * (division - 1) // (division * 2))\n",
    "    slice_end = sequence_size * (division + 1) // (division * 2)\n",
    "    \n",
    "    # for all sequences, if any notes exist in the middle slice, keep it\n",
    "    for i in range(Y.shape[0]):\n",
    "        if any(Y[i,j,k,l,0] == 0 for j in range(slice_start, slice_end)\n",
    "                                 for k in range(Y.shape[2]) \n",
    "                                 for l in range(Y.shape[3])):\n",
    "            X_2.append(X[i])\n",
    "            Y_2.append(Y[i])\n",
    "    \n",
    "    return np.array(X_2), np.array(Y_2)"
   ]
  },
  {
   "cell_type": "code",
   "execution_count": 8,
   "metadata": {},
   "outputs": [],
   "source": [
    "# randomly split X and Y into train and test data\n",
    "def train_test_split(X, Y, test_split_ratio = .2):\n",
    "    split_index = (int)((1-test_split_ratio) * X.shape[0])\n",
    "    indices = np.random.permutation(X.shape[0])\n",
    "    train_indices, test_indices = indices[:split_index], indices[split_index:]\n",
    "    x_train, x_test = X[train_indices], X[test_indices]\n",
    "    y_train, y_test = Y[train_indices], Y[test_indices]\n",
    "    \n",
    "    return (x_train, y_train), (x_test, y_test)"
   ]
  },
  {
   "cell_type": "code",
   "execution_count": 9,
   "metadata": {},
   "outputs": [],
   "source": [
    "\"\"\"This is the function that should be called to create the lists used by the get_training_data function\"\"\"\n",
    "# search the current directory and its sub directories for .ogg files with Expert beatmaps and\n",
    "# create a list of the song and json files (if an Expert beatmap does not exist, but an \n",
    "# ExpertPlus beatmap does, use the ExpertPlus beatmap)\n",
    "\n",
    "def get_song_lists(songpath=\".\"):\n",
    "    slist = [ join(dirpath, filename) for dirpath, dirnames, filenames in walk(songpath)\n",
    "                                      for filename in filenames\n",
    "                                      if filename.endswith(\".ogg\") and isfile(join(dirpath,'Expert.json')) ]\n",
    "    slist.extend([ join(dirpath, filename) for dirpath, dirnames, filenames in walk(songpath)\n",
    "                                           for filename in filenames\n",
    "                                           if filename.endswith(\".ogg\") and not isfile(join(dirpath,'Expert.json')) and isfile(join(dirpath,'ExpertPlus.json')) ])\n",
    "    blist = [ join(dirpath, 'Expert.json') for dirpath, dirnames, filenames in walk(songpath)\n",
    "                                           for filename in filenames\n",
    "                                           if filename.endswith(\".ogg\") and isfile(join(dirpath,'Expert.json')) ] \n",
    "    blist.extend([ join(dirpath, 'ExpertPlus.json') for dirpath, dirnames, filenames in walk(songpath)\n",
    "                                           for filename in filenames\n",
    "                                           if filename.endswith(\".ogg\") and not isfile(join(dirpath,'Expert.json')) and isfile(join(dirpath,'ExpertPlus.json')) ])\n",
    "    return slist, blist"
   ]
  },
  {
   "cell_type": "code",
   "execution_count": 10,
   "metadata": {},
   "outputs": [],
   "source": [
    "\"\"\"This is the function that should be called to create training data\"\"\"\n",
    "# given a list of song filenames and a list of beatmap filenames, \n",
    "# create a numpy array representing data from all of the songs and\n",
    "# a corresponding numpy array representing data from all of the beatmaps\n",
    "#\n",
    "# If the output arrays are too large, consider using dropout to thin the data\n",
    "# Usage: X, Y = get_training_data(song_list, beatmap_list)\n",
    "def get_training_data(song_list, beatmap_list, samples_per_chunk=300, chunks_per_beat=8, beats_per_sequence=32, \n",
    "                      remove_empty_sections=False, division=1, provide_test_split=False, test_split_ratio=.2,\n",
    "                      dropout=0.0):\n",
    "    \n",
    "    X, Y = append_song([], [], song_list[0], beatmap_list[0], \n",
    "                       samples_per_chunk=samples_per_chunk, \n",
    "                       chunks_per_beat=chunks_per_beat, \n",
    "                       beats_per_sequence=beats_per_sequence,\n",
    "                       dropout=dropout)\n",
    "    \n",
    "    print(\"After appending\", str(\"'\" + song_list[0] + \"':\\n\"), \"X_length:\", len(X), \"Y_length:\", len(Y))\n",
    "    \n",
    "    for x, y in zip(song_list[1:], beatmap_list[1:]):\n",
    "        X, Y = append_song(X, Y, x, y, \n",
    "                           samples_per_chunk=samples_per_chunk, \n",
    "                           chunks_per_beat=chunks_per_beat, \n",
    "                           beats_per_sequence=beats_per_sequence,\n",
    "                           dropout=dropout)\n",
    "        print(\"After appending\", str(\"'\" + x + \"':\\n\"), \"X_length:\", len(X), \"Y_length:\", len(Y))\n",
    "    \n",
    "    X = np.array(X)\n",
    "    Y = np.array(Y)\n",
    "    \n",
    "    if remove_empty_sections:\n",
    "        X, Y = remove_empty_sections(X, Y, division=division)\n",
    "        \n",
    "    if provide_test_split:\n",
    "        return train_test_split(X, Y, test_split_ratio=test_split_ratio)\n",
    "    \n",
    "    return X, Y"
   ]
  },
  {
   "cell_type": "code",
   "execution_count": 11,
   "metadata": {},
   "outputs": [],
   "source": [
    "print(end='')"
   ]
  },
  {
   "cell_type": "markdown",
   "metadata": {},
   "source": [
    "### Functions for loading/processing prediction data"
   ]
  },
  {
   "cell_type": "code",
   "execution_count": 12,
   "metadata": {},
   "outputs": [],
   "source": [
    "# convert a list containing a softmax from 0-2 and a softmax from 3-12\n",
    "# to a list of size 2 containing the indices of the max args of each softmax\n",
    "# e.g.   [.1,  .1,  .8, .05, .05, .1, .1, .1, .2, .1, .1, .1, .1]\n",
    "# yields [2, 8]\n",
    "\n",
    "def softmax_to_max(note_cell):\n",
    "    output = []\n",
    "    output.append(np.argmax(note_cell[:3]))\n",
    "    output.append(np.argmax(note_cell[3:]))\n",
    "    \n",
    "    return output"
   ]
  },
  {
   "cell_type": "code",
   "execution_count": 13,
   "metadata": {},
   "outputs": [],
   "source": [
    "# Thanks to @shouldsee from https://github.com/mpld3/mpld3/issues/434#issuecomment-340255689\n",
    "# helper class to encode numy arrays into json\n",
    "\n",
    "class NumpyEncoder(json.JSONEncoder):\n",
    "    \"\"\" Special json encoder for numpy types \"\"\"\n",
    "    def default(self, obj):\n",
    "        if isinstance(obj, (np.int_, np.intc, np.intp, np.int8,\n",
    "            np.int16, np.int32, np.int64, np.uint8,\n",
    "            np.uint16, np.uint32, np.uint64)):\n",
    "            return int(obj)\n",
    "        elif isinstance(obj, (np.float_, np.float16, np.float32, \n",
    "            np.float64)):\n",
    "            return float(obj)\n",
    "        elif isinstance(obj,(np.ndarray,)): #### This is the fix\n",
    "            return obj.tolist()\n",
    "        return json.JSONEncoder.default(self, obj)"
   ]
  },
  {
   "cell_type": "code",
   "execution_count": 14,
   "metadata": {},
   "outputs": [],
   "source": [
    "# given the y_predicted from the neural net, and a division factor,\n",
    "# stride along y_predicted and take the 1/division_factor'th slice \n",
    "# of the section (axis 0 of y_predicted) and copy it into a new \n",
    "# np array, effectively removing axis 0 from the input data resulting\n",
    "# in an array with the same number of time steps as the original\n",
    "# e.g. taking the middle 1/4th slice of size 40 sequences, the *'s are the \n",
    "# middle 10 elements, which are copied to the output array. The stride between\n",
    "# the sequences is equal to the size of the slice taken (10)\n",
    "# seq i    : |---------------**********---------------|\n",
    "# seq i+1  :  |----------------------------------------|\n",
    "# seq i+10 :           |---------------**********---------------|\n",
    "# seq i+20 :                     |---------------**********---------------|\n",
    "\n",
    "def convert_beatmap_array(nn_out, \n",
    "                          division = 1):\n",
    "\n",
    "    # number of sequences in nn_out\n",
    "    num_sequences = nn_out.shape[0]\n",
    "    # number of time steps in each sequence\n",
    "    sequence_size = nn_out.shape[1]\n",
    "    # number of time steps in the original song\n",
    "    target_size = nn_out.shape[1] + nn_out.shape[0]\n",
    "\n",
    "    # indices of the start and end of the middle 1/division'th slice of a sequence\n",
    "    slice_start = (sequence_size * (division - 1) // (division * 2))\n",
    "    slice_end = sequence_size * (division + 1) // (division * 2)\n",
    "    stride = slice_end - slice_start\n",
    "    \n",
    "    beatmap = np.zeros(shape=(target_size,3,4,13), dtype = float)\n",
    "\n",
    "    # first section of the beatmap array\n",
    "    beatmap[0:slice_end] = nn_out[0, 0:slice_end,:,:,:]\n",
    "    \n",
    "    # middle section\n",
    "    i = stride\n",
    "    while i < num_sequences:\n",
    "        beatmap[i+slice_start:i+slice_end] = nn_out[i, slice_start:slice_end,:,:,:]\n",
    "        i+=stride\n",
    "    \n",
    "    # final section \n",
    "    final_start_index = -(num_sequences - (i - stride))\n",
    "    beatmap[final_start_index:] = nn_out[num_sequences-1, final_start_index:,:,:,:]\n",
    "    \n",
    "    # convert the softmax representations to indices\n",
    "    return np.apply_along_axis(softmax_to_max, -1, beatmap)"
   ]
  },
  {
   "cell_type": "code",
   "execution_count": 15,
   "metadata": {},
   "outputs": [],
   "source": [
    "# given a numpy array representing each timestep of a whole song (i.e. the output from \n",
    "# the convert_beatmap_array function) find all of the notes and add them to a dictionary\n",
    "# in json format with all additional information beatsaber requires\n",
    "\n",
    "def convert_to_json(original_beatmap, bpm, \n",
    "                    chunks_per_beat = 8, \n",
    "                    offset = 0.0, \n",
    "                    beats_per_bar=16, \n",
    "                    note_jump_speed=10, \n",
    "                    shuffle=0, \n",
    "                    shuffle_period=0.5, \n",
    "                    version=\"1.5.0\"):\n",
    "    \n",
    "    new_beatmap = {}\n",
    "    new_beatmap['_version'] = version\n",
    "    new_beatmap['_beatsPerMinute'] = bpm\n",
    "    new_beatmap['_beatsPerBar'] = beats_per_bar\n",
    "    new_beatmap['_noteJumpSpeed'] = note_jump_speed\n",
    "    new_beatmap['_shuffle'] = shuffle\n",
    "    new_beatmap['_shufflePeriod'] = shuffle_period\n",
    "    new_beatmap['_events'] = []\n",
    "    new_beatmap['_notes'] = []\n",
    "    new_beatmap['_obstacles'] = []\n",
    "\n",
    "    new_beatmap['_notes'] = [\n",
    "        {\n",
    "            \"_time\" : (i  / chunks_per_beat) + offset,\n",
    "            \"_lineIndex\" : k,\n",
    "            \"_lineLayer\" : j,\n",
    "            \"_type\" : original_beatmap[i][j][k][0] - 1,\n",
    "            \"_cutDirection\" : original_beatmap[i][j][k][1] - 1\n",
    "        } for i in range(original_beatmap.shape[0])\n",
    "          for j in range(original_beatmap.shape[1])\n",
    "          for k in range(original_beatmap.shape[2]) if original_beatmap[i][j][k][0] != 0]\n",
    "    \n",
    "    return new_beatmap"
   ]
  },
  {
   "cell_type": "code",
   "execution_count": 16,
   "metadata": {},
   "outputs": [],
   "source": [
    "\"\"\"This is the function that should be called to convert the NN's predicted output into a playable json beatmap\"\"\"\n",
    "def export_beatmap(filename, nn_output, chunks_per_beat, bpm, \n",
    "                   division = 1,\n",
    "                   offset = 0.0,\n",
    "                   beats_per_bar=16, \n",
    "                   note_jump_speed=10,\n",
    "                   shuffle=0, \n",
    "                   shuffle_period=0.5, \n",
    "                   version=\"1.5.0\",\n",
    "                   song_name=\"none\",\n",
    "                   song_sub_name=\"none\",\n",
    "                   difficulty=\"Expert\",\n",
    "                   difficulty_rank=4):\n",
    "\n",
    "    converted_map = convert_beatmap_array(nn_output, \n",
    "                                        division=division)\n",
    "    json_beatmap = convert_to_json(converted_map, bpm, \n",
    "                                   chunks_per_beat=chunks_per_beat, \n",
    "                                   offset=offset, \n",
    "                                   beats_per_bar=beats_per_bar, \n",
    "                                   note_jump_speed=note_jump_speed, \n",
    "                                   shuffle=shuffle, \n",
    "                                   shuffle_period=shuffle_period, \n",
    "                                   version=version)\n",
    "\n",
    "    with open(filename, 'w') as outfile:\n",
    "        outfile.write(json.dumps(json_beatmap, cls=NumpyEncoder))\n",
    "        \n",
    "    info_json = {}\n",
    "    info_json['songName'] = song_name\n",
    "    info_json['songSubName'] = song_sub_name\n",
    "    info_json['authorName'] = \"Beat Shaper\"\n",
    "    info_json['beatsPerMinute'] = bpm\n",
    "    info_json['previewStartTime'] = 12\n",
    "    info_json['previewDuration'] = 10\n",
    "    info_json['coverImagePath'] = \"\"\n",
    "    info_json['environmentName'] = \"DefaultEnvironment\"\n",
    "    info_json['oneSaber'] = False\n",
    "    info_json['difficultyLevels'] = [{\"difficulty\": difficulty,\n",
    "                                      \"difficultyRank\": difficulty_rank,\n",
    "                                      \"audioPath\": \"song.ogg\",\n",
    "                                      \"jsonPath\": filename,\n",
    "                                      \"offset\": 0,\n",
    "                                      \"oldOffset\": 0,\n",
    "                                      \"chromaToggle\": \"Off\"}]\n",
    "\n",
    "    with open('info.json', 'w') as infofile:\n",
    "        infofile.write(json.dumps(info_json))"
   ]
  },
  {
   "cell_type": "code",
   "execution_count": 17,
   "metadata": {},
   "outputs": [],
   "source": [
    "\"\"\"This is the function that should be called to prepare a song for the NN's predict function\"\"\"\n",
    "# Similar functionality to the append_song function, but can be used without a corresponding beatmap\n",
    "# making it useful for getting a predicted beatmap from a song that does not have a beatmap\n",
    "def get_predict_song(song, samples_per_chunk, chunks_per_beat, beats_per_sequence):\n",
    "\n",
    "    init_song = []\n",
    "    # load the song\n",
    "    song, beats, bpm = loadsong(song, \n",
    "                                samples_per_chunk=samples_per_chunk, \n",
    "                                chunks_per_beat=chunks_per_beat)\n",
    "    \n",
    "    # calculate the total number of chunks in the song\n",
    "    # the number of chunks each sequence will contain\n",
    "    # and the number of sequences of that size that exist in the song\n",
    "    num_chunks = beats * chunks_per_beat\n",
    "    chunks_per_sequence = chunks_per_beat * beats_per_sequence\n",
    "    num_sequences = num_chunks - chunks_per_sequence\n",
    "    \n",
    "    # append every song sequence to the song list\n",
    "    for i in range(num_sequences):\n",
    "        init_song.append(song[i:i+chunks_per_sequence])\n",
    "    \n",
    "    init_song = np.array(init_song)\n",
    "    \n",
    "    return init_song, bpm"
   ]
  },
  {
   "cell_type": "markdown",
   "metadata": {},
   "source": [
    "# Neural Nets"
   ]
  },
  {
   "cell_type": "markdown",
   "metadata": {},
   "source": [
    "### Training"
   ]
  },
  {
   "cell_type": "code",
   "execution_count": 18,
   "metadata": {},
   "outputs": [],
   "source": [
    "samples_per_chunk = 300\n",
    "chunks_per_beat = 2\n",
    "beats_per_sequence = 64\n",
    "\n",
    "# changing the data_version variable only affects which data files are saved and loaded\n",
    "# change it as you see fit\n",
    "data_version = 1\n",
    "\n",
    "song_list, beatmap_list = get_song_lists(songpath=\"songs\")"
   ]
  },
  {
   "cell_type": "code",
   "execution_count": 72,
   "metadata": {},
   "outputs": [
    {
     "name": "stdout",
     "output_type": "stream",
     "text": [
      "After appending 'songs\\24K Magic\\song.ogg':\n",
      " X_length: 158 Y_length: 158\n",
      "After appending 'songs\\Apollo\\song.ogg':\n",
      " X_length: 293 Y_length: 293\n",
      "After appending 'songs\\Bad to the Bone (Steve Urkel Remix)\\song.ogg':\n",
      " X_length: 388 Y_length: 388\n",
      "After appending 'songs\\Better When I'm Dancin'\\song.ogg':\n",
      " X_length: 503 Y_length: 503\n",
      "After appending 'songs\\Burn\\song.ogg':\n",
      " X_length: 664 Y_length: 664\n",
      "After appending 'songs\\CAN'T STOP THE FEELING!\\song.ogg':\n",
      " X_length: 821 Y_length: 821\n",
      "After appending 'songs\\Don't Let Me Down (Illenium Remix)\\song.ogg':\n",
      " X_length: 954 Y_length: 954\n",
      "After appending 'songs\\Empty Threat\\song.ogg':\n",
      " X_length: 1148 Y_length: 1148\n",
      "After appending 'songs\\Fake Love\\song.ogg':\n",
      " X_length: 1355 Y_length: 1355\n",
      "After appending 'songs\\Go Bang\\song.ogg':\n",
      " X_length: 1473 Y_length: 1473\n",
      "After appending 'songs\\Heaven Rd 2\\song.ogg':\n",
      " X_length: 1610 Y_length: 1610\n",
      "After appending 'songs\\High Enough ft. Rosie Darling\\song.ogg':\n",
      " X_length: 1736 Y_length: 1736\n",
      "After appending 'songs\\Honolulu\\song.ogg':\n",
      " X_length: 1930 Y_length: 1930\n",
      "After appending 'songs\\Kamikaze\\song.ogg':\n",
      " X_length: 2091 Y_length: 2091\n",
      "After appending 'songs\\Kids\\Kids.ogg':\n",
      " X_length: 2290 Y_length: 2290\n",
      "After appending 'songs\\Midnight City\\Midnight City.ogg':\n",
      " X_length: 2419 Y_length: 2419\n",
      "After appending 'songs\\Monster Mash\\song.ogg':\n",
      " X_length: 2566 Y_length: 2566\n",
      "After appending 'songs\\Nevada (feat. Cozi Zuehlsdorff)\\song.ogg':\n",
      " X_length: 2720 Y_length: 2720\n",
      "After appending 'songs\\New Rules\\song.ogg':\n",
      " X_length: 2851 Y_length: 2851\n",
      "After appending 'songs\\On Top of the World\\song.ogg':\n",
      " X_length: 2964 Y_length: 2964\n",
      "After appending 'songs\\Polish Girl\\Polish Girl.ogg':\n",
      " X_length: 3132 Y_length: 3132\n",
      "After appending 'songs\\Pretty Girl (Cheat Codes X Cade Remix)\\song.ogg':\n",
      " X_length: 3255 Y_length: 3255\n",
      "After appending 'songs\\Shut Up and Dance\\song.ogg':\n",
      " X_length: 3389 Y_length: 3389\n",
      "After appending 'songs\\Some Nights\\song.ogg':\n",
      " X_length: 3550 Y_length: 3550\n",
      "After appending 'songs\\Suit & Tie ft. JAY Z\\song.ogg':\n",
      " X_length: 3698 Y_length: 3698\n",
      "After appending 'songs\\Under The Sea\\song.ogg':\n",
      " X_length: 3819 Y_length: 3819\n",
      "After appending 'songs\\Uptown Funk\\song.ogg':\n",
      " X_length: 4012 Y_length: 4012\n",
      "After appending 'songs\\We Built this City - Yazer 9-11-11am\\song.ogg':\n",
      " X_length: 4260 Y_length: 4260\n",
      "After appending 'songs\\What You Know (BPM Fix)\\What You Know.ogg':\n",
      " X_length: 4419 Y_length: 4419\n",
      "After appending 'songs\\Alone feat. Kyle Reynolds\\song.ogg':\n",
      " X_length: 4540 Y_length: 4540\n",
      "After appending 'songs\\Came Here for Love\\song.ogg':\n",
      " X_length: 4683 Y_length: 4683\n",
      "After appending 'songs\\Girlfriend\\song.ogg':\n",
      " X_length: 4839 Y_length: 4839\n",
      "After appending 'songs\\Heart Afire (feat. Strix)\\song.ogg':\n",
      " X_length: 4998 Y_length: 4998\n",
      "After appending 'songs\\Otter Pop (feat. Hollis)\\song.ogg':\n",
      " X_length: 5069 Y_length: 5069\n",
      "After appending 'songs\\POP STARS (KDA)\\song.ogg':\n",
      " X_length: 5173 Y_length: 5173\n",
      "After appending 'songs\\RISE\\RISE.ogg':\n",
      " X_length: 5254 Y_length: 5254\n",
      "After appending 'songs\\So Funky\\song.ogg':\n",
      " X_length: 5380 Y_length: 5380\n",
      "After appending 'songs\\The Greatest\\song.ogg':\n",
      " X_length: 5518 Y_length: 5518\n",
      "After appending 'songs\\The Heisenberg Song\\song.ogg':\n",
      " X_length: 5572 Y_length: 5572\n",
      "After appending 'songs\\The Other Side\\song.ogg':\n",
      " X_length: 5747 Y_length: 5747\n",
      "After appending 'songs\\What Christmas Means to Me\\song.ogg':\n",
      " X_length: 5892 Y_length: 5892\n",
      "After appending 'songs\\Without Me (Nurko & Miles Away Remix)\\song.ogg':\n",
      " X_length: 6146 Y_length: 6146\n",
      "X.shape: (4302, 128, 150)\n",
      "Y.shape: (4302, 128, 3, 4, 13)\n",
      "x_test.shape: (1844, 128, 150)\n",
      "y_test.shape: (1844, 128, 3, 4, 13)\n"
     ]
    }
   ],
   "source": [
    "(X, Y), (x_test, y_test) = get_training_data(song_list, beatmap_list, \n",
    "                                                         samples_per_chunk=samples_per_chunk, \n",
    "                                                         chunks_per_beat=chunks_per_beat, \n",
    "                                                         beats_per_sequence=beats_per_sequence,\n",
    "                                                         provide_test_split=True,\n",
    "                                                         test_split_ratio=.3,\n",
    "                                                         dropout=0.8)\n",
    "\n",
    "print(\"X.shape:\", X.shape)\n",
    "print(\"Y.shape:\", Y.shape)\n",
    "print(\"x_test.shape:\", x_test.shape)\n",
    "print(\"y_test.shape:\", y_test.shape)"
   ]
  },
  {
   "cell_type": "code",
   "execution_count": 73,
   "metadata": {},
   "outputs": [],
   "source": [
    "# save the data so that it may optionally be loaded again later\n",
    "# filename will be \"data_v<version>_<numberofsongs>_save_<samplesperchunk>_<chunksperbeat>_<beatspersequence>.npz\"\n",
    "np.savez('data_v' + str(data_version) + \n",
    "         '_n' + str(len(song_list)) + \n",
    "         '_save_' + str(samples_per_chunk) + \n",
    "         '_' + str(chunks_per_beat) + \n",
    "         '_' + str(beats_per_sequence) + \n",
    "         '.npz', X=X, Y=Y, x_test=x_test, y_test=y_test)"
   ]
  },
  {
   "cell_type": "code",
   "execution_count": 19,
   "metadata": {},
   "outputs": [],
   "source": [
    "npzfile = np.load('data_v' + str(data_version) + \n",
    "                  '_n' + str(len(song_list)) + \n",
    "                  '_save_' + str(samples_per_chunk) + \n",
    "                  '_' + str(chunks_per_beat) + \n",
    "                  '_' + str(beats_per_sequence) + '.npz')\n",
    "\n",
    "X = npzfile['X']\n",
    "Y = npzfile['Y']\n",
    "x_test = npzfile['x_test']\n",
    "y_test = npzfile['y_test']"
   ]
  },
  {
   "cell_type": "code",
   "execution_count": 20,
   "metadata": {},
   "outputs": [
    {
     "name": "stdout",
     "output_type": "stream",
     "text": [
      "WARNING:tensorflow:From C:\\Users\\Jack\\Anaconda3\\envs\\tensorflow\\lib\\site-packages\\tensorflow\\python\\framework\\op_def_library.py:263: colocate_with (from tensorflow.python.framework.ops) is deprecated and will be removed in a future version.\n",
      "Instructions for updating:\n",
      "Colocations handled automatically by placer.\n",
      "WARNING:tensorflow:From C:\\Users\\Jack\\Anaconda3\\envs\\tensorflow\\lib\\site-packages\\keras\\backend\\tensorflow_backend.py:3445: calling dropout (from tensorflow.python.ops.nn_ops) with keep_prob is deprecated and will be removed in a future version.\n",
      "Instructions for updating:\n",
      "Please use `rate` instead of `keep_prob`. Rate should be set to `rate = 1 - keep_prob`.\n"
     ]
    }
   ],
   "source": [
    "#Neural Net Model\n",
    "#v1 recurrent dropout .1\n",
    "#v2 changed recurrent dropout to .4\n",
    "\n",
    "# changing the model_version variable only affects which model output files are \n",
    "# saved and loaded. It can be changed it as you see fit for model saving purposes\n",
    "model_version = 4\n",
    "\n",
    "conv_filters = 128\n",
    "conv_kernel_size = (int)(X.shape[1]/1.5)\n",
    "lstm_size = 128 \n",
    "\n",
    "input_layer = keras.layers.Input(shape=(X.shape[1], X.shape[2]))\n",
    "conv_layer = keras.layers.Conv1D(conv_filters, \n",
    "                                 kernel_size=conv_kernel_size, \n",
    "                                 activation='relu',\n",
    "                                 padding='same')\n",
    "lstm_layer = keras.layers.LSTM(lstm_size, \n",
    "                               return_sequences=True, \n",
    "                               dropout=0.2, \n",
    "                               recurrent_dropout=.4)\n",
    "dense_col_layer = keras.layers.Dense(Y.shape[2]*Y.shape[3]*3)\n",
    "dense_dir_layer = keras.layers.Dense(Y.shape[2]*Y.shape[3]*10)\n",
    "reshape_col_layer = keras.layers.Reshape((Y.shape[1], Y.shape[2], Y.shape[3], 3))\n",
    "reshape_dir_layer = keras.layers.Reshape((Y.shape[1], Y.shape[2], Y.shape[3], 10))\n",
    "soft_col_layer = keras.layers.Softmax(axis=-1)\n",
    "soft_dir_layer = keras.layers.Softmax(axis=-1)\n",
    "\n",
    "conv_out = conv_layer(input_layer)\n",
    "lstm_out = lstm_layer(conv_out)\n",
    "dense_col_out = dense_col_layer(lstm_out)\n",
    "dense_dir_out = dense_dir_layer(lstm_out)\n",
    "reshape_col_out = reshape_col_layer(dense_col_out)\n",
    "reshape_dir_out = reshape_dir_layer(dense_dir_out)\n",
    "soft_col_out = soft_col_layer(reshape_col_out)\n",
    "soft_dir_out = soft_dir_layer(reshape_dir_out)\n"
   ]
  },
  {
   "cell_type": "code",
   "execution_count": 21,
   "metadata": {},
   "outputs": [
    {
     "name": "stdout",
     "output_type": "stream",
     "text": [
      "__________________________________________________________________________________________________\n",
      "Layer (type)                    Output Shape         Param #     Connected to                     \n",
      "==================================================================================================\n",
      "input_1 (InputLayer)            (None, 128, 150)     0                                            \n",
      "__________________________________________________________________________________________________\n",
      "conv1d_1 (Conv1D)               (None, 128, 128)     1632128     input_1[0][0]                    \n",
      "__________________________________________________________________________________________________\n",
      "lstm_1 (LSTM)                   (None, 128, 128)     131584      conv1d_1[0][0]                   \n",
      "__________________________________________________________________________________________________\n",
      "dense_1 (Dense)                 (None, 128, 36)      4644        lstm_1[0][0]                     \n",
      "__________________________________________________________________________________________________\n",
      "dense_2 (Dense)                 (None, 128, 120)     15480       lstm_1[0][0]                     \n",
      "__________________________________________________________________________________________________\n",
      "reshape_1 (Reshape)             (None, 128, 3, 4, 3) 0           dense_1[0][0]                    \n",
      "__________________________________________________________________________________________________\n",
      "reshape_2 (Reshape)             (None, 128, 3, 4, 10 0           dense_2[0][0]                    \n",
      "__________________________________________________________________________________________________\n",
      "softmax_1 (Softmax)             (None, 128, 3, 4, 3) 0           reshape_1[0][0]                  \n",
      "__________________________________________________________________________________________________\n",
      "softmax_2 (Softmax)             (None, 128, 3, 4, 10 0           reshape_2[0][0]                  \n",
      "==================================================================================================\n",
      "Total params: 1,783,836\n",
      "Trainable params: 1,783,836\n",
      "Non-trainable params: 0\n",
      "__________________________________________________________________________________________________\n"
     ]
    }
   ],
   "source": [
    "new_model = keras.Model(input_layer, [soft_col_out, soft_dir_out])\n",
    "new_model.compile(loss = [keras.losses.categorical_crossentropy, keras.losses.categorical_crossentropy], optimizer=keras.optimizers.Adam(), metrics=['accuracy'])\n",
    "new_model.summary()"
   ]
  },
  {
   "cell_type": "code",
   "execution_count": 22,
   "metadata": {},
   "outputs": [],
   "source": [
    "# Optionally load a preexisting model\n",
    "i_want_to_load_a_model = False\n",
    "\n",
    "if i_want_to_load_a_model:\n",
    "    new_model = keras.models.load_model(\"model_v3_n31_save_300_2_64_e40.hdf5\")"
   ]
  },
  {
   "cell_type": "code",
   "execution_count": 23,
   "metadata": {},
   "outputs": [],
   "source": [
    "# Optionally print the SVG\n",
    "i_want_to_print_the_SVG = False\n",
    "\n",
    "if i_want_to_print_the_SVG:\n",
    "    SVG(model_to_dot(new_model).create(prog='dot',format='svg'))"
   ]
  },
  {
   "cell_type": "code",
   "execution_count": 24,
   "metadata": {},
   "outputs": [],
   "source": [
    "histories = {}"
   ]
  },
  {
   "cell_type": "code",
   "execution_count": 40,
   "metadata": {},
   "outputs": [
    {
     "data": {
      "application/vnd.jupyter.widget-view+json": {
       "model_id": "d41eae6bb9f7485590ea4b10181aedbe",
       "version_major": 2,
       "version_minor": 0
      },
      "text/plain": [
       "HBox(children=(IntProgress(value=0, description='Training', max=2, style=ProgressStyle(description_width='init…"
      ]
     },
     "metadata": {},
     "output_type": "display_data"
    },
    {
     "data": {
      "application/vnd.jupyter.widget-view+json": {
       "model_id": "",
       "version_major": 2,
       "version_minor": 0
      },
      "text/plain": [
       "HBox(children=(IntProgress(value=0, description='Epoch 0', max=4302, style=ProgressStyle(description_width='in…"
      ]
     },
     "metadata": {},
     "output_type": "display_data"
    },
    {
     "data": {
      "application/vnd.jupyter.widget-view+json": {
       "model_id": "",
       "version_major": 2,
       "version_minor": 0
      },
      "text/plain": [
       "HBox(children=(IntProgress(value=0, description='Epoch 1', max=4302, style=ProgressStyle(description_width='in…"
      ]
     },
     "metadata": {},
     "output_type": "display_data"
    },
    {
     "name": "stdout",
     "output_type": "stream",
     "text": [
      "\n"
     ]
    }
   ],
   "source": [
    "batch_percent = .2\n",
    "batch_size = int(X.shape[0] * batch_percent / 100)\n",
    "epochs = 2\n",
    "history = new_model.fit(X, [Y[:,:,:,:,:3], Y[:,:,:,:,3:]],\n",
    "                   batch_size=batch_size,\n",
    "                   epochs=epochs,\n",
    "                   verbose=0,\n",
    "                   validation_data=(x_test, [y_test[:,:,:,:,:3], y_test[:,:,:,:,3:]]),\n",
    "                   callbacks=[TQDMNotebookCallback()])\n",
    "\n",
    "for data_type in history.history:\n",
    "    if data_type not in histories:\n",
    "        histories[data_type] = []\n",
    "    histories[data_type] += history.history[data_type]"
   ]
  },
  {
   "cell_type": "code",
   "execution_count": 41,
   "metadata": {},
   "outputs": [
    {
     "data": {
      "image/png": "[encoded data removed]",
      "text/plain": [
       "<Figure size 432x720 with 5 Axes>"
      ]
     },
     "metadata": {
      "needs_background": "light"
     },
     "output_type": "display_data"
    }
   ],
   "source": [
    "# plot the accuracy and loss and save the model\n",
    "\n",
    "plt.figure(1)\n",
    "\n",
    "i = 1 #because I can't for the life of me figure out how to avoid it\n",
    "for data_type in histories:\n",
    "    if not data_type.startswith('val_'):\n",
    "        val_data_type = str('val_' + data_type)\n",
    "        plt.subplot(len(histories)//2, 1, i)\n",
    "        plt.plot(histories[data_type])\n",
    "        plt.plot(histories[val_data_type])\n",
    "        if i == 1:\n",
    "            plt.title('model loss')\n",
    "        if i == 2:\n",
    "            plt.title('model color loss')\n",
    "        if i == 3:\n",
    "            plt.title('model direction loss')\n",
    "        if i == 4:\n",
    "            plt.title('model color accuracy')\n",
    "        if i == 5:\n",
    "            plt.title('model direction accuracy')    \n",
    "        plt.ylabel(data_type)\n",
    "        plt.xlabel('epoch')\n",
    "        plt.legend(['train', 'test'], loc='upper left')\n",
    "        i = i + 1\n",
    "\n",
    "plt.figure(1).set_figheight(10)\n",
    "plt.tight_layout()\n",
    "\n",
    "# save the model so that it can be loaded later\n",
    "# file name will be \"model_v<version>_<numberofsongs>_save_<samplesperchunk>_<chunksperbeat>_<beatspersequence>_e<numberofepochs>.hdf5\"\n",
    "new_model.save('model_v' + str(model_version) + \n",
    "               '_n' + str(len(song_list)) + \n",
    "               '_save_' + str(samples_per_chunk) + \n",
    "               '_' + str(chunks_per_beat) + \n",
    "               '_' + str(beats_per_sequence) + \n",
    "               '_e' + str(len(histories['val_loss'])) + '.hdf5')\n",
    "\n",
    "plt.show()"
   ]
  },
  {
   "cell_type": "code",
   "execution_count": null,
   "metadata": {},
   "outputs": [],
   "source": []
  },
  {
   "cell_type": "markdown",
   "metadata": {},
   "source": [
    "## Create a beatmap"
   ]
  },
  {
   "cell_type": "code",
   "execution_count": null,
   "metadata": {},
   "outputs": [],
   "source": []
  },
  {
   "cell_type": "code",
   "execution_count": 42,
   "metadata": {},
   "outputs": [],
   "source": [
    "nn_song, bpm = get_predict_song(\"song.ogg\", samples_per_chunk, chunks_per_beat, beats_per_sequence)"
   ]
  },
  {
   "cell_type": "code",
   "execution_count": 43,
   "metadata": {},
   "outputs": [],
   "source": [
    "nn_out = np.concatenate(new_model.predict(nn_song), axis=-1)"
   ]
  },
  {
   "cell_type": "code",
   "execution_count": 44,
   "metadata": {},
   "outputs": [],
   "source": [
    "export_beatmap(\"Expert.json\", nn_out, chunks_per_beat, bpm, \n",
    "               division=nn_out.shape[1])"
   ]
  },
  {
   "cell_type": "code",
   "execution_count": null,
   "metadata": {},
   "outputs": [],
   "source": []
  },
  {
   "cell_type": "markdown",
   "metadata": {},
   "source": [
    "## Utility functions and testing"
   ]
  },
  {
   "cell_type": "code",
   "execution_count": null,
   "metadata": {},
   "outputs": [],
   "source": []
  },
  {
   "cell_type": "code",
   "execution_count": 22,
   "metadata": {},
   "outputs": [
    {
     "name": "stdout",
     "output_type": "stream",
     "text": []
    },
    {
     "name": "stdout",
     "output_type": "stream",
     "text": [
      "32657/32657 [==============================] - 330s 10ms/step\n",
      "Accuracy: 56.28276938801756 %\n"
     ]
    }
   ],
   "source": [
    "print('Accuracy:', new_model.evaluate(X,Y)[1]*100.0,'%')"
   ]
  },
  {
   "cell_type": "code",
   "execution_count": 63,
   "metadata": {},
   "outputs": [
    {
     "name": "stdout",
     "output_type": "stream",
     "text": []
    },
    {
     "name": "stdout",
     "output_type": "stream",
     "text": [
      "419/419 [==============================] - 2s 4ms/step\n",
      "Test_Accuracy: 48.707084083898536 %\n"
     ]
    }
   ],
   "source": [
    "print('Test_Accuracy:', new_model.evaluate(x_test,y_test)[1]*100.0,'%')"
   ]
  },
  {
   "cell_type": "code",
   "execution_count": null,
   "metadata": {},
   "outputs": [],
   "source": []
  },
  {
   "cell_type": "code",
   "execution_count": 51,
   "metadata": {},
   "outputs": [],
   "source": [
    "data_version = 1"
   ]
  },
  {
   "cell_type": "code",
   "execution_count": 134,
   "metadata": {},
   "outputs": [],
   "source": [
    "model_version = 1"
   ]
  },
  {
   "cell_type": "code",
   "execution_count": null,
   "metadata": {},
   "outputs": [],
   "source": []
  }
 ],
 "metadata": {
  "kernelspec": {
   "display_name": "Python 3",
   "language": "python",
   "name": "python3"
  },
  "language_info": {
   "codemirror_mode": {
    "name": "ipython",
    "version": 3
   },
   "file_extension": ".py",
   "mimetype": "text/x-python",
   "name": "python",
   "nbconvert_exporter": "python",
   "pygments_lexer": "ipython3",
   "version": "3.7.3"
  }
 },
 "nbformat": 4,
 "nbformat_minor": 2
}
