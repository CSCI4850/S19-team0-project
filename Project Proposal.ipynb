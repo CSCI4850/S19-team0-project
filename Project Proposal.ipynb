{
 "cells": [
  {
   "cell_type": "markdown",
   "metadata": {},
   "source": [
    "# Team 0:  Pandemonium\n",
    "# Members:  Thai Do, Taylor Carrick, Nzubechukwu Molokwu, Jack Goble, Levi Shirley"
   ]
  },
  {
   "cell_type": "markdown",
   "metadata": {},
   "source": [
    "# 1. Project Aim"
   ]
  },
  {
   "cell_type": "markdown",
   "metadata": {},
   "source": [
    "To understand the project aim, understanding Beat Saber is essential .  Beat Saber is a rhythm game that has the player wielding two controllers \"shaped\" as lightsabers (one is blue and the other is red).  When the game starts, red or blue blocks will start approaching the player and they have to slash the blocks in the direction that the block shows using the saber of the specified color.  The timing of the slash is dependent on the beat of the song. The points that a player gains is dependent on the angle of the slash and the follow through.  The level not only has blocks, but also walls the player has to dodge and bombs they need to avoid slashing.  The level that the players play is what's known as a beat map.  The goal of our project is to create a neural network capable of generating fun, playable, and logical beat maps given an audio file."
   ]
  },
  {
   "cell_type": "markdown",
   "metadata": {},
   "source": [
    "# 2. Specific Roles that the Neural Net Plays"
   ]
  },
  {
   "cell_type": "markdown",
   "metadata": {},
   "source": [
    "The main role that the neural nets play is to automate the beat saber map creation process.  To accomplish this, we intend to use Keras' functional API.  The reason why we thought about using a FNN is because the problem we are facing has multiple separate classifications to it.  The classifications are as follows: does the block exist?  If it does exist, what color is it?  Also, what direction is it facing?  Right now, a functional neural network seems like a good choice to us.  With this in mind, we are planning on researching more about Convolutional Neural Networks and Recurrent Neural Networks to see if these types of NNs would be a more effective choice."
   ]
  },
  {
   "cell_type": "markdown",
   "metadata": {},
   "source": [
    "# 3. Specific Set of Data"
   ]
  },
  {
   "cell_type": "markdown",
   "metadata": {},
   "source": [
    "The data we are planning on using comes from beatsaver.com.  This website contains beat maps that we can use to feed to our neural network.  The beat maps we plan on using are top rated/played maps, with a difficulty level of either hard or expert.  The top-rated played songs are the songs that many players view to be fun, and engaging. Typically, the low-rated songs are disliked by players and are hard to quantify the quality of the map.  The reason why we want to use hard or expert difficulties is because these difficulties would more accurately represent the original song's structure."
   ]
  },
  {
   "cell_type": "markdown",
   "metadata": {},
   "source": [
    "# 4. Verifiable Testing Protocol"
   ]
  },
  {
   "cell_type": "markdown",
   "metadata": {},
   "source": [
    "Quantifying success for this project is quite different.  A \"fun and playable\" map is subjective to what each individual player views as fun and playable.  We need both a logical and subjective method to quantify the success of the project.  For the logical part, we plan on using the positioning and direction of each block to determine whether the map is good or not.  In addition to this logical method, we also plan to play the maps to see for ourselves if the beat maps are good.  Of course, having just us play the maps would not provide sufficient data.  Because of this, we also plan on uploading our generated maps on beatsaver.com and allowing people to play the songs and send feedback in the form of ratings."
   ]
  }
 ],
 "metadata": {
  "kernelspec": {
   "display_name": "Python 3",
   "language": "python",
   "name": "python3"
  },
  "language_info": {
   "codemirror_mode": {
    "name": "ipython",
    "version": 3
   },
   "file_extension": ".py",
   "mimetype": "text/x-python",
   "name": "python",
   "nbconvert_exporter": "python",
   "pygments_lexer": "ipython3",
   "version": "3.6.7"
  }
 },
 "nbformat": 4,
 "nbformat_minor": 2
}
