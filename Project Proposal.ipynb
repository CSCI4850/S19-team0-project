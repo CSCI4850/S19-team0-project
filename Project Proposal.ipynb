{
 "cells": [
  {
   "cell_type": "markdown",
   "metadata": {},
   "source": [
    "# Team 0:  Pandemonium\n",
    "# Members:  Thai Do, Taylor Carrick, Nzubechukwu Molokwu, Jack Goble, Levi Shirley"
   ]
  },
  {
   "cell_type": "markdown",
   "metadata": {},
   "source": [
    "# 1. Project Aim"
   ]
  },
  {
   "cell_type": "markdown",
   "metadata": {},
   "source": [
    "The goal of our project is to write a program that, when given an audio file, uses a neural network to create a playable, and hopefully fun, Beat Saber beatmap (level) for that song. Beat Saber is a virtual reality rhythm game in which the player wields two lightsabers and uses them to slice incoming blocks in time with the rhythm. When the game starts, red (left hand) and blue (right hand) blocks with arrows on them approach the player in sync with the rhythm. The player must then slash the blocks in the direction that the arrows indicate using the saber of the specified color. The points that a player gains is dependent on the angle of the slash and the follow through. The levels (beatmaps) not only have blocks, but also walls the player needs to dodge and bombs they must avoid slashing. We do not intend to incorporate walls or bombs for the time being, and will instead focus on the blocks alone."
   ]
  },
  {
   "cell_type": "markdown",
   "metadata": {},
   "source": [
    "# 2. Specific Roles that the Neural Net Plays"
   ]
  },
  {
   "cell_type": "markdown",
   "metadata": {},
   "source": [
    "The main role that the neural nets play is to automate the beat saber map creation process. To accomplish this, we intend to use Keras's functional API. The reason we want to use the functional API is that the neural net will need to perform multiple classifications at once, and keras's sequential API does not support this behavior in an intuitive way. The classifications we need the neural net to sort on are as follows: for any moment in time, how many blocks exist, and for each block that does exist, what color it, and what direction is it facing? Right now, a functional neural network seems like the best choice to us. With this in mind, we are planning on using convolution layers and recurrency in our neural networks to see which of these strategies is a more effective choice for generalizing what makes a \"good\" beatmap."
   ]
  },
  {
   "cell_type": "markdown",
   "metadata": {},
   "source": [
    "# 3. Specific Set of Data"
   ]
  },
  {
   "cell_type": "markdown",
   "metadata": {},
   "source": [
    "The data we are planning on using comes from beatsaver.com. Beatsaver.com is a fan website that contains user-created beatmaps (and the associated song files) that we will use as input to our neural networks. The beat maps we plan on using will be hand-selected by us, and will be top rated/played maps. We will be focusing on hard and/or expert difficulty levels, because we think that these difficulties have the most meaningful content that would be the most interesting for a neural network to learn. The top-rated played songs are the songs that many players view to be fun, and engaging. Typically, the low-rated songs are disliked by players and as such, we will not be using them to train our neural networks."
   ]
  },
  {
   "cell_type": "markdown",
   "metadata": {},
   "source": [
    "# 4. Verifiable Testing Protocol"
   ]
  },
  {
   "cell_type": "markdown",
   "metadata": {},
   "source": [
    "Quantifying success for this project is rather subjective by default. A \"fun and playable\" map is subject to what each individual player views as fun and playable. We will need to come up with an objective measure for quantifying how \"fun/playable\" a beatmap is. The easiest way to do this is probably to compare the generated output to the player-created beatmap, and award a high accuracy for when the neural network provides close to the same number of blocks. Next, we could further award accuracy if successive blocks contain a pattern that does not require the player to perform illogical or impossible moves (e.g. three down arrows in a single beat). In addition to this logical method, we also plan to play the maps to see for ourselves if the beat maps are good. Of course, having just us play the maps would not provide sufficient data. Because of this, we also plan on uploading our generated maps on beatsaver.com and allowing people to play the songs and send feedback in the form of ratings."
   ]
  }
 ],
 "metadata": {
  "kernelspec": {
   "display_name": "Python 3",
   "language": "python",
   "name": "python3"
  },
  "language_info": {
   "codemirror_mode": {
    "name": "ipython",
    "version": 3
   },
   "file_extension": ".py",
   "mimetype": "text/x-python",
   "name": "python",
   "nbconvert_exporter": "python",
   "pygments_lexer": "ipython3",
   "version": "3.6.7"
  }
 },
 "nbformat": 4,
 "nbformat_minor": 2
}
