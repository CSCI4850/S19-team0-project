{
 "cells": [
  {
   "cell_type": "code",
   "execution_count": null,
   "metadata": {},
   "outputs": [],
   "source": []
  },
  {
   "cell_type": "code",
   "execution_count": 2,
   "metadata": {},
   "outputs": [
    {
     "name": "stderr",
     "output_type": "stream",
     "text": [
      "Using TensorFlow backend.\n"
     ]
    }
   ],
   "source": [
    "# importing relevant modules\n",
    "import keras\n",
    "import tensorflow as tf\n",
    "import keras.backend as K\n",
    "import matplotlib.pyplot   as plt\n",
    "import librosa\n",
    "import numpy as np\n",
    "import json\n",
    "from statistics import stdev\n",
    "\n",
    "from pandas                import read_csv, to_datetime\n",
    "from numpy                 import reshape, array\n",
    "from datetime              import datetime\n",
    "from sklearn.preprocessing import MinMaxScaler\n",
    "from keras.layers          import Dense, Dropout, LSTM, Input, TimeDistributed\n",
    "from keras.models          import Model\n",
    "from keras_tqdm            import TQDMNotebookCallback\n",
    "from IPython.display       import SVG, display\n",
    "from keras.utils.vis_utils import model_to_dot\n",
    "from keras.callbacks       import EarlyStopping\n",
    "from keras.layers import Conv2DTranspose\n",
    "\n",
    "%matplotlib inline\n"
   ]
  },
  {
   "cell_type": "code",
   "execution_count": 3,
   "metadata": {},
   "outputs": [],
   "source": [
    "samples_per_chunk = 300\n",
    "num_chunks_per_slice = 65\n",
    "num_chunks_per_beat = 8"
   ]
  },
  {
   "cell_type": "code",
   "execution_count": 4,
   "metadata": {},
   "outputs": [],
   "source": [
    "def loadbeatmap(beatmap, num_beats, num_chunks_per_beat=8):\n",
    "    if beatmap[len(beatmap)-5:len(beatmap)] != \".json\":\n",
    "        print(\"Beatmap file \" + audio + \" is not of type .json\")\n",
    "        return -1\n",
    "    \n",
    "    with open(beatmap) as f:\n",
    "        data = json.load(f)\n",
    "  \n",
    "    notes = \"_notes\"\n",
    "    time = \"_time\"\n",
    "    line_index = \"_lineIndex\" #column number\n",
    "    line_layer = \"_lineLayer\" #row number\n",
    "    note_color = \"_type\" #0 is one color and 1 is the other\n",
    "    cut_direction = \"_cutDirection\"#9 cut directions\n",
    "\n",
    "    dim_0 = num_beats * num_chunks_per_beat\n",
    "    \n",
    "    # number of rows and columns in the playfield\n",
    "    # number of cells in the playfield (each cell can hold at most 1 note)\n",
    "    playfield_rows = 3\n",
    "    playfield_cols = 4\n",
    "    playfield_cell_count = playfield_rows * playfield_cols\n",
    "    \n",
    "    # number of colors (2): red, blue (order unknown)\n",
    "    # number of directions notes can face (9): \n",
    "    # up, down, left, right, up-left, up-right, down-left, down-right, dot (order unknown)\n",
    "    note_color_count = 2\n",
    "    note_direction_count = 9\n",
    "    \n",
    "    # dimensions for a 'one-hot' representation of a single time unit (chunk)\n",
    "    dim_1 = playfield_rows\n",
    "    dim_2 = playfield_cols\n",
    "    dim_3 = (note_color_count + 1) + note_direction_count\n",
    "    \n",
    "    # initialize matrix to zeros, then set the \"no note\" bit for each block at each timestep to 1\n",
    "    outMatrix = np.zeros(shape=(dim_0, dim_1, dim_2, dim_3))\n",
    "    outMatrix[:,:,:,0] = 1\n",
    "    \n",
    "\n",
    "    # for every note in the beatmap, set the color and direction bits for the proper cell to 1\n",
    "    for n in range(len(data[notes])):\n",
    "        entry = int(np.round(data[notes][n][time]*num_chunks_per_beat)) #convert time to row index by rounding to nearest 1/8 beat\n",
    "        if data[notes][n][note_color] < 2:\n",
    "            outMatrix[entry] \\\n",
    "                     [data[notes][n][line_layer]] \\\n",
    "                     [data[notes][n][line_index]] \\\n",
    "                     [data[notes][n][note_color]+1] = 1\n",
    "            outMatrix[entry] \\\n",
    "                     [data[notes][n][line_layer]] \\\n",
    "                     [data[notes][n][line_index]] \\\n",
    "                     [0] = 0\n",
    "            outMatrix[entry] \\\n",
    "                     [data[notes][n][line_layer]] \\\n",
    "                     [data[notes][n][line_index]] \\\n",
    "                     [data[notes][n][cut_direction]+3] = 1\n",
    "\n",
    "    return outMatrix"
   ]
  },
  {
   "cell_type": "code",
   "execution_count": 5,
   "metadata": {},
   "outputs": [],
   "source": [
    "def mean_center(x): \n",
    "    return (x - np.apply_along_axis(np.mean, 0, x) )"
   ]
  },
  {
   "cell_type": "code",
   "execution_count": 6,
   "metadata": {},
   "outputs": [],
   "source": [
    "def loadsong(audio, samples_per_chunk=300, num_chunks_per_slice=65, num_chunks_per_beat=8, verbose=0):\n",
    "    if audio[len(audio)-4:len(audio)] != \".ogg\":\n",
    "        print(\"Audio file \" + audio + \" is not of type .ogg\")\n",
    "        return -1\n",
    "    \n",
    "    y, sr = librosa.load(audio)\n",
    "    \n",
    "    song_length = librosa.get_duration(y=y,sr=sr) / 60.0\n",
    "    tempo = np.round(librosa.beat.tempo(y, sr=sr))\n",
    "    new_sample_rate = (tempo/200)*8000\n",
    "    \n",
    "    y = librosa.resample(y, sr, new_sample_rate)\n",
    "    \n",
    "    number_of_beats = int(tempo * song_length)\n",
    "    \n",
    "    return y[0:(len(y)//(samples_per_chunk*num_chunks_per_beat)*(samples_per_chunk*num_chunks_per_beat))], new_sample_rate, number_of_beats"
   ]
  },
  {
   "cell_type": "code",
   "execution_count": 7,
   "metadata": {},
   "outputs": [],
   "source": [
    "def prep_song(song, sample_per_chunk = 300):\n",
    "    song_y = song.reshape(len(song)//300,300)\n",
    "    song_fft = np.abs(np.apply_along_axis(np.fft.fft, 1, song_y))[:,0:(int)(samples_per_chunk/2)+1]\n",
    "    song_fft_mc = np.apply_along_axis(mean_center, 0, song_fft)\n",
    "    return song_fft_mc"
   ]
  },
  {
   "cell_type": "code",
   "execution_count": 8,
   "metadata": {},
   "outputs": [],
   "source": [
    "def append_song(init_song, init_beatmap, song_filepath, beatmap_filepath, num_chunks_per_beat = 8):\n",
    "    loaded_song_y, loaded_song_sr, num_beats = loadsong(song_filepath)\n",
    "    \n",
    "    prepped_song = prep_song(loaded_song_y)\n",
    "    \n",
    "    loaded_beatmap = loadbeatmap(beatmap_filepath, num_beats)\n",
    "    \n",
    "    if init_song == None and init_beatmap == None:\n",
    "        init_song = []\n",
    "        init_beatmap = []\n",
    "        \n",
    "    for i in range(num_beats*num_chunks_per_beat-256):\n",
    "        init_song.append(prepped_song[i:i+256]) \n",
    "    for i in range(num_beats*num_chunks_per_beat-256):\n",
    "        init_beatmap.append(loaded_beatmap[i:i+256]) \n",
    "    \n",
    "    init_song = np.array(init_song)\n",
    "    init_beatmap = np.array(init_beatmap)\n",
    "        \n",
    "    return init_song, init_beatmap"
   ]
  },
  {
   "cell_type": "code",
   "execution_count": 9,
   "metadata": {},
   "outputs": [],
   "source": [
    "def data_prep(song_list, beatmap_list):\n",
    "    X, Y = append_song(None, None, song_list[0], beatmap_list[0])\n",
    "    for x, y in zip(song_list[1:], beatmap_list[1:]):\n",
    "        X, Y = append_song(X, Y, x, y)\n",
    "    \n",
    "    return X, Y"
   ]
  },
  {
   "cell_type": "code",
   "execution_count": 10,
   "metadata": {},
   "outputs": [
    {
     "name": "stderr",
     "output_type": "stream",
     "text": [
      "/nfshome/apps/python-3.6.7/lib/python3.6/site-packages/scipy/fftpack/basic.py:160: FutureWarning: Using a non-tuple sequence for multidimensional indexing is deprecated; use `arr[tuple(seq)]` instead of `arr[seq]`. In the future this will be interpreted as an array index, `arr[np.array(seq)]`, which will result either in an error or a different result.\n",
      "  z[index] = x\n"
     ]
    }
   ],
   "source": [
    "X, Y  = data_prep([\"song.ogg\"], [\"Expert.json\"]) #\"song.ogg\"], [\"Expert.json\", \"Expert.json\"])"
   ]
  },
  {
   "cell_type": "code",
   "execution_count": 11,
   "metadata": {},
   "outputs": [
    {
     "data": {
      "text/plain": [
       "(3856, 256, 151)"
      ]
     },
     "execution_count": 11,
     "metadata": {},
     "output_type": "execute_result"
    }
   ],
   "source": [
    "X.shape"
   ]
  },
  {
   "cell_type": "code",
   "execution_count": 13,
   "metadata": {},
   "outputs": [
    {
     "data": {
      "text/plain": [
       "(3856, 256, 3, 4, 12)"
      ]
     },
     "execution_count": 13,
     "metadata": {},
     "output_type": "execute_result"
    }
   ],
   "source": [
    "Y.shape"
   ]
  },
  {
   "cell_type": "code",
   "execution_count": 31,
   "metadata": {},
   "outputs": [
    {
     "name": "stdout",
     "output_type": "stream",
     "text": [
      "__________________________________________________________________________________________________\n",
      "Layer (type)                    Output Shape         Param #     Connected to                     \n",
      "==================================================================================================\n",
      "input_20 (InputLayer)           (None, 256, 151)     0                                            \n",
      "__________________________________________________________________________________________________\n",
      "conv1d_31 (Conv1D)              (None, 144, 32)      546048      input_20[0][0]                   \n",
      "__________________________________________________________________________________________________\n",
      "lstm_19 (LSTM)                  (None, 144, 100)     53200       conv1d_31[0][0]                  \n",
      "__________________________________________________________________________________________________\n",
      "up_sampling1d_11 (UpSampling1D) (None, 288, 100)     0           lstm_19[0][0]                    \n",
      "__________________________________________________________________________________________________\n",
      "conv1d_32 (Conv1D)              (None, 256, 144)     475344      up_sampling1d_11[0][0]           \n",
      "__________________________________________________________________________________________________\n",
      "reshape_19 (Reshape)            (None, 256, 3, 4, 12 0           conv1d_32[0][0]                  \n",
      "__________________________________________________________________________________________________\n",
      "dense_55 (Dense)                (None, 256, 3, 4, 9) 117         reshape_19[0][0]                 \n",
      "__________________________________________________________________________________________________\n",
      "dense_56 (Dense)                (None, 256, 3, 4, 3) 39          reshape_19[0][0]                 \n",
      "__________________________________________________________________________________________________\n",
      "concatenate_16 (Concatenate)    (None, 256, 3, 4, 12 0           dense_55[0][0]                   \n",
      "                                                                 dense_56[0][0]                   \n",
      "==================================================================================================\n",
      "Total params: 1,074,748\n",
      "Trainable params: 1,074,748\n",
      "Non-trainable params: 0\n",
      "__________________________________________________________________________________________________\n"
     ]
    },
    {
     "data": {
      "image/svg+xml": [
       "<svg height=\"556pt\" viewBox=\"0.00 0.00 244.00 556.00\" width=\"244pt\" xmlns=\"http://www.w3.org/2000/svg\" xmlns:xlink=\"http://www.w3.org/1999/xlink\">\n",
       "<g class=\"graph\" id=\"graph0\" transform=\"scale(1 1) rotate(0) translate(4 552)\">\n",
       "<title>G</title>\n",
       "<polygon fill=\"white\" points=\"-4,4 -4,-552 240,-552 240,4 -4,4\" stroke=\"none\"/>\n",
       "<!-- 140424982837232 -->\n",
       "<g class=\"node\" id=\"node1\"><title>140424982837232</title>\n",
       "<polygon fill=\"none\" points=\"51.5,-511.5 51.5,-547.5 183.5,-547.5 183.5,-511.5 51.5,-511.5\" stroke=\"black\"/>\n",
       "<text font-family=\"Times,serif\" font-size=\"14.00\" text-anchor=\"middle\" x=\"117.5\" y=\"-525.8\">input_20: InputLayer</text>\n",
       "</g>\n",
       "<!-- 140424982837288 -->\n",
       "<g class=\"node\" id=\"node2\"><title>140424982837288</title>\n",
       "<polygon fill=\"none\" points=\"52.5,-438.5 52.5,-474.5 182.5,-474.5 182.5,-438.5 52.5,-438.5\" stroke=\"black\"/>\n",
       "<text font-family=\"Times,serif\" font-size=\"14.00\" text-anchor=\"middle\" x=\"117.5\" y=\"-452.8\">conv1d_31: Conv1D</text>\n",
       "</g>\n",
       "<!-- 140424982837232&#45;&gt;140424982837288 -->\n",
       "<g class=\"edge\" id=\"edge1\"><title>140424982837232-&gt;140424982837288</title>\n",
       "<path d=\"M117.5,-511.313C117.5,-503.289 117.5,-493.547 117.5,-484.569\" fill=\"none\" stroke=\"black\"/>\n",
       "<polygon fill=\"black\" points=\"121,-484.529 117.5,-474.529 114,-484.529 121,-484.529\" stroke=\"black\"/>\n",
       "</g>\n",
       "<!-- 140424982837456 -->\n",
       "<g class=\"node\" id=\"node3\"><title>140424982837456</title>\n",
       "<polygon fill=\"none\" points=\"65,-365.5 65,-401.5 170,-401.5 170,-365.5 65,-365.5\" stroke=\"black\"/>\n",
       "<text font-family=\"Times,serif\" font-size=\"14.00\" text-anchor=\"middle\" x=\"117.5\" y=\"-379.8\">lstm_19: LSTM</text>\n",
       "</g>\n",
       "<!-- 140424982837288&#45;&gt;140424982837456 -->\n",
       "<g class=\"edge\" id=\"edge2\"><title>140424982837288-&gt;140424982837456</title>\n",
       "<path d=\"M117.5,-438.313C117.5,-430.289 117.5,-420.547 117.5,-411.569\" fill=\"none\" stroke=\"black\"/>\n",
       "<polygon fill=\"black\" points=\"121,-411.529 117.5,-401.529 114,-411.529 121,-411.529\" stroke=\"black\"/>\n",
       "</g>\n",
       "<!-- 140425019927968 -->\n",
       "<g class=\"node\" id=\"node4\"><title>140425019927968</title>\n",
       "<polygon fill=\"none\" points=\"10.5,-292.5 10.5,-328.5 224.5,-328.5 224.5,-292.5 10.5,-292.5\" stroke=\"black\"/>\n",
       "<text font-family=\"Times,serif\" font-size=\"14.00\" text-anchor=\"middle\" x=\"117.5\" y=\"-306.8\">up_sampling1d_11: UpSampling1D</text>\n",
       "</g>\n",
       "<!-- 140424982837456&#45;&gt;140425019927968 -->\n",
       "<g class=\"edge\" id=\"edge3\"><title>140424982837456-&gt;140425019927968</title>\n",
       "<path d=\"M117.5,-365.313C117.5,-357.289 117.5,-347.547 117.5,-338.569\" fill=\"none\" stroke=\"black\"/>\n",
       "<polygon fill=\"black\" points=\"121,-338.529 117.5,-328.529 114,-338.529 121,-338.529\" stroke=\"black\"/>\n",
       "</g>\n",
       "<!-- 140424982839192 -->\n",
       "<g class=\"node\" id=\"node5\"><title>140424982839192</title>\n",
       "<polygon fill=\"none\" points=\"52.5,-219.5 52.5,-255.5 182.5,-255.5 182.5,-219.5 52.5,-219.5\" stroke=\"black\"/>\n",
       "<text font-family=\"Times,serif\" font-size=\"14.00\" text-anchor=\"middle\" x=\"117.5\" y=\"-233.8\">conv1d_32: Conv1D</text>\n",
       "</g>\n",
       "<!-- 140425019927968&#45;&gt;140424982839192 -->\n",
       "<g class=\"edge\" id=\"edge4\"><title>140425019927968-&gt;140424982839192</title>\n",
       "<path d=\"M117.5,-292.313C117.5,-284.289 117.5,-274.547 117.5,-265.569\" fill=\"none\" stroke=\"black\"/>\n",
       "<polygon fill=\"black\" points=\"121,-265.529 117.5,-255.529 114,-265.529 121,-265.529\" stroke=\"black\"/>\n",
       "</g>\n",
       "<!-- 140424982880496 -->\n",
       "<g class=\"node\" id=\"node6\"><title>140424982880496</title>\n",
       "<polygon fill=\"none\" points=\"52,-146.5 52,-182.5 183,-182.5 183,-146.5 52,-146.5\" stroke=\"black\"/>\n",
       "<text font-family=\"Times,serif\" font-size=\"14.00\" text-anchor=\"middle\" x=\"117.5\" y=\"-160.8\">reshape_19: Reshape</text>\n",
       "</g>\n",
       "<!-- 140424982839192&#45;&gt;140424982880496 -->\n",
       "<g class=\"edge\" id=\"edge5\"><title>140424982839192-&gt;140424982880496</title>\n",
       "<path d=\"M117.5,-219.313C117.5,-211.289 117.5,-201.547 117.5,-192.569\" fill=\"none\" stroke=\"black\"/>\n",
       "<polygon fill=\"black\" points=\"121,-192.529 117.5,-182.529 114,-192.529 121,-192.529\" stroke=\"black\"/>\n",
       "</g>\n",
       "<!-- 140424982837680 -->\n",
       "<g class=\"node\" id=\"node7\"><title>140424982837680</title>\n",
       "<polygon fill=\"none\" points=\"0,-73.5 0,-109.5 109,-109.5 109,-73.5 0,-73.5\" stroke=\"black\"/>\n",
       "<text font-family=\"Times,serif\" font-size=\"14.00\" text-anchor=\"middle\" x=\"54.5\" y=\"-87.8\">dense_55: Dense</text>\n",
       "</g>\n",
       "<!-- 140424982880496&#45;&gt;140424982837680 -->\n",
       "<g class=\"edge\" id=\"edge6\"><title>140424982880496-&gt;140424982837680</title>\n",
       "<path d=\"M102.249,-146.313C94.511,-137.592 84.9709,-126.84 76.4576,-117.246\" fill=\"none\" stroke=\"black\"/>\n",
       "<polygon fill=\"black\" points=\"78.8652,-114.686 69.6101,-109.529 73.6293,-119.332 78.8652,-114.686\" stroke=\"black\"/>\n",
       "</g>\n",
       "<!-- 140424982838520 -->\n",
       "<g class=\"node\" id=\"node8\"><title>140424982838520</title>\n",
       "<polygon fill=\"none\" points=\"127,-73.5 127,-109.5 236,-109.5 236,-73.5 127,-73.5\" stroke=\"black\"/>\n",
       "<text font-family=\"Times,serif\" font-size=\"14.00\" text-anchor=\"middle\" x=\"181.5\" y=\"-87.8\">dense_56: Dense</text>\n",
       "</g>\n",
       "<!-- 140424982880496&#45;&gt;140424982838520 -->\n",
       "<g class=\"edge\" id=\"edge7\"><title>140424982880496-&gt;140424982838520</title>\n",
       "<path d=\"M132.993,-146.313C140.932,-137.505 150.739,-126.625 159.453,-116.958\" fill=\"none\" stroke=\"black\"/>\n",
       "<polygon fill=\"black\" points=\"162.054,-119.3 166.15,-109.529 156.855,-114.613 162.054,-119.3\" stroke=\"black\"/>\n",
       "</g>\n",
       "<!-- 140424981568592 -->\n",
       "<g class=\"node\" id=\"node9\"><title>140424981568592</title>\n",
       "<polygon fill=\"none\" points=\"30,-0.5 30,-36.5 205,-36.5 205,-0.5 30,-0.5\" stroke=\"black\"/>\n",
       "<text font-family=\"Times,serif\" font-size=\"14.00\" text-anchor=\"middle\" x=\"117.5\" y=\"-14.8\">concatenate_16: Concatenate</text>\n",
       "</g>\n",
       "<!-- 140424982837680&#45;&gt;140424981568592 -->\n",
       "<g class=\"edge\" id=\"edge8\"><title>140424982837680-&gt;140424981568592</title>\n",
       "<path d=\"M69.7505,-73.3129C77.489,-64.5918 87.0291,-53.8402 95.5424,-44.2459\" fill=\"none\" stroke=\"black\"/>\n",
       "<polygon fill=\"black\" points=\"98.3707,-46.3318 102.39,-36.5288 93.1348,-41.6858 98.3707,-46.3318\" stroke=\"black\"/>\n",
       "</g>\n",
       "<!-- 140424982838520&#45;&gt;140424981568592 -->\n",
       "<g class=\"edge\" id=\"edge9\"><title>140424982838520-&gt;140424981568592</title>\n",
       "<path d=\"M166.007,-73.3129C158.068,-64.5046 148.261,-53.625 139.547,-43.9584\" fill=\"none\" stroke=\"black\"/>\n",
       "<polygon fill=\"black\" points=\"142.145,-41.6132 132.85,-36.5288 136.946,-46.3 142.145,-41.6132\" stroke=\"black\"/>\n",
       "</g>\n",
       "</g>\n",
       "</svg>"
      ],
      "text/plain": [
       "<IPython.core.display.SVG object>"
      ]
     },
     "execution_count": 31,
     "metadata": {},
     "output_type": "execute_result"
    }
   ],
   "source": [
    "#Initial Model\n",
    "\n",
    "lstm_size = 100\n",
    "input_layer = keras.layers.Input(shape=(X.shape[1], X.shape[2]))\n",
    "cnn_layer = keras.layers.Conv1D(32, kernel_size=((X.shape[1] - 143)), \n",
    "                                activation='relu',\n",
    "                                input_shape=[X.shape[1], X.shape[2]])\n",
    "lstm_layer = keras.layers.LSTM(lstm_size, return_sequences = True)\n",
    "dense_direction = keras.layers.Dense(9, activation ='softmax')\n",
    "dense_color = keras.layers.Dense(3, activation = 'softmax')\n",
    "deconv_layer = keras.layers.Conv1D(144, kernel_size=((X.shape[1] - 223)), activation='relu')\n",
    "reshaper = keras.layers.Reshape((256, 3, 4, 12))\n",
    "cnn_output = cnn_layer(input_layer)\n",
    "lstm_output = lstm_layer(cnn_output)\n",
    "\n",
    "lstm_output = keras.layers.UpSampling1D(2)(lstm_output)\n",
    "deconv_output = deconv_layer(lstm_output)\n",
    "reshape_output = reshaper(deconv_output)\n",
    "direction_output = dense_direction(reshape_output)\n",
    "color_output = dense_color(reshape_output)\n",
    "dense_inputs = [direction_output, color_output]\n",
    "final_output = keras.layers.concatenate(dense_inputs, axis = -1)\n",
    "\n",
    "new_model = keras.Model(input_layer, final_output)\n",
    "new_model.compile(loss = keras.losses.categorical_crossentropy, optimizer=keras.optimizers.Adam(), metrics=['accuracy'])\n",
    "new_model.summary()\n",
    "SVG(model_to_dot(new_model).create(prog='dot',format='svg'))\n"
   ]
  },
  {
   "cell_type": "code",
   "execution_count": 33,
   "metadata": {},
   "outputs": [
    {
     "data": {
      "application/vnd.jupyter.widget-view+json": {
       "model_id": "e707fc70999e4f4cac4754f687adcb74",
       "version_major": 2,
       "version_minor": 0
      },
      "text/plain": [
       "HBox(children=(IntProgress(value=0, description='Training', max=300, style=ProgressStyle(description_width='in…"
      ]
     },
     "metadata": {},
     "output_type": "display_data"
    },
    {
     "data": {
      "application/vnd.jupyter.widget-view+json": {
       "model_id": "",
       "version_major": 2,
       "version_minor": 0
      },
      "text/plain": [
       "HBox(children=(IntProgress(value=0, description='Epoch 0', max=3856, style=ProgressStyle(description_width='in…"
      ]
     },
     "metadata": {},
     "output_type": "display_data"
    },
    {
     "name": "stderr",
     "output_type": "stream",
     "text": [
      "IOPub message rate exceeded.\n",
      "The notebook server will temporarily stop sending output\n",
      "to the client in order to avoid crashing it.\n",
      "To change this limit, set the config variable\n",
      "`--NotebookApp.iopub_msg_rate_limit`.\n",
      "\n",
      "Current values:\n",
      "NotebookApp.iopub_msg_rate_limit=1000.0 (msgs/sec)\n",
      "NotebookApp.rate_limit_window=3.0 (secs)\n",
      "\n",
      "IOPub message rate exceeded.\n",
      "The notebook server will temporarily stop sending output\n",
      "to the client in order to avoid crashing it.\n",
      "To change this limit, set the config variable\n",
      "`--NotebookApp.iopub_msg_rate_limit`.\n",
      "\n",
      "Current values:\n",
      "NotebookApp.iopub_msg_rate_limit=1000.0 (msgs/sec)\n",
      "NotebookApp.rate_limit_window=3.0 (secs)\n",
      "\n"
     ]
    },
    {
     "name": "stdout",
     "output_type": "stream",
     "text": [
      "\n"
     ]
    },
    {
     "ename": "NameError",
     "evalue": "name 'model' is not defined",
     "output_type": "error",
     "traceback": [
      "\u001b[0;31m---------------------------------------------------------------------------\u001b[0m",
      "\u001b[0;31mNameError\u001b[0m                                 Traceback (most recent call last)",
      "\u001b[0;32m<ipython-input-33-470045214df7>\u001b[0m in \u001b[0;36m<module>\u001b[0;34m\u001b[0m\n\u001b[1;32m      6\u001b[0m                    \u001b[0mverbose\u001b[0m\u001b[0;34m=\u001b[0m\u001b[0;36m0\u001b[0m\u001b[0;34m,\u001b[0m\u001b[0;34m\u001b[0m\u001b[0;34m\u001b[0m\u001b[0m\n\u001b[1;32m      7\u001b[0m                    callbacks=[TQDMNotebookCallback()])\n\u001b[0;32m----> 8\u001b[0;31m \u001b[0mprint\u001b[0m\u001b[0;34m(\u001b[0m\u001b[0;34m'Accuracy:'\u001b[0m\u001b[0;34m,\u001b[0m \u001b[0mmodel\u001b[0m\u001b[0;34m.\u001b[0m\u001b[0mevaluate\u001b[0m\u001b[0;34m(\u001b[0m\u001b[0mX\u001b[0m\u001b[0;34m,\u001b[0m\u001b[0mY\u001b[0m\u001b[0;34m)\u001b[0m\u001b[0;34m[\u001b[0m\u001b[0;36m1\u001b[0m\u001b[0;34m]\u001b[0m\u001b[0;34m*\u001b[0m\u001b[0;36m100.0\u001b[0m\u001b[0;34m,\u001b[0m\u001b[0;34m'%'\u001b[0m\u001b[0;34m)\u001b[0m\u001b[0;34m\u001b[0m\u001b[0;34m\u001b[0m\u001b[0m\n\u001b[0m",
      "\u001b[0;31mNameError\u001b[0m: name 'model' is not defined"
     ]
    }
   ],
   "source": [
    "batch_size = 225\n",
    "epochs = 300\n",
    "history = new_model.fit(X, Y,\n",
    "                   batch_size=batch_size,\n",
    "                   epochs=epochs,\n",
    "                   verbose=0,\n",
    "                   callbacks=[TQDMNotebookCallback()])\n",
    "print('Accuracy:', model.evaluate(X,Y)[1]*100.0,'%')"
   ]
  },
  {
   "cell_type": "code",
   "execution_count": null,
   "metadata": {},
   "outputs": [],
   "source": []
  }
 ],
 "metadata": {
  "kernelspec": {
   "display_name": "Python 3",
   "language": "python",
   "name": "python3"
  },
  "language_info": {
   "codemirror_mode": {
    "name": "ipython",
    "version": 3
   },
   "file_extension": ".py",
   "mimetype": "text/x-python",
   "name": "python",
   "nbconvert_exporter": "python",
   "pygments_lexer": "ipython3",
   "version": "3.6.7"
  }
 },
 "nbformat": 4,
 "nbformat_minor": 2
}
