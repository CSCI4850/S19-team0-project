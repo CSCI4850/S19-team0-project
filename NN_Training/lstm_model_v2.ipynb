{
 "cells": [
  {
   "cell_type": "code",
   "execution_count": 1,
   "metadata": {},
   "outputs": [
    {
     "name": "stderr",
     "output_type": "stream",
     "text": [
      "Using TensorFlow backend.\n"
     ]
    }
   ],
   "source": [
    "# importing relevant modules\n",
    "import keras\n",
    "import tensorflow as tf\n",
    "import keras.backend as K\n",
    "import matplotlib.pyplot   as plt\n",
    "import librosa\n",
    "import numpy as np\n",
    "import json\n",
    "from statistics import stdev\n",
    "\n",
    "from pandas                import read_csv, to_datetime\n",
    "from numpy                 import reshape, array\n",
    "from datetime              import datetime\n",
    "from sklearn.preprocessing import MinMaxScaler\n",
    "from keras.layers          import Dense, Dropout, LSTM, Input, TimeDistributed\n",
    "from keras.models          import Model\n",
    "from keras_tqdm            import TQDMNotebookCallback\n",
    "from IPython.display       import SVG, display\n",
    "from keras.utils.vis_utils import model_to_dot\n",
    "from keras.callbacks       import EarlyStopping\n",
    "from keras.layers import Conv2DTranspose\n",
    "\n",
    "%matplotlib inline\n"
   ]
  },
  {
   "cell_type": "code",
   "execution_count": 2,
   "metadata": {},
   "outputs": [],
   "source": [
    "samples_per_chunk = 300\n",
    "num_chunks_per_slice = 65\n",
    "num_chunks_per_beat = 8\n",
    "song_filename = 'song.ogg'\n",
    "beatmap_filename = 'Expert.json'"
   ]
  },
  {
   "cell_type": "code",
   "execution_count": 3,
   "metadata": {},
   "outputs": [],
   "source": [
    "def loadbeatmap(beatmap, num_beats, num_chunks_per_beat=8):\n",
    "    if beatmap[len(beatmap)-5:len(beatmap)] != \".json\":\n",
    "        print(\"Beatmap file \" + audio + \" is not of type .json\")\n",
    "        return -1\n",
    "    \n",
    "    with open(beatmap) as f:\n",
    "        data = json.load(f)\n",
    "  \n",
    "    notes = \"_notes\"\n",
    "    time = \"_time\"\n",
    "    line_index = \"_lineIndex\" #column number\n",
    "    line_layer = \"_lineLayer\" #row number\n",
    "    note_color = \"_type\" #0 is one color and 1 is the other\n",
    "    cut_direction = \"_cutDirection\"#9 cut directions\n",
    "\n",
    "    dim_0 = num_beats * num_chunks_per_beat\n",
    "    \n",
    "    # number of rows and columns in the playfield\n",
    "    # number of cells in the playfield (each cell can hold at most 1 note)\n",
    "    playfield_rows = 3\n",
    "    playfield_cols = 4\n",
    "    playfield_cell_count = playfield_rows * playfield_cols\n",
    "    \n",
    "    # number of colors (2): red, blue (order unknown)\n",
    "    # number of directions notes can face (9): \n",
    "    # up, down, left, right, up-left, up-right, down-left, down-right, dot (order unknown)\n",
    "    note_color_count = 2\n",
    "    note_direction_count = 9\n",
    "    \n",
    "    # dimensions for a 'one-hot' representation of a single time unit (chunk)\n",
    "    dim_1 = playfield_rows\n",
    "    dim_2 = playfield_cols\n",
    "    dim_3 = (note_color_count + 1) + (note_direction_count + 1)\n",
    "    \n",
    "    # initialize matrix to zeros, then set the \"no note\" bit for each block at each timestep to 1\n",
    "    outMatrix = np.zeros(shape=(dim_0, dim_1, dim_2, dim_3))\n",
    "    outMatrix[:,:,:,0] = 1\n",
    "    outMatrix[:,:,:,3] = 1\n",
    "    \n",
    "\n",
    "    # for every note in the beatmap, set the color and direction bits for the proper cell to 1\n",
    "    for n in range(len(data[notes])):\n",
    "        entry = int(np.round(data[notes][n][time]*num_chunks_per_beat)) #convert time to row index by rounding to nearest 1/8 beat\n",
    "        if data[notes][n][note_color] < 2:\n",
    "            outMatrix[entry] \\\n",
    "                     [data[notes][n][line_layer]] \\\n",
    "                     [data[notes][n][line_index]] \\\n",
    "                     [data[notes][n][note_color]+1] = 1\n",
    "            outMatrix[entry] \\\n",
    "                     [data[notes][n][line_layer]] \\\n",
    "                     [data[notes][n][line_index]] \\\n",
    "                     [0] = 0\n",
    "            outMatrix[entry] \\\n",
    "                     [data[notes][n][line_layer]] \\\n",
    "                     [data[notes][n][line_index]] \\\n",
    "                     [data[notes][n][cut_direction]+4] = 1\n",
    "            outMatrix[entry] \\\n",
    "                     [data[notes][n][line_layer]] \\\n",
    "                     [data[notes][n][line_index]] \\\n",
    "                     [3] = 0\n",
    "\n",
    "    return outMatrix"
   ]
  },
  {
   "cell_type": "code",
   "execution_count": 4,
   "metadata": {},
   "outputs": [],
   "source": [
    "def mean_center(x): \n",
    "    return (x - np.apply_along_axis(np.mean, 0, x) )"
   ]
  },
  {
   "cell_type": "code",
   "execution_count": 5,
   "metadata": {},
   "outputs": [],
   "source": [
    "def loadsong(audio, samples_per_chunk=300, num_chunks_per_slice=65, num_chunks_per_beat=8, verbose=0):\n",
    "    if audio[len(audio)-4:len(audio)] != \".ogg\":\n",
    "        print(\"Audio file \" + audio + \" is not of type .ogg\")\n",
    "        return -1\n",
    "    \n",
    "    y, sr = librosa.load(audio)\n",
    "    \n",
    "    song_length = librosa.get_duration(y=y,sr=sr) / 60.0\n",
    "    tempo = int(np.round(librosa.beat.tempo(y, sr=sr)))\n",
    "    new_sample_rate = (tempo/200)*8000\n",
    "    \n",
    "    y = librosa.resample(y, sr, new_sample_rate)\n",
    "    \n",
    "    number_of_beats = int(tempo * song_length)\n",
    "    \n",
    "    return y[0:(len(y)//(samples_per_chunk*num_chunks_per_beat)*(samples_per_chunk*num_chunks_per_beat))], \\\n",
    "        new_sample_rate, number_of_beats, tempo"
   ]
  },
  {
   "cell_type": "code",
   "execution_count": 6,
   "metadata": {},
   "outputs": [],
   "source": [
    "def prep_song(song, sample_per_chunk = 300):\n",
    "    song_y = song.reshape(len(song)//300,300)\n",
    "    song_fft = np.abs(np.apply_along_axis(np.fft.fft, 1, song_y))[:,0:(int)(samples_per_chunk/2)+1]\n",
    "    song_fft_mc = np.apply_along_axis(mean_center, 0, song_fft)\n",
    "    return song_fft_mc"
   ]
  },
  {
   "cell_type": "code",
   "execution_count": 7,
   "metadata": {},
   "outputs": [],
   "source": [
    "def append_song(init_song, init_beatmap, song_filepath, beatmap_filepath, num_chunks_per_beat = 8, num_beats_per_sequence = 32):\n",
    "    num_chunks_per_sequence = num_chunks_per_beat * num_beats_per_sequence\n",
    "    \n",
    "    loaded_song_y, loaded_song_sr, num_beats, tempo = loadsong(song_filepath)\n",
    "    \n",
    "    prepped_song = prep_song(loaded_song_y)\n",
    "    \n",
    "    loaded_beatmap = loadbeatmap(beatmap_filepath, num_beats)\n",
    "    \n",
    "    if init_song == None and init_beatmap == None:\n",
    "        init_song = []\n",
    "        init_beatmap = []\n",
    "        \n",
    "    for i in range(num_beats*num_chunks_per_beat-num_chunks_per_sequence):\n",
    "        init_song.append(prepped_song[i:i+num_chunks_per_sequence]) \n",
    "    for i in range(num_beats*num_chunks_per_beat-num_chunks_per_sequence):\n",
    "        init_beatmap.append(loaded_beatmap[i:i+num_chunks_per_sequence]) \n",
    "    \n",
    "    init_song = np.array(init_song)\n",
    "    init_beatmap = np.array(init_beatmap)\n",
    "        \n",
    "    return init_song, init_beatmap, tempo"
   ]
  },
  {
   "cell_type": "code",
   "execution_count": 8,
   "metadata": {},
   "outputs": [],
   "source": [
    "def data_prep(song_list, beatmap_list):\n",
    "    X, Y, tempo = append_song(None, None, song_list[0], beatmap_list[0])\n",
    "    for x, y in zip(song_list[1:], beatmap_list[1:]):\n",
    "        X, Y, tempo = append_song(X, Y, x, y)\n",
    "    \n",
    "    return X, Y, tempo"
   ]
  },
  {
   "cell_type": "code",
   "execution_count": 9,
   "metadata": {},
   "outputs": [],
   "source": [
    "def softmax_to_max(note_cell):\n",
    "    output = []\n",
    "    output.append(np.argmax(note_cell[:3]))\n",
    "    output.append(np.argmax(note_cell[3:]))\n",
    "    \n",
    "    return output"
   ]
  },
  {
   "cell_type": "code",
   "execution_count": 10,
   "metadata": {},
   "outputs": [],
   "source": [
    "#Thanks to @shouldsee from https://github.com/mpld3/mpld3/issues/434#issuecomment-340255689\n",
    "\n",
    "class NumpyEncoder(json.JSONEncoder):\n",
    "    \"\"\" Special json encoder for numpy types \"\"\"\n",
    "    def default(self, obj):\n",
    "        if isinstance(obj, (np.int_, np.intc, np.intp, np.int8,\n",
    "            np.int16, np.int32, np.int64, np.uint8,\n",
    "            np.uint16, np.uint32, np.uint64)):\n",
    "            return int(obj)\n",
    "        elif isinstance(obj, (np.float_, np.float16, np.float32, \n",
    "            np.float64)):\n",
    "            return float(obj)\n",
    "        elif isinstance(obj,(np.ndarray,)): #### This is the fix\n",
    "            return obj.tolist()\n",
    "        return json.JSONEncoder.default(self, obj)"
   ]
  },
  {
   "cell_type": "code",
   "execution_count": 11,
   "metadata": {},
   "outputs": [],
   "source": [
    "def convert_beatmap_array(nn_out, division = 4):\n",
    "    original_size = nn_out.shape[0]\n",
    "    sequence_size = nn_out.shape[1]\n",
    "    target_size = nn_out.shape[1] + nn_out.shape[0]\n",
    "\n",
    "    slice_start = (sequence_size * (division - 1) // (division * 2))\n",
    "    slice_end = sequence_size * (division + 1) // (division * 2)\n",
    "    slice_size = slice_end - slice_start\n",
    "    \n",
    "    beatmap = np.zeros(shape=(target_size,3,4,13), dtype = float)\n",
    "    #first section of the beatmap array\n",
    "    beatmap[0:slice_end] = nn_out[0, 0:slice_end,:,:,:]\n",
    "    \n",
    "    #middle section\n",
    "    i = slice_size\n",
    "    while i < original_size:\n",
    "        beatmap[i+slice_start:i+slice_end] = nn_out[i, slice_start:slice_end,:,:,:]\n",
    "        i+=slice_size\n",
    "    \n",
    "    #final section \n",
    "    final_start_index = -(original_size - (i - slice_size))\n",
    "    print(final_start_index)\n",
    "    \n",
    "    beatmap[final_start_index:target_size] = nn_out[original_size-1, final_start_index:sequence_size,:,:,:]\n",
    "    \n",
    "    return beatmap"
   ]
  },
  {
   "cell_type": "code",
   "execution_count": 12,
   "metadata": {},
   "outputs": [],
   "source": [
    "def convert_to_json(original_beatmap, bpm, chunks_per_beat = 8, offset = 0.0, beats_per_bar=16, \n",
    "                    note_jump_speed=10, shuffle=0, shuffle_period=0.5, version=\"1.5.0\"):\n",
    "    \n",
    "    new_beatmap = {}\n",
    "    new_beatmap['_version'] = version\n",
    "    new_beatmap['_beatsPerMinute'] = bpm\n",
    "    new_beatmap['_beatsPerBar'] = beats_per_bar\n",
    "    new_beatmap['_noteJumpSpeed'] = note_jump_speed\n",
    "    new_beatmap['_shuffle'] = shuffle\n",
    "    new_beatmap['_shufflePeriod'] = shuffle_period\n",
    "    new_beatmap['_events'] = []\n",
    "    new_beatmap['_notes'] = []\n",
    "    new_beatmap['_obstacles'] = []\n",
    "\n",
    "    new_beatmap['_notes'] = [\n",
    "        {\n",
    "            \"_time\" : (i  / chunks_per_beat) + offset,\n",
    "            \"_lineIndex\" : k,\n",
    "            \"_lineLayer\" : j,\n",
    "            \"_type\" : original_beatmap[i][j][k][0] - 1,\n",
    "            \"_cutDirection\" : original_beatmap[i][j][k][1] - 1\n",
    "        } for i in range(original_beatmap.shape[0])\n",
    "          for j in range(original_beatmap.shape[1])\n",
    "          for k in range(original_beatmap.shape[2]) if original_beatmap[i][j][k][0] != 0]\n",
    "    \n",
    "    return new_beatmap"
   ]
  },
  {
   "cell_type": "code",
   "execution_count": 13,
   "metadata": {},
   "outputs": [],
   "source": [
    "def export_beatmap(nn_output, tempo, filename = 'beatmap.json', \n",
    "                   division = 4, chunks_per_beat = 8, offset = 0.0,\n",
    "                   beats_per_bar=16, note_jump_speed=10,\n",
    "                   shuffle=0, shuffle_period=0.5, version=\"1.5.0\"):\n",
    "    \n",
    "    resized_map = convert_beatmap_array(nn_output, division)\n",
    "    converted_map = np.apply_along_axis(softmax_to_max, 3, resized_map)\n",
    "    json_beatmap = convert_to_json(converted_map, tempo, chunks_per_beat, \n",
    "                                   offset, beats_per_bar, note_jump_speed, \n",
    "                                   shuffle, shuffle_period, version)\n",
    "\n",
    "    with open(filename, 'w') as outfile:\n",
    "        outfile.write(json.dumps(json_beatmap, cls=NumpyEncoder))"
   ]
  },
  {
   "cell_type": "code",
   "execution_count": 14,
   "metadata": {},
   "outputs": [],
   "source": [
    "X, Y, tempo  = data_prep([\"Last_Dance_song.ogg\"], [\"Last_Dance_Expert.json\"]) "
   ]
  },
  {
   "cell_type": "code",
   "execution_count": 15,
   "metadata": {},
   "outputs": [
    {
     "data": {
      "text/plain": [
       "(3856, 256, 151)"
      ]
     },
     "execution_count": 15,
     "metadata": {},
     "output_type": "execute_result"
    }
   ],
   "source": [
    "X.shape"
   ]
  },
  {
   "cell_type": "code",
   "execution_count": 16,
   "metadata": {},
   "outputs": [
    {
     "data": {
      "text/plain": [
       "(3856, 256, 3, 4, 13)"
      ]
     },
     "execution_count": 16,
     "metadata": {},
     "output_type": "execute_result"
    }
   ],
   "source": [
    "Y.shape"
   ]
  },
  {
   "cell_type": "code",
   "execution_count": 17,
   "metadata": {},
   "outputs": [
    {
     "name": "stdout",
     "output_type": "stream",
     "text": [
      "__________________________________________________________________________________________________\n",
      "Layer (type)                    Output Shape         Param #     Connected to                     \n",
      "==================================================================================================\n",
      "input_1 (InputLayer)            (None, 256, 151)     0                                            \n",
      "__________________________________________________________________________________________________\n",
      "conv1d_1 (Conv1D)               (None, 128, 32)      24192       input_1[0][0]                    \n",
      "__________________________________________________________________________________________________\n",
      "conv1d_2 (Conv1D)               (None, 64, 32)       5152        conv1d_1[0][0]                   \n",
      "__________________________________________________________________________________________________\n",
      "conv1d_3 (Conv1D)               (None, 32, 32)       5152        conv1d_2[0][0]                   \n",
      "__________________________________________________________________________________________________\n",
      "flatten_1 (Flatten)             (None, 1024)         0           conv1d_3[0][0]                   \n",
      "__________________________________________________________________________________________________\n",
      "dense_1 (Dense)                 (None, 24)           24600       flatten_1[0][0]                  \n",
      "__________________________________________________________________________________________________\n",
      "reshape_1 (Reshape)             (None, 24, 1)        0           dense_1[0][0]                    \n",
      "__________________________________________________________________________________________________\n",
      "up_sampling1d_1 (UpSampling1D)  (None, 48, 1)        0           reshape_1[0][0]                  \n",
      "__________________________________________________________________________________________________\n",
      "conv1d_4 (Conv1D)               (None, 48, 13)       78          up_sampling1d_1[0][0]            \n",
      "__________________________________________________________________________________________________\n",
      "up_sampling1d_2 (UpSampling1D)  (None, 96, 13)       0           conv1d_4[0][0]                   \n",
      "__________________________________________________________________________________________________\n",
      "conv1d_5 (Conv1D)               (None, 96, 13)       858         up_sampling1d_2[0][0]            \n",
      "__________________________________________________________________________________________________\n",
      "up_sampling1d_3 (UpSampling1D)  (None, 192, 13)      0           conv1d_5[0][0]                   \n",
      "__________________________________________________________________________________________________\n",
      "conv1d_6 (Conv1D)               (None, 192, 13)      858         up_sampling1d_3[0][0]            \n",
      "__________________________________________________________________________________________________\n",
      "up_sampling1d_4 (UpSampling1D)  (None, 384, 13)      0           conv1d_6[0][0]                   \n",
      "__________________________________________________________________________________________________\n",
      "conv1d_7 (Conv1D)               (None, 384, 13)      858         up_sampling1d_4[0][0]            \n",
      "__________________________________________________________________________________________________\n",
      "up_sampling1d_5 (UpSampling1D)  (None, 768, 13)      0           conv1d_7[0][0]                   \n",
      "__________________________________________________________________________________________________\n",
      "conv1d_8 (Conv1D)               (None, 768, 13)      858         up_sampling1d_5[0][0]            \n",
      "__________________________________________________________________________________________________\n",
      "up_sampling1d_6 (UpSampling1D)  (None, 1536, 13)     0           conv1d_8[0][0]                   \n",
      "__________________________________________________________________________________________________\n",
      "conv1d_9 (Conv1D)               (None, 1536, 13)     858         up_sampling1d_6[0][0]            \n",
      "__________________________________________________________________________________________________\n",
      "up_sampling1d_7 (UpSampling1D)  (None, 3072, 13)     0           conv1d_9[0][0]                   \n",
      "__________________________________________________________________________________________________\n",
      "conv1d_10 (Conv1D)              (None, 3072, 13)     858         up_sampling1d_7[0][0]            \n",
      "__________________________________________________________________________________________________\n",
      "reshape_2 (Reshape)             (None, 256, 3, 4, 13 0           conv1d_10[0][0]                  \n",
      "__________________________________________________________________________________________________\n",
      "dense_3 (Dense)                 (None, 256, 3, 4, 10 140         reshape_2[0][0]                  \n",
      "__________________________________________________________________________________________________\n",
      "dense_2 (Dense)                 (None, 256, 3, 4, 3) 42          reshape_2[0][0]                  \n",
      "__________________________________________________________________________________________________\n",
      "concatenate_1 (Concatenate)     (None, 256, 3, 4, 13 0           dense_3[0][0]                    \n",
      "                                                                 dense_2[0][0]                    \n",
      "==================================================================================================\n",
      "Total params: 64,504\n",
      "Trainable params: 64,504\n",
      "Non-trainable params: 0\n",
      "__________________________________________________________________________________________________\n"
     ]
    },
    {
     "data": {
      "image/svg+xml": [
       "<svg height=\"1724pt\" viewBox=\"0.00 0.00 234.00 1724.00\" width=\"234pt\" xmlns=\"http://www.w3.org/2000/svg\" xmlns:xlink=\"http://www.w3.org/1999/xlink\">\n",
       "<g class=\"graph\" id=\"graph0\" transform=\"scale(1 1) rotate(0) translate(4 1720)\">\n",
       "<title>G</title>\n",
       "<polygon fill=\"white\" points=\"-4,4 -4,-1720 230,-1720 230,4 -4,4\" stroke=\"none\"/>\n",
       "<!-- 2314266334208 -->\n",
       "<g class=\"node\" id=\"node1\"><title>2314266334208</title>\n",
       "<polygon fill=\"none\" points=\"50,-1679.5 50,-1715.5 176,-1715.5 176,-1679.5 50,-1679.5\" stroke=\"black\"/>\n",
       "<text font-family=\"Times New Roman,serif\" font-size=\"14.00\" text-anchor=\"middle\" x=\"113\" y=\"-1693.8\">input_1: InputLayer</text>\n",
       "</g>\n",
       "<!-- 2314266334152 -->\n",
       "<g class=\"node\" id=\"node2\"><title>2314266334152</title>\n",
       "<polygon fill=\"none\" points=\"49.5,-1606.5 49.5,-1642.5 176.5,-1642.5 176.5,-1606.5 49.5,-1606.5\" stroke=\"black\"/>\n",
       "<text font-family=\"Times New Roman,serif\" font-size=\"14.00\" text-anchor=\"middle\" x=\"113\" y=\"-1620.8\">conv1d_1: Conv1D</text>\n",
       "</g>\n",
       "<!-- 2314266334208&#45;&gt;2314266334152 -->\n",
       "<g class=\"edge\" id=\"edge1\"><title>2314266334208-&gt;2314266334152</title>\n",
       "<path d=\"M113,-1679.31C113,-1671.29 113,-1661.55 113,-1652.57\" fill=\"none\" stroke=\"black\"/>\n",
       "<polygon fill=\"black\" points=\"116.5,-1652.53 113,-1642.53 109.5,-1652.53 116.5,-1652.53\" stroke=\"black\"/>\n",
       "</g>\n",
       "<!-- 2314266335552 -->\n",
       "<g class=\"node\" id=\"node3\"><title>2314266335552</title>\n",
       "<polygon fill=\"none\" points=\"49.5,-1533.5 49.5,-1569.5 176.5,-1569.5 176.5,-1533.5 49.5,-1533.5\" stroke=\"black\"/>\n",
       "<text font-family=\"Times New Roman,serif\" font-size=\"14.00\" text-anchor=\"middle\" x=\"113\" y=\"-1547.8\">conv1d_2: Conv1D</text>\n",
       "</g>\n",
       "<!-- 2314266334152&#45;&gt;2314266335552 -->\n",
       "<g class=\"edge\" id=\"edge2\"><title>2314266334152-&gt;2314266335552</title>\n",
       "<path d=\"M113,-1606.31C113,-1598.29 113,-1588.55 113,-1579.57\" fill=\"none\" stroke=\"black\"/>\n",
       "<polygon fill=\"black\" points=\"116.5,-1579.53 113,-1569.53 109.5,-1579.53 116.5,-1579.53\" stroke=\"black\"/>\n",
       "</g>\n",
       "<!-- 2314266335160 -->\n",
       "<g class=\"node\" id=\"node4\"><title>2314266335160</title>\n",
       "<polygon fill=\"none\" points=\"49.5,-1460.5 49.5,-1496.5 176.5,-1496.5 176.5,-1460.5 49.5,-1460.5\" stroke=\"black\"/>\n",
       "<text font-family=\"Times New Roman,serif\" font-size=\"14.00\" text-anchor=\"middle\" x=\"113\" y=\"-1474.8\">conv1d_3: Conv1D</text>\n",
       "</g>\n",
       "<!-- 2314266335552&#45;&gt;2314266335160 -->\n",
       "<g class=\"edge\" id=\"edge3\"><title>2314266335552-&gt;2314266335160</title>\n",
       "<path d=\"M113,-1533.31C113,-1525.29 113,-1515.55 113,-1506.57\" fill=\"none\" stroke=\"black\"/>\n",
       "<polygon fill=\"black\" points=\"116.5,-1506.53 113,-1496.53 109.5,-1506.53 116.5,-1506.53\" stroke=\"black\"/>\n",
       "</g>\n",
       "<!-- 2314242235976 -->\n",
       "<g class=\"node\" id=\"node5\"><title>2314242235976</title>\n",
       "<polygon fill=\"none\" points=\"58.5,-1387.5 58.5,-1423.5 167.5,-1423.5 167.5,-1387.5 58.5,-1387.5\" stroke=\"black\"/>\n",
       "<text font-family=\"Times New Roman,serif\" font-size=\"14.00\" text-anchor=\"middle\" x=\"113\" y=\"-1401.8\">flatten_1: Flatten</text>\n",
       "</g>\n",
       "<!-- 2314266335160&#45;&gt;2314242235976 -->\n",
       "<g class=\"edge\" id=\"edge4\"><title>2314266335160-&gt;2314242235976</title>\n",
       "<path d=\"M113,-1460.31C113,-1452.29 113,-1442.55 113,-1433.57\" fill=\"none\" stroke=\"black\"/>\n",
       "<polygon fill=\"black\" points=\"116.5,-1433.53 113,-1423.53 109.5,-1433.53 116.5,-1433.53\" stroke=\"black\"/>\n",
       "</g>\n",
       "<!-- 2314241817400 -->\n",
       "<g class=\"node\" id=\"node6\"><title>2314241817400</title>\n",
       "<polygon fill=\"none\" points=\"61,-1314.5 61,-1350.5 165,-1350.5 165,-1314.5 61,-1314.5\" stroke=\"black\"/>\n",
       "<text font-family=\"Times New Roman,serif\" font-size=\"14.00\" text-anchor=\"middle\" x=\"113\" y=\"-1328.8\">dense_1: Dense</text>\n",
       "</g>\n",
       "<!-- 2314242235976&#45;&gt;2314241817400 -->\n",
       "<g class=\"edge\" id=\"edge5\"><title>2314242235976-&gt;2314241817400</title>\n",
       "<path d=\"M113,-1387.31C113,-1379.29 113,-1369.55 113,-1360.57\" fill=\"none\" stroke=\"black\"/>\n",
       "<polygon fill=\"black\" points=\"116.5,-1360.53 113,-1350.53 109.5,-1360.53 116.5,-1360.53\" stroke=\"black\"/>\n",
       "</g>\n",
       "<!-- 2314241814936 -->\n",
       "<g class=\"node\" id=\"node7\"><title>2314241814936</title>\n",
       "<polygon fill=\"none\" points=\"49,-1241.5 49,-1277.5 177,-1277.5 177,-1241.5 49,-1241.5\" stroke=\"black\"/>\n",
       "<text font-family=\"Times New Roman,serif\" font-size=\"14.00\" text-anchor=\"middle\" x=\"113\" y=\"-1255.8\">reshape_1: Reshape</text>\n",
       "</g>\n",
       "<!-- 2314241817400&#45;&gt;2314241814936 -->\n",
       "<g class=\"edge\" id=\"edge6\"><title>2314241817400-&gt;2314241814936</title>\n",
       "<path d=\"M113,-1314.31C113,-1306.29 113,-1296.55 113,-1287.57\" fill=\"none\" stroke=\"black\"/>\n",
       "<polygon fill=\"black\" points=\"116.5,-1287.53 113,-1277.53 109.5,-1287.53 116.5,-1287.53\" stroke=\"black\"/>\n",
       "</g>\n",
       "<!-- 2314241815720 -->\n",
       "<g class=\"node\" id=\"node8\"><title>2314241815720</title>\n",
       "<polygon fill=\"none\" points=\"8.5,-1168.5 8.5,-1204.5 217.5,-1204.5 217.5,-1168.5 8.5,-1168.5\" stroke=\"black\"/>\n",
       "<text font-family=\"Times New Roman,serif\" font-size=\"14.00\" text-anchor=\"middle\" x=\"113\" y=\"-1182.8\">up_sampling1d_1: UpSampling1D</text>\n",
       "</g>\n",
       "<!-- 2314241814936&#45;&gt;2314241815720 -->\n",
       "<g class=\"edge\" id=\"edge7\"><title>2314241814936-&gt;2314241815720</title>\n",
       "<path d=\"M113,-1241.31C113,-1233.29 113,-1223.55 113,-1214.57\" fill=\"none\" stroke=\"black\"/>\n",
       "<polygon fill=\"black\" points=\"116.5,-1214.53 113,-1204.53 109.5,-1214.53 116.5,-1214.53\" stroke=\"black\"/>\n",
       "</g>\n",
       "<!-- 2314239266600 -->\n",
       "<g class=\"node\" id=\"node9\"><title>2314239266600</title>\n",
       "<polygon fill=\"none\" points=\"49.5,-1095.5 49.5,-1131.5 176.5,-1131.5 176.5,-1095.5 49.5,-1095.5\" stroke=\"black\"/>\n",
       "<text font-family=\"Times New Roman,serif\" font-size=\"14.00\" text-anchor=\"middle\" x=\"113\" y=\"-1109.8\">conv1d_4: Conv1D</text>\n",
       "</g>\n",
       "<!-- 2314241815720&#45;&gt;2314239266600 -->\n",
       "<g class=\"edge\" id=\"edge8\"><title>2314241815720-&gt;2314239266600</title>\n",
       "<path d=\"M113,-1168.31C113,-1160.29 113,-1150.55 113,-1141.57\" fill=\"none\" stroke=\"black\"/>\n",
       "<polygon fill=\"black\" points=\"116.5,-1141.53 113,-1131.53 109.5,-1141.53 116.5,-1141.53\" stroke=\"black\"/>\n",
       "</g>\n",
       "<!-- 2314239519880 -->\n",
       "<g class=\"node\" id=\"node10\"><title>2314239519880</title>\n",
       "<polygon fill=\"none\" points=\"8.5,-1022.5 8.5,-1058.5 217.5,-1058.5 217.5,-1022.5 8.5,-1022.5\" stroke=\"black\"/>\n",
       "<text font-family=\"Times New Roman,serif\" font-size=\"14.00\" text-anchor=\"middle\" x=\"113\" y=\"-1036.8\">up_sampling1d_2: UpSampling1D</text>\n",
       "</g>\n",
       "<!-- 2314239266600&#45;&gt;2314239519880 -->\n",
       "<g class=\"edge\" id=\"edge9\"><title>2314239266600-&gt;2314239519880</title>\n",
       "<path d=\"M113,-1095.31C113,-1087.29 113,-1077.55 113,-1068.57\" fill=\"none\" stroke=\"black\"/>\n",
       "<polygon fill=\"black\" points=\"116.5,-1068.53 113,-1058.53 109.5,-1068.53 116.5,-1068.53\" stroke=\"black\"/>\n",
       "</g>\n",
       "<!-- 2314239645960 -->\n",
       "<g class=\"node\" id=\"node11\"><title>2314239645960</title>\n",
       "<polygon fill=\"none\" points=\"49.5,-949.5 49.5,-985.5 176.5,-985.5 176.5,-949.5 49.5,-949.5\" stroke=\"black\"/>\n",
       "<text font-family=\"Times New Roman,serif\" font-size=\"14.00\" text-anchor=\"middle\" x=\"113\" y=\"-963.8\">conv1d_5: Conv1D</text>\n",
       "</g>\n",
       "<!-- 2314239519880&#45;&gt;2314239645960 -->\n",
       "<g class=\"edge\" id=\"edge10\"><title>2314239519880-&gt;2314239645960</title>\n",
       "<path d=\"M113,-1022.31C113,-1014.29 113,-1004.55 113,-995.569\" fill=\"none\" stroke=\"black\"/>\n",
       "<polygon fill=\"black\" points=\"116.5,-995.529 113,-985.529 109.5,-995.529 116.5,-995.529\" stroke=\"black\"/>\n",
       "</g>\n",
       "<!-- 2314239881056 -->\n",
       "<g class=\"node\" id=\"node12\"><title>2314239881056</title>\n",
       "<polygon fill=\"none\" points=\"8.5,-876.5 8.5,-912.5 217.5,-912.5 217.5,-876.5 8.5,-876.5\" stroke=\"black\"/>\n",
       "<text font-family=\"Times New Roman,serif\" font-size=\"14.00\" text-anchor=\"middle\" x=\"113\" y=\"-890.8\">up_sampling1d_3: UpSampling1D</text>\n",
       "</g>\n",
       "<!-- 2314239645960&#45;&gt;2314239881056 -->\n",
       "<g class=\"edge\" id=\"edge11\"><title>2314239645960-&gt;2314239881056</title>\n",
       "<path d=\"M113,-949.313C113,-941.289 113,-931.547 113,-922.569\" fill=\"none\" stroke=\"black\"/>\n",
       "<polygon fill=\"black\" points=\"116.5,-922.529 113,-912.529 109.5,-922.529 116.5,-922.529\" stroke=\"black\"/>\n",
       "</g>\n",
       "<!-- 2314239973416 -->\n",
       "<g class=\"node\" id=\"node13\"><title>2314239973416</title>\n",
       "<polygon fill=\"none\" points=\"49.5,-803.5 49.5,-839.5 176.5,-839.5 176.5,-803.5 49.5,-803.5\" stroke=\"black\"/>\n",
       "<text font-family=\"Times New Roman,serif\" font-size=\"14.00\" text-anchor=\"middle\" x=\"113\" y=\"-817.8\">conv1d_6: Conv1D</text>\n",
       "</g>\n",
       "<!-- 2314239881056&#45;&gt;2314239973416 -->\n",
       "<g class=\"edge\" id=\"edge12\"><title>2314239881056-&gt;2314239973416</title>\n",
       "<path d=\"M113,-876.313C113,-868.289 113,-858.547 113,-849.569\" fill=\"none\" stroke=\"black\"/>\n",
       "<polygon fill=\"black\" points=\"116.5,-849.529 113,-839.529 109.5,-849.529 116.5,-849.529\" stroke=\"black\"/>\n",
       "</g>\n",
       "<!-- 2314240092872 -->\n",
       "<g class=\"node\" id=\"node14\"><title>2314240092872</title>\n",
       "<polygon fill=\"none\" points=\"8.5,-730.5 8.5,-766.5 217.5,-766.5 217.5,-730.5 8.5,-730.5\" stroke=\"black\"/>\n",
       "<text font-family=\"Times New Roman,serif\" font-size=\"14.00\" text-anchor=\"middle\" x=\"113\" y=\"-744.8\">up_sampling1d_4: UpSampling1D</text>\n",
       "</g>\n",
       "<!-- 2314239973416&#45;&gt;2314240092872 -->\n",
       "<g class=\"edge\" id=\"edge13\"><title>2314239973416-&gt;2314240092872</title>\n",
       "<path d=\"M113,-803.313C113,-795.289 113,-785.547 113,-776.569\" fill=\"none\" stroke=\"black\"/>\n",
       "<polygon fill=\"black\" points=\"116.5,-776.529 113,-766.529 109.5,-776.529 116.5,-776.529\" stroke=\"black\"/>\n",
       "</g>\n",
       "<!-- 2314240264848 -->\n",
       "<g class=\"node\" id=\"node15\"><title>2314240264848</title>\n",
       "<polygon fill=\"none\" points=\"49.5,-657.5 49.5,-693.5 176.5,-693.5 176.5,-657.5 49.5,-657.5\" stroke=\"black\"/>\n",
       "<text font-family=\"Times New Roman,serif\" font-size=\"14.00\" text-anchor=\"middle\" x=\"113\" y=\"-671.8\">conv1d_7: Conv1D</text>\n",
       "</g>\n",
       "<!-- 2314240092872&#45;&gt;2314240264848 -->\n",
       "<g class=\"edge\" id=\"edge14\"><title>2314240092872-&gt;2314240264848</title>\n",
       "<path d=\"M113,-730.313C113,-722.289 113,-712.547 113,-703.569\" fill=\"none\" stroke=\"black\"/>\n",
       "<polygon fill=\"black\" points=\"116.5,-703.529 113,-693.529 109.5,-703.529 116.5,-703.529\" stroke=\"black\"/>\n",
       "</g>\n",
       "<!-- 2314240306536 -->\n",
       "<g class=\"node\" id=\"node16\"><title>2314240306536</title>\n",
       "<polygon fill=\"none\" points=\"8.5,-584.5 8.5,-620.5 217.5,-620.5 217.5,-584.5 8.5,-584.5\" stroke=\"black\"/>\n",
       "<text font-family=\"Times New Roman,serif\" font-size=\"14.00\" text-anchor=\"middle\" x=\"113\" y=\"-598.8\">up_sampling1d_5: UpSampling1D</text>\n",
       "</g>\n",
       "<!-- 2314240264848&#45;&gt;2314240306536 -->\n",
       "<g class=\"edge\" id=\"edge15\"><title>2314240264848-&gt;2314240306536</title>\n",
       "<path d=\"M113,-657.313C113,-649.289 113,-639.547 113,-630.569\" fill=\"none\" stroke=\"black\"/>\n",
       "<polygon fill=\"black\" points=\"116.5,-630.529 113,-620.529 109.5,-630.529 116.5,-630.529\" stroke=\"black\"/>\n",
       "</g>\n",
       "<!-- 2314240306368 -->\n",
       "<g class=\"node\" id=\"node17\"><title>2314240306368</title>\n",
       "<polygon fill=\"none\" points=\"49.5,-511.5 49.5,-547.5 176.5,-547.5 176.5,-511.5 49.5,-511.5\" stroke=\"black\"/>\n",
       "<text font-family=\"Times New Roman,serif\" font-size=\"14.00\" text-anchor=\"middle\" x=\"113\" y=\"-525.8\">conv1d_8: Conv1D</text>\n",
       "</g>\n",
       "<!-- 2314240306536&#45;&gt;2314240306368 -->\n",
       "<g class=\"edge\" id=\"edge16\"><title>2314240306536-&gt;2314240306368</title>\n",
       "<path d=\"M113,-584.313C113,-576.289 113,-566.547 113,-557.569\" fill=\"none\" stroke=\"black\"/>\n",
       "<polygon fill=\"black\" points=\"116.5,-557.529 113,-547.529 109.5,-557.529 116.5,-557.529\" stroke=\"black\"/>\n",
       "</g>\n",
       "<!-- 2314240792448 -->\n",
       "<g class=\"node\" id=\"node18\"><title>2314240792448</title>\n",
       "<polygon fill=\"none\" points=\"8.5,-438.5 8.5,-474.5 217.5,-474.5 217.5,-438.5 8.5,-438.5\" stroke=\"black\"/>\n",
       "<text font-family=\"Times New Roman,serif\" font-size=\"14.00\" text-anchor=\"middle\" x=\"113\" y=\"-452.8\">up_sampling1d_6: UpSampling1D</text>\n",
       "</g>\n",
       "<!-- 2314240306368&#45;&gt;2314240792448 -->\n",
       "<g class=\"edge\" id=\"edge17\"><title>2314240306368-&gt;2314240792448</title>\n",
       "<path d=\"M113,-511.313C113,-503.289 113,-493.547 113,-484.569\" fill=\"none\" stroke=\"black\"/>\n",
       "<polygon fill=\"black\" points=\"116.5,-484.529 113,-474.529 109.5,-484.529 116.5,-484.529\" stroke=\"black\"/>\n",
       "</g>\n",
       "<!-- 2314241128432 -->\n",
       "<g class=\"node\" id=\"node19\"><title>2314241128432</title>\n",
       "<polygon fill=\"none\" points=\"49.5,-365.5 49.5,-401.5 176.5,-401.5 176.5,-365.5 49.5,-365.5\" stroke=\"black\"/>\n",
       "<text font-family=\"Times New Roman,serif\" font-size=\"14.00\" text-anchor=\"middle\" x=\"113\" y=\"-379.8\">conv1d_9: Conv1D</text>\n",
       "</g>\n",
       "<!-- 2314240792448&#45;&gt;2314241128432 -->\n",
       "<g class=\"edge\" id=\"edge18\"><title>2314240792448-&gt;2314241128432</title>\n",
       "<path d=\"M113,-438.313C113,-430.289 113,-420.547 113,-411.569\" fill=\"none\" stroke=\"black\"/>\n",
       "<polygon fill=\"black\" points=\"116.5,-411.529 113,-401.529 109.5,-411.529 116.5,-411.529\" stroke=\"black\"/>\n",
       "</g>\n",
       "<!-- 2314241284976 -->\n",
       "<g class=\"node\" id=\"node20\"><title>2314241284976</title>\n",
       "<polygon fill=\"none\" points=\"8.5,-292.5 8.5,-328.5 217.5,-328.5 217.5,-292.5 8.5,-292.5\" stroke=\"black\"/>\n",
       "<text font-family=\"Times New Roman,serif\" font-size=\"14.00\" text-anchor=\"middle\" x=\"113\" y=\"-306.8\">up_sampling1d_7: UpSampling1D</text>\n",
       "</g>\n",
       "<!-- 2314241128432&#45;&gt;2314241284976 -->\n",
       "<g class=\"edge\" id=\"edge19\"><title>2314241128432-&gt;2314241284976</title>\n",
       "<path d=\"M113,-365.313C113,-357.289 113,-347.547 113,-338.569\" fill=\"none\" stroke=\"black\"/>\n",
       "<polygon fill=\"black\" points=\"116.5,-338.529 113,-328.529 109.5,-338.529 116.5,-338.529\" stroke=\"black\"/>\n",
       "</g>\n",
       "<!-- 2314242501264 -->\n",
       "<g class=\"node\" id=\"node21\"><title>2314242501264</title>\n",
       "<polygon fill=\"none\" points=\"46,-219.5 46,-255.5 180,-255.5 180,-219.5 46,-219.5\" stroke=\"black\"/>\n",
       "<text font-family=\"Times New Roman,serif\" font-size=\"14.00\" text-anchor=\"middle\" x=\"113\" y=\"-233.8\">conv1d_10: Conv1D</text>\n",
       "</g>\n",
       "<!-- 2314241284976&#45;&gt;2314242501264 -->\n",
       "<g class=\"edge\" id=\"edge20\"><title>2314241284976-&gt;2314242501264</title>\n",
       "<path d=\"M113,-292.313C113,-284.289 113,-274.547 113,-265.569\" fill=\"none\" stroke=\"black\"/>\n",
       "<polygon fill=\"black\" points=\"116.5,-265.529 113,-255.529 109.5,-265.529 116.5,-265.529\" stroke=\"black\"/>\n",
       "</g>\n",
       "<!-- 2314239266320 -->\n",
       "<g class=\"node\" id=\"node22\"><title>2314239266320</title>\n",
       "<polygon fill=\"none\" points=\"49,-146.5 49,-182.5 177,-182.5 177,-146.5 49,-146.5\" stroke=\"black\"/>\n",
       "<text font-family=\"Times New Roman,serif\" font-size=\"14.00\" text-anchor=\"middle\" x=\"113\" y=\"-160.8\">reshape_2: Reshape</text>\n",
       "</g>\n",
       "<!-- 2314242501264&#45;&gt;2314239266320 -->\n",
       "<g class=\"edge\" id=\"edge21\"><title>2314242501264-&gt;2314239266320</title>\n",
       "<path d=\"M113,-219.313C113,-211.289 113,-201.547 113,-192.569\" fill=\"none\" stroke=\"black\"/>\n",
       "<polygon fill=\"black\" points=\"116.5,-192.529 113,-182.529 109.5,-192.529 116.5,-192.529\" stroke=\"black\"/>\n",
       "</g>\n",
       "<!-- 2314242684016 -->\n",
       "<g class=\"node\" id=\"node23\"><title>2314242684016</title>\n",
       "<polygon fill=\"none\" points=\"0,-73.5 0,-109.5 104,-109.5 104,-73.5 0,-73.5\" stroke=\"black\"/>\n",
       "<text font-family=\"Times New Roman,serif\" font-size=\"14.00\" text-anchor=\"middle\" x=\"52\" y=\"-87.8\">dense_3: Dense</text>\n",
       "</g>\n",
       "<!-- 2314239266320&#45;&gt;2314242684016 -->\n",
       "<g class=\"edge\" id=\"edge22\"><title>2314239266320-&gt;2314242684016</title>\n",
       "<path d=\"M98.2336,-146.313C90.7409,-137.592 81.5036,-126.84 73.2606,-117.246\" fill=\"none\" stroke=\"black\"/>\n",
       "<polygon fill=\"black\" points=\"75.8019,-114.833 66.6304,-109.529 70.4924,-119.395 75.8019,-114.833\" stroke=\"black\"/>\n",
       "</g>\n",
       "<!-- 2314239265928 -->\n",
       "<g class=\"node\" id=\"node24\"><title>2314239265928</title>\n",
       "<polygon fill=\"none\" points=\"122,-73.5 122,-109.5 226,-109.5 226,-73.5 122,-73.5\" stroke=\"black\"/>\n",
       "<text font-family=\"Times New Roman,serif\" font-size=\"14.00\" text-anchor=\"middle\" x=\"174\" y=\"-87.8\">dense_2: Dense</text>\n",
       "</g>\n",
       "<!-- 2314239266320&#45;&gt;2314239265928 -->\n",
       "<g class=\"edge\" id=\"edge23\"><title>2314239266320-&gt;2314239265928</title>\n",
       "<path d=\"M127.766,-146.313C135.259,-137.592 144.496,-126.84 152.739,-117.246\" fill=\"none\" stroke=\"black\"/>\n",
       "<polygon fill=\"black\" points=\"155.508,-119.395 159.37,-109.529 150.198,-114.833 155.508,-119.395\" stroke=\"black\"/>\n",
       "</g>\n",
       "<!-- 2314243779552 -->\n",
       "<g class=\"node\" id=\"node25\"><title>2314243779552</title>\n",
       "<polygon fill=\"none\" points=\"26.5,-0.5 26.5,-36.5 199.5,-36.5 199.5,-0.5 26.5,-0.5\" stroke=\"black\"/>\n",
       "<text font-family=\"Times New Roman,serif\" font-size=\"14.00\" text-anchor=\"middle\" x=\"113\" y=\"-14.8\">concatenate_1: Concatenate</text>\n",
       "</g>\n",
       "<!-- 2314242684016&#45;&gt;2314243779552 -->\n",
       "<g class=\"edge\" id=\"edge24\"><title>2314242684016-&gt;2314243779552</title>\n",
       "<path d=\"M66.7664,-73.3129C74.2591,-64.5918 83.4964,-53.8402 91.7394,-44.2459\" fill=\"none\" stroke=\"black\"/>\n",
       "<polygon fill=\"black\" points=\"94.5076,-46.3947 98.3696,-36.5288 89.1981,-41.833 94.5076,-46.3947\" stroke=\"black\"/>\n",
       "</g>\n",
       "<!-- 2314239265928&#45;&gt;2314243779552 -->\n",
       "<g class=\"edge\" id=\"edge25\"><title>2314239265928-&gt;2314243779552</title>\n",
       "<path d=\"M159.234,-73.3129C151.741,-64.5918 142.504,-53.8402 134.261,-44.2459\" fill=\"none\" stroke=\"black\"/>\n",
       "<polygon fill=\"black\" points=\"136.802,-41.833 127.63,-36.5288 131.492,-46.3947 136.802,-41.833\" stroke=\"black\"/>\n",
       "</g>\n",
       "</g>\n",
       "</svg>"
      ],
      "text/plain": [
       "<IPython.core.display.SVG object>"
      ]
     },
     "execution_count": 17,
     "metadata": {},
     "output_type": "execute_result"
    }
   ],
   "source": [
    "# probably a better model\n",
    "inputs = keras.layers.Input(shape=(X.shape[1], X.shape[2]))\n",
    "x = keras.layers.Conv1D(filters=32,\n",
    "                        kernel_size=5,\n",
    "                        strides=2,\n",
    "                        activation='relu',\n",
    "                        padding='same')(inputs)\n",
    "x = keras.layers.Conv1D(filters=32,\n",
    "                        kernel_size=5,\n",
    "                        strides=2,\n",
    "                        activation='relu',\n",
    "                        padding='same')(x)\n",
    "x = keras.layers.Conv1D(filters=32,\n",
    "                        kernel_size=5,\n",
    "                        strides=2,\n",
    "                        activation='relu',\n",
    "                        padding='same')(x)\n",
    "x = keras.layers.Flatten()(x)\n",
    "x = keras.layers.Dense((256 * 3 * 4) // 2**7)(x)\n",
    "x = keras.layers.Reshape(((256 * 3 * 4) // 2**7, 1))(x) # gives a channel dimension so we can Conv1D\n",
    "\n",
    "for _ in range(7):\n",
    "    x = keras.layers.UpSampling1D(2)(x)\n",
    "    x = keras.layers.Conv1D(filters=13,\n",
    "                            kernel_size=5,\n",
    "                            strides=1,\n",
    "                            activation='relu',\n",
    "                            padding='same')(x)\n",
    "    \n",
    "x = keras.layers.Reshape((256, 3 , 4, 13))(x)\n",
    "color_output = keras.layers.Dense(3, activation='softmax')(x)\n",
    "direc_output = keras.layers.Dense(10, activation='softmax')(x)\n",
    "outputs = keras.layers.concatenate([direc_output, color_output])\n",
    "\n",
    "cnn_model = keras.Model(inputs, outputs)\n",
    "cnn_model.compile(loss=keras.losses.categorical_crossentropy,\n",
    "                     optimizer=keras.optimizers.Adam(lr=1e-3),\n",
    "                     metrics=['accuracy'])\n",
    "cnn_model.summary()\n",
    "SVG(model_to_dot(cnn_model).create(prog='dot',format='svg'))"
   ]
  },
  {
   "cell_type": "code",
   "execution_count": 18,
   "metadata": {},
   "outputs": [
    {
     "data": {
      "application/vnd.jupyter.widget-view+json": {
       "model_id": "8f7ce0b9615c467ca4bc145cdc46cfa8",
       "version_major": 2,
       "version_minor": 0
      },
      "text/plain": [
       "HBox(children=(IntProgress(value=0, description='Training', max=50, style=ProgressStyle(description_width='ini…"
      ]
     },
     "metadata": {},
     "output_type": "display_data"
    },
    {
     "data": {
      "application/vnd.jupyter.widget-view+json": {
       "model_id": "",
       "version_major": 2,
       "version_minor": 0
      },
      "text/plain": [
       "HBox(children=(IntProgress(value=0, description='Epoch 0', max=3084, style=ProgressStyle(description_width='in…"
      ]
     },
     "metadata": {},
     "output_type": "display_data"
    },
    {
     "data": {
      "application/vnd.jupyter.widget-view+json": {
       "model_id": "",
       "version_major": 2,
       "version_minor": 0
      },
      "text/plain": [
       "HBox(children=(IntProgress(value=0, description='Epoch 1', max=3084, style=ProgressStyle(description_width='in…"
      ]
     },
     "metadata": {},
     "output_type": "display_data"
    },
    {
     "data": {
      "application/vnd.jupyter.widget-view+json": {
       "model_id": "",
       "version_major": 2,
       "version_minor": 0
      },
      "text/plain": [
       "HBox(children=(IntProgress(value=0, description='Epoch 2', max=3084, style=ProgressStyle(description_width='in…"
      ]
     },
     "metadata": {},
     "output_type": "display_data"
    },
    {
     "data": {
      "application/vnd.jupyter.widget-view+json": {
       "model_id": "",
       "version_major": 2,
       "version_minor": 0
      },
      "text/plain": [
       "HBox(children=(IntProgress(value=0, description='Epoch 3', max=3084, style=ProgressStyle(description_width='in…"
      ]
     },
     "metadata": {},
     "output_type": "display_data"
    },
    {
     "data": {
      "application/vnd.jupyter.widget-view+json": {
       "model_id": "",
       "version_major": 2,
       "version_minor": 0
      },
      "text/plain": [
       "HBox(children=(IntProgress(value=0, description='Epoch 4', max=3084, style=ProgressStyle(description_width='in…"
      ]
     },
     "metadata": {},
     "output_type": "display_data"
    },
    {
     "data": {
      "application/vnd.jupyter.widget-view+json": {
       "model_id": "",
       "version_major": 2,
       "version_minor": 0
      },
      "text/plain": [
       "HBox(children=(IntProgress(value=0, description='Epoch 5', max=3084, style=ProgressStyle(description_width='in…"
      ]
     },
     "metadata": {},
     "output_type": "display_data"
    },
    {
     "data": {
      "application/vnd.jupyter.widget-view+json": {
       "model_id": "",
       "version_major": 2,
       "version_minor": 0
      },
      "text/plain": [
       "HBox(children=(IntProgress(value=0, description='Epoch 6', max=3084, style=ProgressStyle(description_width='in…"
      ]
     },
     "metadata": {},
     "output_type": "display_data"
    },
    {
     "data": {
      "application/vnd.jupyter.widget-view+json": {
       "model_id": "",
       "version_major": 2,
       "version_minor": 0
      },
      "text/plain": [
       "HBox(children=(IntProgress(value=0, description='Epoch 7', max=3084, style=ProgressStyle(description_width='in…"
      ]
     },
     "metadata": {},
     "output_type": "display_data"
    },
    {
     "data": {
      "application/vnd.jupyter.widget-view+json": {
       "model_id": "",
       "version_major": 2,
       "version_minor": 0
      },
      "text/plain": [
       "HBox(children=(IntProgress(value=0, description='Epoch 8', max=3084, style=ProgressStyle(description_width='in…"
      ]
     },
     "metadata": {},
     "output_type": "display_data"
    },
    {
     "data": {
      "application/vnd.jupyter.widget-view+json": {
       "model_id": "",
       "version_major": 2,
       "version_minor": 0
      },
      "text/plain": [
       "HBox(children=(IntProgress(value=0, description='Epoch 9', max=3084, style=ProgressStyle(description_width='in…"
      ]
     },
     "metadata": {},
     "output_type": "display_data"
    },
    {
     "data": {
      "application/vnd.jupyter.widget-view+json": {
       "model_id": "",
       "version_major": 2,
       "version_minor": 0
      },
      "text/plain": [
       "HBox(children=(IntProgress(value=0, description='Epoch 10', max=3084, style=ProgressStyle(description_width='i…"
      ]
     },
     "metadata": {},
     "output_type": "display_data"
    },
    {
     "data": {
      "application/vnd.jupyter.widget-view+json": {
       "model_id": "",
       "version_major": 2,
       "version_minor": 0
      },
      "text/plain": [
       "HBox(children=(IntProgress(value=0, description='Epoch 11', max=3084, style=ProgressStyle(description_width='i…"
      ]
     },
     "metadata": {},
     "output_type": "display_data"
    },
    {
     "data": {
      "application/vnd.jupyter.widget-view+json": {
       "model_id": "",
       "version_major": 2,
       "version_minor": 0
      },
      "text/plain": [
       "HBox(children=(IntProgress(value=0, description='Epoch 12', max=3084, style=ProgressStyle(description_width='i…"
      ]
     },
     "metadata": {},
     "output_type": "display_data"
    },
    {
     "data": {
      "application/vnd.jupyter.widget-view+json": {
       "model_id": "",
       "version_major": 2,
       "version_minor": 0
      },
      "text/plain": [
       "HBox(children=(IntProgress(value=0, description='Epoch 13', max=3084, style=ProgressStyle(description_width='i…"
      ]
     },
     "metadata": {},
     "output_type": "display_data"
    },
    {
     "data": {
      "application/vnd.jupyter.widget-view+json": {
       "model_id": "",
       "version_major": 2,
       "version_minor": 0
      },
      "text/plain": [
       "HBox(children=(IntProgress(value=0, description='Epoch 14', max=3084, style=ProgressStyle(description_width='i…"
      ]
     },
     "metadata": {},
     "output_type": "display_data"
    },
    {
     "data": {
      "application/vnd.jupyter.widget-view+json": {
       "model_id": "",
       "version_major": 2,
       "version_minor": 0
      },
      "text/plain": [
       "HBox(children=(IntProgress(value=0, description='Epoch 15', max=3084, style=ProgressStyle(description_width='i…"
      ]
     },
     "metadata": {},
     "output_type": "display_data"
    },
    {
     "data": {
      "application/vnd.jupyter.widget-view+json": {
       "model_id": "",
       "version_major": 2,
       "version_minor": 0
      },
      "text/plain": [
       "HBox(children=(IntProgress(value=0, description='Epoch 16', max=3084, style=ProgressStyle(description_width='i…"
      ]
     },
     "metadata": {},
     "output_type": "display_data"
    },
    {
     "data": {
      "application/vnd.jupyter.widget-view+json": {
       "model_id": "",
       "version_major": 2,
       "version_minor": 0
      },
      "text/plain": [
       "HBox(children=(IntProgress(value=0, description='Epoch 17', max=3084, style=ProgressStyle(description_width='i…"
      ]
     },
     "metadata": {},
     "output_type": "display_data"
    },
    {
     "data": {
      "application/vnd.jupyter.widget-view+json": {
       "model_id": "",
       "version_major": 2,
       "version_minor": 0
      },
      "text/plain": [
       "HBox(children=(IntProgress(value=0, description='Epoch 18', max=3084, style=ProgressStyle(description_width='i…"
      ]
     },
     "metadata": {},
     "output_type": "display_data"
    },
    {
     "data": {
      "application/vnd.jupyter.widget-view+json": {
       "model_id": "",
       "version_major": 2,
       "version_minor": 0
      },
      "text/plain": [
       "HBox(children=(IntProgress(value=0, description='Epoch 19', max=3084, style=ProgressStyle(description_width='i…"
      ]
     },
     "metadata": {},
     "output_type": "display_data"
    },
    {
     "data": {
      "application/vnd.jupyter.widget-view+json": {
       "model_id": "",
       "version_major": 2,
       "version_minor": 0
      },
      "text/plain": [
       "HBox(children=(IntProgress(value=0, description='Epoch 20', max=3084, style=ProgressStyle(description_width='i…"
      ]
     },
     "metadata": {},
     "output_type": "display_data"
    },
    {
     "data": {
      "application/vnd.jupyter.widget-view+json": {
       "model_id": "",
       "version_major": 2,
       "version_minor": 0
      },
      "text/plain": [
       "HBox(children=(IntProgress(value=0, description='Epoch 21', max=3084, style=ProgressStyle(description_width='i…"
      ]
     },
     "metadata": {},
     "output_type": "display_data"
    },
    {
     "data": {
      "application/vnd.jupyter.widget-view+json": {
       "model_id": "",
       "version_major": 2,
       "version_minor": 0
      },
      "text/plain": [
       "HBox(children=(IntProgress(value=0, description='Epoch 22', max=3084, style=ProgressStyle(description_width='i…"
      ]
     },
     "metadata": {},
     "output_type": "display_data"
    },
    {
     "data": {
      "application/vnd.jupyter.widget-view+json": {
       "model_id": "",
       "version_major": 2,
       "version_minor": 0
      },
      "text/plain": [
       "HBox(children=(IntProgress(value=0, description='Epoch 23', max=3084, style=ProgressStyle(description_width='i…"
      ]
     },
     "metadata": {},
     "output_type": "display_data"
    },
    {
     "data": {
      "application/vnd.jupyter.widget-view+json": {
       "model_id": "",
       "version_major": 2,
       "version_minor": 0
      },
      "text/plain": [
       "HBox(children=(IntProgress(value=0, description='Epoch 24', max=3084, style=ProgressStyle(description_width='i…"
      ]
     },
     "metadata": {},
     "output_type": "display_data"
    },
    {
     "data": {
      "application/vnd.jupyter.widget-view+json": {
       "model_id": "",
       "version_major": 2,
       "version_minor": 0
      },
      "text/plain": [
       "HBox(children=(IntProgress(value=0, description='Epoch 25', max=3084, style=ProgressStyle(description_width='i…"
      ]
     },
     "metadata": {},
     "output_type": "display_data"
    },
    {
     "data": {
      "application/vnd.jupyter.widget-view+json": {
       "model_id": "",
       "version_major": 2,
       "version_minor": 0
      },
      "text/plain": [
       "HBox(children=(IntProgress(value=0, description='Epoch 26', max=3084, style=ProgressStyle(description_width='i…"
      ]
     },
     "metadata": {},
     "output_type": "display_data"
    },
    {
     "data": {
      "application/vnd.jupyter.widget-view+json": {
       "model_id": "",
       "version_major": 2,
       "version_minor": 0
      },
      "text/plain": [
       "HBox(children=(IntProgress(value=0, description='Epoch 27', max=3084, style=ProgressStyle(description_width='i…"
      ]
     },
     "metadata": {},
     "output_type": "display_data"
    },
    {
     "data": {
      "application/vnd.jupyter.widget-view+json": {
       "model_id": "",
       "version_major": 2,
       "version_minor": 0
      },
      "text/plain": [
       "HBox(children=(IntProgress(value=0, description='Epoch 28', max=3084, style=ProgressStyle(description_width='i…"
      ]
     },
     "metadata": {},
     "output_type": "display_data"
    },
    {
     "data": {
      "application/vnd.jupyter.widget-view+json": {
       "model_id": "",
       "version_major": 2,
       "version_minor": 0
      },
      "text/plain": [
       "HBox(children=(IntProgress(value=0, description='Epoch 29', max=3084, style=ProgressStyle(description_width='i…"
      ]
     },
     "metadata": {},
     "output_type": "display_data"
    },
    {
     "data": {
      "application/vnd.jupyter.widget-view+json": {
       "model_id": "",
       "version_major": 2,
       "version_minor": 0
      },
      "text/plain": [
       "HBox(children=(IntProgress(value=0, description='Epoch 30', max=3084, style=ProgressStyle(description_width='i…"
      ]
     },
     "metadata": {},
     "output_type": "display_data"
    },
    {
     "data": {
      "application/vnd.jupyter.widget-view+json": {
       "model_id": "",
       "version_major": 2,
       "version_minor": 0
      },
      "text/plain": [
       "HBox(children=(IntProgress(value=0, description='Epoch 31', max=3084, style=ProgressStyle(description_width='i…"
      ]
     },
     "metadata": {},
     "output_type": "display_data"
    },
    {
     "data": {
      "application/vnd.jupyter.widget-view+json": {
       "model_id": "",
       "version_major": 2,
       "version_minor": 0
      },
      "text/plain": [
       "HBox(children=(IntProgress(value=0, description='Epoch 32', max=3084, style=ProgressStyle(description_width='i…"
      ]
     },
     "metadata": {},
     "output_type": "display_data"
    },
    {
     "data": {
      "application/vnd.jupyter.widget-view+json": {
       "model_id": "",
       "version_major": 2,
       "version_minor": 0
      },
      "text/plain": [
       "HBox(children=(IntProgress(value=0, description='Epoch 33', max=3084, style=ProgressStyle(description_width='i…"
      ]
     },
     "metadata": {},
     "output_type": "display_data"
    },
    {
     "data": {
      "application/vnd.jupyter.widget-view+json": {
       "model_id": "",
       "version_major": 2,
       "version_minor": 0
      },
      "text/plain": [
       "HBox(children=(IntProgress(value=0, description='Epoch 34', max=3084, style=ProgressStyle(description_width='i…"
      ]
     },
     "metadata": {},
     "output_type": "display_data"
    },
    {
     "data": {
      "application/vnd.jupyter.widget-view+json": {
       "model_id": "",
       "version_major": 2,
       "version_minor": 0
      },
      "text/plain": [
       "HBox(children=(IntProgress(value=0, description='Epoch 35', max=3084, style=ProgressStyle(description_width='i…"
      ]
     },
     "metadata": {},
     "output_type": "display_data"
    },
    {
     "data": {
      "application/vnd.jupyter.widget-view+json": {
       "model_id": "",
       "version_major": 2,
       "version_minor": 0
      },
      "text/plain": [
       "HBox(children=(IntProgress(value=0, description='Epoch 36', max=3084, style=ProgressStyle(description_width='i…"
      ]
     },
     "metadata": {},
     "output_type": "display_data"
    },
    {
     "data": {
      "application/vnd.jupyter.widget-view+json": {
       "model_id": "",
       "version_major": 2,
       "version_minor": 0
      },
      "text/plain": [
       "HBox(children=(IntProgress(value=0, description='Epoch 37', max=3084, style=ProgressStyle(description_width='i…"
      ]
     },
     "metadata": {},
     "output_type": "display_data"
    },
    {
     "data": {
      "application/vnd.jupyter.widget-view+json": {
       "model_id": "",
       "version_major": 2,
       "version_minor": 0
      },
      "text/plain": [
       "HBox(children=(IntProgress(value=0, description='Epoch 38', max=3084, style=ProgressStyle(description_width='i…"
      ]
     },
     "metadata": {},
     "output_type": "display_data"
    },
    {
     "data": {
      "application/vnd.jupyter.widget-view+json": {
       "model_id": "",
       "version_major": 2,
       "version_minor": 0
      },
      "text/plain": [
       "HBox(children=(IntProgress(value=0, description='Epoch 39', max=3084, style=ProgressStyle(description_width='i…"
      ]
     },
     "metadata": {},
     "output_type": "display_data"
    },
    {
     "data": {
      "application/vnd.jupyter.widget-view+json": {
       "model_id": "",
       "version_major": 2,
       "version_minor": 0
      },
      "text/plain": [
       "HBox(children=(IntProgress(value=0, description='Epoch 40', max=3084, style=ProgressStyle(description_width='i…"
      ]
     },
     "metadata": {},
     "output_type": "display_data"
    },
    {
     "data": {
      "application/vnd.jupyter.widget-view+json": {
       "model_id": "",
       "version_major": 2,
       "version_minor": 0
      },
      "text/plain": [
       "HBox(children=(IntProgress(value=0, description='Epoch 41', max=3084, style=ProgressStyle(description_width='i…"
      ]
     },
     "metadata": {},
     "output_type": "display_data"
    },
    {
     "data": {
      "application/vnd.jupyter.widget-view+json": {
       "model_id": "",
       "version_major": 2,
       "version_minor": 0
      },
      "text/plain": [
       "HBox(children=(IntProgress(value=0, description='Epoch 42', max=3084, style=ProgressStyle(description_width='i…"
      ]
     },
     "metadata": {},
     "output_type": "display_data"
    },
    {
     "data": {
      "application/vnd.jupyter.widget-view+json": {
       "model_id": "",
       "version_major": 2,
       "version_minor": 0
      },
      "text/plain": [
       "HBox(children=(IntProgress(value=0, description='Epoch 43', max=3084, style=ProgressStyle(description_width='i…"
      ]
     },
     "metadata": {},
     "output_type": "display_data"
    },
    {
     "data": {
      "application/vnd.jupyter.widget-view+json": {
       "model_id": "",
       "version_major": 2,
       "version_minor": 0
      },
      "text/plain": [
       "HBox(children=(IntProgress(value=0, description='Epoch 44', max=3084, style=ProgressStyle(description_width='i…"
      ]
     },
     "metadata": {},
     "output_type": "display_data"
    },
    {
     "data": {
      "application/vnd.jupyter.widget-view+json": {
       "model_id": "",
       "version_major": 2,
       "version_minor": 0
      },
      "text/plain": [
       "HBox(children=(IntProgress(value=0, description='Epoch 45', max=3084, style=ProgressStyle(description_width='i…"
      ]
     },
     "metadata": {},
     "output_type": "display_data"
    },
    {
     "data": {
      "application/vnd.jupyter.widget-view+json": {
       "model_id": "",
       "version_major": 2,
       "version_minor": 0
      },
      "text/plain": [
       "HBox(children=(IntProgress(value=0, description='Epoch 46', max=3084, style=ProgressStyle(description_width='i…"
      ]
     },
     "metadata": {},
     "output_type": "display_data"
    },
    {
     "data": {
      "application/vnd.jupyter.widget-view+json": {
       "model_id": "",
       "version_major": 2,
       "version_minor": 0
      },
      "text/plain": [
       "HBox(children=(IntProgress(value=0, description='Epoch 47', max=3084, style=ProgressStyle(description_width='i…"
      ]
     },
     "metadata": {},
     "output_type": "display_data"
    },
    {
     "data": {
      "application/vnd.jupyter.widget-view+json": {
       "model_id": "",
       "version_major": 2,
       "version_minor": 0
      },
      "text/plain": [
       "HBox(children=(IntProgress(value=0, description='Epoch 48', max=3084, style=ProgressStyle(description_width='i…"
      ]
     },
     "metadata": {},
     "output_type": "display_data"
    },
    {
     "data": {
      "application/vnd.jupyter.widget-view+json": {
       "model_id": "",
       "version_major": 2,
       "version_minor": 0
      },
      "text/plain": [
       "HBox(children=(IntProgress(value=0, description='Epoch 49', max=3084, style=ProgressStyle(description_width='i…"
      ]
     },
     "metadata": {},
     "output_type": "display_data"
    },
    {
     "name": "stdout",
     "output_type": "stream",
     "text": [
      "\n",
      "3856/3856 [==============================] - ETA:  - ETA:  - ETA:  - ETA:  - ETA:  - ETA:  - ETA:  - ETA:  - ETA:  - ETA:  - ETA:  - ETA:  - ETA:  - ETA:  - ETA:  - ETA:  - ETA:  - ETA:  - ETA:  - ETA:  - ETA:  - ETA:  - ETA:  - ETA:  - ETA:  - ETA:  - ETA:  - ETA:  - ETA:  - ETA:  - ETA:  - ETA:  - ETA:  - ETA:  - ETA:  - ETA:  - ETA:  - ETA:  - ETA:  - ETA:  - ETA:  - 3s 682us/step\n",
      "Accuracy: 49.043301341444625 %\n"
     ]
    }
   ],
   "source": [
    "batch_size = 2**9\n",
    "epochs = 50\n",
    "cnn_history = cnn_model.fit(X, Y,\n",
    "                   batch_size=batch_size,\n",
    "                   epochs=epochs,\n",
    "                   verbose=0,\n",
    "                   callbacks=[TQDMNotebookCallback()],\n",
    "                   validation_split = 0.2)\n",
    "print('Accuracy:', cnn_model.evaluate(X,Y)[1]*100.0,'%')"
   ]
  },
  {
   "cell_type": "code",
   "execution_count": 19,
   "metadata": {},
   "outputs": [
    {
     "data": {
      "image/png": "[encoded data removed]",
      "text/plain": [
       "<Figure size 432x288 with 2 Axes>"
      ]
     },
     "metadata": {
      "needs_background": "light"
     },
     "output_type": "display_data"
    }
   ],
   "source": [
    "plt.figure(1)\n",
    "# summarize history for accuracy\n",
    "plt.subplot(211)\n",
    "plt.plot(cnn_history.history['acc'])\n",
    "plt.plot(cnn_history.history['val_acc'])\n",
    "plt.title('model accuracy')\n",
    "plt.ylabel('accuracy')\n",
    "plt.xlabel('epoch')\n",
    "plt.legend(['train', 'test'], loc='upper left')\n",
    "# summarize history for loss\n",
    "plt.subplot(212)\n",
    "plt.plot(cnn_history.history['loss'])\n",
    "plt.plot(cnn_history.history['val_loss'])\n",
    "plt.title('model loss')\n",
    "plt.ylabel('loss')\n",
    "plt.xlabel('epoch')\n",
    "plt.legend(['train', 'test'], loc='upper left')\n",
    "plt.tight_layout()\n",
    "plt.show()\n"
   ]
  },
  {
   "cell_type": "code",
   "execution_count": 20,
   "metadata": {},
   "outputs": [
    {
     "name": "stdout",
     "output_type": "stream",
     "text": [
      "__________________________________________________________________________________________________\n",
      "Layer (type)                    Output Shape         Param #     Connected to                     \n",
      "==================================================================================================\n",
      "input_2 (InputLayer)            (None, 256, 151)     0                                            \n",
      "__________________________________________________________________________________________________\n",
      "conv1d_11 (Conv1D)              (None, 156, 32)      488064      input_2[0][0]                    \n",
      "__________________________________________________________________________________________________\n",
      "lstm_1 (LSTM)                   (None, 156, 20)      4240        conv1d_11[0][0]                  \n",
      "__________________________________________________________________________________________________\n",
      "up_sampling1d_8 (UpSampling1D)  (None, 312, 20)      0           lstm_1[0][0]                     \n",
      "__________________________________________________________________________________________________\n",
      "conv1d_12 (Conv1D)              (None, 256, 156)     177996      up_sampling1d_8[0][0]            \n",
      "__________________________________________________________________________________________________\n",
      "reshape_3 (Reshape)             (None, 256, 3, 4, 13 0           conv1d_12[0][0]                  \n",
      "__________________________________________________________________________________________________\n",
      "dense_4 (Dense)                 (None, 256, 3, 4, 10 140         reshape_3[0][0]                  \n",
      "__________________________________________________________________________________________________\n",
      "dense_5 (Dense)                 (None, 256, 3, 4, 3) 42          reshape_3[0][0]                  \n",
      "__________________________________________________________________________________________________\n",
      "concatenate_2 (Concatenate)     (None, 256, 3, 4, 13 0           dense_4[0][0]                    \n",
      "                                                                 dense_5[0][0]                    \n",
      "==================================================================================================\n",
      "Total params: 670,482\n",
      "Trainable params: 670,482\n",
      "Non-trainable params: 0\n",
      "__________________________________________________________________________________________________\n"
     ]
    },
    {
     "data": {
      "image/svg+xml": [
       "<svg height=\"556pt\" viewBox=\"0.00 0.00 234.00 556.00\" width=\"234pt\" xmlns=\"http://www.w3.org/2000/svg\" xmlns:xlink=\"http://www.w3.org/1999/xlink\">\n",
       "<g class=\"graph\" id=\"graph0\" transform=\"scale(1 1) rotate(0) translate(4 552)\">\n",
       "<title>G</title>\n",
       "<polygon fill=\"white\" points=\"-4,4 -4,-552 230,-552 230,4 -4,4\" stroke=\"none\"/>\n",
       "<!-- 2316178460008 -->\n",
       "<g class=\"node\" id=\"node1\"><title>2316178460008</title>\n",
       "<polygon fill=\"none\" points=\"50,-511.5 50,-547.5 176,-547.5 176,-511.5 50,-511.5\" stroke=\"black\"/>\n",
       "<text font-family=\"Times New Roman,serif\" font-size=\"14.00\" text-anchor=\"middle\" x=\"113\" y=\"-525.8\">input_2: InputLayer</text>\n",
       "</g>\n",
       "<!-- 2316178459448 -->\n",
       "<g class=\"node\" id=\"node2\"><title>2316178459448</title>\n",
       "<polygon fill=\"none\" points=\"46,-438.5 46,-474.5 180,-474.5 180,-438.5 46,-438.5\" stroke=\"black\"/>\n",
       "<text font-family=\"Times New Roman,serif\" font-size=\"14.00\" text-anchor=\"middle\" x=\"113\" y=\"-452.8\">conv1d_11: Conv1D</text>\n",
       "</g>\n",
       "<!-- 2316178460008&#45;&gt;2316178459448 -->\n",
       "<g class=\"edge\" id=\"edge1\"><title>2316178460008-&gt;2316178459448</title>\n",
       "<path d=\"M113,-511.313C113,-503.289 113,-493.547 113,-484.569\" fill=\"none\" stroke=\"black\"/>\n",
       "<polygon fill=\"black\" points=\"116.5,-484.529 113,-474.529 109.5,-484.529 116.5,-484.529\" stroke=\"black\"/>\n",
       "</g>\n",
       "<!-- 2316178459952 -->\n",
       "<g class=\"node\" id=\"node3\"><title>2316178459952</title>\n",
       "<polygon fill=\"none\" points=\"64,-365.5 64,-401.5 162,-401.5 162,-365.5 64,-365.5\" stroke=\"black\"/>\n",
       "<text font-family=\"Times New Roman,serif\" font-size=\"14.00\" text-anchor=\"middle\" x=\"113\" y=\"-379.8\">lstm_1: LSTM</text>\n",
       "</g>\n",
       "<!-- 2316178459448&#45;&gt;2316178459952 -->\n",
       "<g class=\"edge\" id=\"edge2\"><title>2316178459448-&gt;2316178459952</title>\n",
       "<path d=\"M113,-438.313C113,-430.289 113,-420.547 113,-411.569\" fill=\"none\" stroke=\"black\"/>\n",
       "<polygon fill=\"black\" points=\"116.5,-411.529 113,-401.529 109.5,-411.529 116.5,-411.529\" stroke=\"black\"/>\n",
       "</g>\n",
       "<!-- 2316178561792 -->\n",
       "<g class=\"node\" id=\"node4\"><title>2316178561792</title>\n",
       "<polygon fill=\"none\" points=\"8.5,-292.5 8.5,-328.5 217.5,-328.5 217.5,-292.5 8.5,-292.5\" stroke=\"black\"/>\n",
       "<text font-family=\"Times New Roman,serif\" font-size=\"14.00\" text-anchor=\"middle\" x=\"113\" y=\"-306.8\">up_sampling1d_8: UpSampling1D</text>\n",
       "</g>\n",
       "<!-- 2316178459952&#45;&gt;2316178561792 -->\n",
       "<g class=\"edge\" id=\"edge3\"><title>2316178459952-&gt;2316178561792</title>\n",
       "<path d=\"M113,-365.313C113,-357.289 113,-347.547 113,-338.569\" fill=\"none\" stroke=\"black\"/>\n",
       "<polygon fill=\"black\" points=\"116.5,-338.529 113,-328.529 109.5,-338.529 116.5,-338.529\" stroke=\"black\"/>\n",
       "</g>\n",
       "<!-- 2316178457600 -->\n",
       "<g class=\"node\" id=\"node5\"><title>2316178457600</title>\n",
       "<polygon fill=\"none\" points=\"46,-219.5 46,-255.5 180,-255.5 180,-219.5 46,-219.5\" stroke=\"black\"/>\n",
       "<text font-family=\"Times New Roman,serif\" font-size=\"14.00\" text-anchor=\"middle\" x=\"113\" y=\"-233.8\">conv1d_12: Conv1D</text>\n",
       "</g>\n",
       "<!-- 2316178561792&#45;&gt;2316178457600 -->\n",
       "<g class=\"edge\" id=\"edge4\"><title>2316178561792-&gt;2316178457600</title>\n",
       "<path d=\"M113,-292.313C113,-284.289 113,-274.547 113,-265.569\" fill=\"none\" stroke=\"black\"/>\n",
       "<polygon fill=\"black\" points=\"116.5,-265.529 113,-255.529 109.5,-265.529 116.5,-265.529\" stroke=\"black\"/>\n",
       "</g>\n",
       "<!-- 2316178560784 -->\n",
       "<g class=\"node\" id=\"node6\"><title>2316178560784</title>\n",
       "<polygon fill=\"none\" points=\"49,-146.5 49,-182.5 177,-182.5 177,-146.5 49,-146.5\" stroke=\"black\"/>\n",
       "<text font-family=\"Times New Roman,serif\" font-size=\"14.00\" text-anchor=\"middle\" x=\"113\" y=\"-160.8\">reshape_3: Reshape</text>\n",
       "</g>\n",
       "<!-- 2316178457600&#45;&gt;2316178560784 -->\n",
       "<g class=\"edge\" id=\"edge5\"><title>2316178457600-&gt;2316178560784</title>\n",
       "<path d=\"M113,-219.313C113,-211.289 113,-201.547 113,-192.569\" fill=\"none\" stroke=\"black\"/>\n",
       "<polygon fill=\"black\" points=\"116.5,-192.529 113,-182.529 109.5,-192.529 116.5,-192.529\" stroke=\"black\"/>\n",
       "</g>\n",
       "<!-- 2316178458888 -->\n",
       "<g class=\"node\" id=\"node7\"><title>2316178458888</title>\n",
       "<polygon fill=\"none\" points=\"0,-73.5 0,-109.5 104,-109.5 104,-73.5 0,-73.5\" stroke=\"black\"/>\n",
       "<text font-family=\"Times New Roman,serif\" font-size=\"14.00\" text-anchor=\"middle\" x=\"52\" y=\"-87.8\">dense_4: Dense</text>\n",
       "</g>\n",
       "<!-- 2316178560784&#45;&gt;2316178458888 -->\n",
       "<g class=\"edge\" id=\"edge6\"><title>2316178560784-&gt;2316178458888</title>\n",
       "<path d=\"M98.2336,-146.313C90.7409,-137.592 81.5036,-126.84 73.2606,-117.246\" fill=\"none\" stroke=\"black\"/>\n",
       "<polygon fill=\"black\" points=\"75.8019,-114.833 66.6304,-109.529 70.4924,-119.395 75.8019,-114.833\" stroke=\"black\"/>\n",
       "</g>\n",
       "<!-- 2316178457320 -->\n",
       "<g class=\"node\" id=\"node8\"><title>2316178457320</title>\n",
       "<polygon fill=\"none\" points=\"122,-73.5 122,-109.5 226,-109.5 226,-73.5 122,-73.5\" stroke=\"black\"/>\n",
       "<text font-family=\"Times New Roman,serif\" font-size=\"14.00\" text-anchor=\"middle\" x=\"174\" y=\"-87.8\">dense_5: Dense</text>\n",
       "</g>\n",
       "<!-- 2316178560784&#45;&gt;2316178457320 -->\n",
       "<g class=\"edge\" id=\"edge7\"><title>2316178560784-&gt;2316178457320</title>\n",
       "<path d=\"M127.766,-146.313C135.259,-137.592 144.496,-126.84 152.739,-117.246\" fill=\"none\" stroke=\"black\"/>\n",
       "<polygon fill=\"black\" points=\"155.508,-119.395 159.37,-109.529 150.198,-114.833 155.508,-119.395\" stroke=\"black\"/>\n",
       "</g>\n",
       "<!-- 2316178560448 -->\n",
       "<g class=\"node\" id=\"node9\"><title>2316178560448</title>\n",
       "<polygon fill=\"none\" points=\"26.5,-0.5 26.5,-36.5 199.5,-36.5 199.5,-0.5 26.5,-0.5\" stroke=\"black\"/>\n",
       "<text font-family=\"Times New Roman,serif\" font-size=\"14.00\" text-anchor=\"middle\" x=\"113\" y=\"-14.8\">concatenate_2: Concatenate</text>\n",
       "</g>\n",
       "<!-- 2316178458888&#45;&gt;2316178560448 -->\n",
       "<g class=\"edge\" id=\"edge8\"><title>2316178458888-&gt;2316178560448</title>\n",
       "<path d=\"M66.7664,-73.3129C74.2591,-64.5918 83.4964,-53.8402 91.7394,-44.2459\" fill=\"none\" stroke=\"black\"/>\n",
       "<polygon fill=\"black\" points=\"94.5076,-46.3947 98.3696,-36.5288 89.1981,-41.833 94.5076,-46.3947\" stroke=\"black\"/>\n",
       "</g>\n",
       "<!-- 2316178457320&#45;&gt;2316178560448 -->\n",
       "<g class=\"edge\" id=\"edge9\"><title>2316178457320-&gt;2316178560448</title>\n",
       "<path d=\"M159.234,-73.3129C151.741,-64.5918 142.504,-53.8402 134.261,-44.2459\" fill=\"none\" stroke=\"black\"/>\n",
       "<polygon fill=\"black\" points=\"136.802,-41.833 127.63,-36.5288 131.492,-46.3947 136.802,-41.833\" stroke=\"black\"/>\n",
       "</g>\n",
       "</g>\n",
       "</svg>"
      ],
      "text/plain": [
       "<IPython.core.display.SVG object>"
      ]
     },
     "execution_count": 20,
     "metadata": {},
     "output_type": "execute_result"
    }
   ],
   "source": [
    "#CNN + LSTM Model\n",
    "\n",
    "lstm_size = 20\n",
    "input_layer = keras.layers.Input(shape=(X.shape[1], X.shape[2]))\n",
    "cnn_layer = keras.layers.Conv1D(32, kernel_size=((X.shape[1] - 155)), \n",
    "                                activation='relu',\n",
    "                                input_shape=[X.shape[1], X.shape[2]])\n",
    "lstm_layer = keras.layers.LSTM(lstm_size, return_sequences = True)\n",
    "dense_direction = keras.layers.Dense(10, activation ='softmax')\n",
    "dense_color = keras.layers.Dense(3, activation = 'softmax')\n",
    "deconv_layer = keras.layers.Conv1D(156, kernel_size=((X.shape[1] - 199)), activation='relu')\n",
    "reshaper = keras.layers.Reshape((256, 3, 4, 13))\n",
    "cnn_output = cnn_layer(input_layer)\n",
    "lstm_output = lstm_layer(cnn_output)\n",
    "\n",
    "lstm_output = keras.layers.UpSampling1D(2)(lstm_output)\n",
    "deconv_output = deconv_layer(lstm_output)\n",
    "reshape_output = reshaper(deconv_output)\n",
    "direction_output = dense_direction(reshape_output)\n",
    "color_output = dense_color(reshape_output)\n",
    "dense_inputs = [direction_output, color_output]\n",
    "final_output = keras.layers.concatenate(dense_inputs, axis = -1)\n",
    "\n",
    "cnn_lstm_model = keras.Model(input_layer, final_output)\n",
    "cnn_lstm_model.compile(loss = keras.losses.categorical_crossentropy, optimizer=keras.optimizers.Adam(), metrics=['accuracy'])\n",
    "cnn_lstm_model.summary()\n",
    "SVG(model_to_dot(cnn_lstm_model).create(prog='dot',format='svg'))\n"
   ]
  },
  {
   "cell_type": "code",
   "execution_count": 21,
   "metadata": {
    "scrolled": true
   },
   "outputs": [
    {
     "data": {
      "application/vnd.jupyter.widget-view+json": {
       "model_id": "ee28518ceb6e43b9af321de7c00ddad4",
       "version_major": 2,
       "version_minor": 0
      },
      "text/plain": [
       "HBox(children=(IntProgress(value=0, description='Training', max=50, style=ProgressStyle(description_width='ini…"
      ]
     },
     "metadata": {},
     "output_type": "display_data"
    },
    {
     "data": {
      "application/vnd.jupyter.widget-view+json": {
       "model_id": "",
       "version_major": 2,
       "version_minor": 0
      },
      "text/plain": [
       "HBox(children=(IntProgress(value=0, description='Epoch 0', max=3084, style=ProgressStyle(description_width='in…"
      ]
     },
     "metadata": {},
     "output_type": "display_data"
    },
    {
     "data": {
      "application/vnd.jupyter.widget-view+json": {
       "model_id": "",
       "version_major": 2,
       "version_minor": 0
      },
      "text/plain": [
       "HBox(children=(IntProgress(value=0, description='Epoch 1', max=3084, style=ProgressStyle(description_width='in…"
      ]
     },
     "metadata": {},
     "output_type": "display_data"
    },
    {
     "data": {
      "application/vnd.jupyter.widget-view+json": {
       "model_id": "",
       "version_major": 2,
       "version_minor": 0
      },
      "text/plain": [
       "HBox(children=(IntProgress(value=0, description='Epoch 2', max=3084, style=ProgressStyle(description_width='in…"
      ]
     },
     "metadata": {},
     "output_type": "display_data"
    },
    {
     "data": {
      "application/vnd.jupyter.widget-view+json": {
       "model_id": "",
       "version_major": 2,
       "version_minor": 0
      },
      "text/plain": [
       "HBox(children=(IntProgress(value=0, description='Epoch 3', max=3084, style=ProgressStyle(description_width='in…"
      ]
     },
     "metadata": {},
     "output_type": "display_data"
    },
    {
     "data": {
      "application/vnd.jupyter.widget-view+json": {
       "model_id": "",
       "version_major": 2,
       "version_minor": 0
      },
      "text/plain": [
       "HBox(children=(IntProgress(value=0, description='Epoch 4', max=3084, style=ProgressStyle(description_width='in…"
      ]
     },
     "metadata": {},
     "output_type": "display_data"
    },
    {
     "data": {
      "application/vnd.jupyter.widget-view+json": {
       "model_id": "",
       "version_major": 2,
       "version_minor": 0
      },
      "text/plain": [
       "HBox(children=(IntProgress(value=0, description='Epoch 5', max=3084, style=ProgressStyle(description_width='in…"
      ]
     },
     "metadata": {},
     "output_type": "display_data"
    },
    {
     "data": {
      "application/vnd.jupyter.widget-view+json": {
       "model_id": "",
       "version_major": 2,
       "version_minor": 0
      },
      "text/plain": [
       "HBox(children=(IntProgress(value=0, description='Epoch 6', max=3084, style=ProgressStyle(description_width='in…"
      ]
     },
     "metadata": {},
     "output_type": "display_data"
    },
    {
     "data": {
      "application/vnd.jupyter.widget-view+json": {
       "model_id": "",
       "version_major": 2,
       "version_minor": 0
      },
      "text/plain": [
       "HBox(children=(IntProgress(value=0, description='Epoch 7', max=3084, style=ProgressStyle(description_width='in…"
      ]
     },
     "metadata": {},
     "output_type": "display_data"
    },
    {
     "data": {
      "application/vnd.jupyter.widget-view+json": {
       "model_id": "",
       "version_major": 2,
       "version_minor": 0
      },
      "text/plain": [
       "HBox(children=(IntProgress(value=0, description='Epoch 8', max=3084, style=ProgressStyle(description_width='in…"
      ]
     },
     "metadata": {},
     "output_type": "display_data"
    },
    {
     "data": {
      "application/vnd.jupyter.widget-view+json": {
       "model_id": "",
       "version_major": 2,
       "version_minor": 0
      },
      "text/plain": [
       "HBox(children=(IntProgress(value=0, description='Epoch 9', max=3084, style=ProgressStyle(description_width='in…"
      ]
     },
     "metadata": {},
     "output_type": "display_data"
    },
    {
     "data": {
      "application/vnd.jupyter.widget-view+json": {
       "model_id": "",
       "version_major": 2,
       "version_minor": 0
      },
      "text/plain": [
       "HBox(children=(IntProgress(value=0, description='Epoch 10', max=3084, style=ProgressStyle(description_width='i…"
      ]
     },
     "metadata": {},
     "output_type": "display_data"
    },
    {
     "data": {
      "application/vnd.jupyter.widget-view+json": {
       "model_id": "",
       "version_major": 2,
       "version_minor": 0
      },
      "text/plain": [
       "HBox(children=(IntProgress(value=0, description='Epoch 11', max=3084, style=ProgressStyle(description_width='i…"
      ]
     },
     "metadata": {},
     "output_type": "display_data"
    },
    {
     "data": {
      "application/vnd.jupyter.widget-view+json": {
       "model_id": "",
       "version_major": 2,
       "version_minor": 0
      },
      "text/plain": [
       "HBox(children=(IntProgress(value=0, description='Epoch 12', max=3084, style=ProgressStyle(description_width='i…"
      ]
     },
     "metadata": {},
     "output_type": "display_data"
    },
    {
     "data": {
      "application/vnd.jupyter.widget-view+json": {
       "model_id": "",
       "version_major": 2,
       "version_minor": 0
      },
      "text/plain": [
       "HBox(children=(IntProgress(value=0, description='Epoch 13', max=3084, style=ProgressStyle(description_width='i…"
      ]
     },
     "metadata": {},
     "output_type": "display_data"
    },
    {
     "data": {
      "application/vnd.jupyter.widget-view+json": {
       "model_id": "",
       "version_major": 2,
       "version_minor": 0
      },
      "text/plain": [
       "HBox(children=(IntProgress(value=0, description='Epoch 14', max=3084, style=ProgressStyle(description_width='i…"
      ]
     },
     "metadata": {},
     "output_type": "display_data"
    },
    {
     "data": {
      "application/vnd.jupyter.widget-view+json": {
       "model_id": "",
       "version_major": 2,
       "version_minor": 0
      },
      "text/plain": [
       "HBox(children=(IntProgress(value=0, description='Epoch 15', max=3084, style=ProgressStyle(description_width='i…"
      ]
     },
     "metadata": {},
     "output_type": "display_data"
    },
    {
     "data": {
      "application/vnd.jupyter.widget-view+json": {
       "model_id": "",
       "version_major": 2,
       "version_minor": 0
      },
      "text/plain": [
       "HBox(children=(IntProgress(value=0, description='Epoch 16', max=3084, style=ProgressStyle(description_width='i…"
      ]
     },
     "metadata": {},
     "output_type": "display_data"
    },
    {
     "data": {
      "application/vnd.jupyter.widget-view+json": {
       "model_id": "",
       "version_major": 2,
       "version_minor": 0
      },
      "text/plain": [
       "HBox(children=(IntProgress(value=0, description='Epoch 17', max=3084, style=ProgressStyle(description_width='i…"
      ]
     },
     "metadata": {},
     "output_type": "display_data"
    },
    {
     "data": {
      "application/vnd.jupyter.widget-view+json": {
       "model_id": "",
       "version_major": 2,
       "version_minor": 0
      },
      "text/plain": [
       "HBox(children=(IntProgress(value=0, description='Epoch 18', max=3084, style=ProgressStyle(description_width='i…"
      ]
     },
     "metadata": {},
     "output_type": "display_data"
    },
    {
     "data": {
      "application/vnd.jupyter.widget-view+json": {
       "model_id": "",
       "version_major": 2,
       "version_minor": 0
      },
      "text/plain": [
       "HBox(children=(IntProgress(value=0, description='Epoch 19', max=3084, style=ProgressStyle(description_width='i…"
      ]
     },
     "metadata": {},
     "output_type": "display_data"
    },
    {
     "data": {
      "application/vnd.jupyter.widget-view+json": {
       "model_id": "",
       "version_major": 2,
       "version_minor": 0
      },
      "text/plain": [
       "HBox(children=(IntProgress(value=0, description='Epoch 20', max=3084, style=ProgressStyle(description_width='i…"
      ]
     },
     "metadata": {},
     "output_type": "display_data"
    },
    {
     "data": {
      "application/vnd.jupyter.widget-view+json": {
       "model_id": "",
       "version_major": 2,
       "version_minor": 0
      },
      "text/plain": [
       "HBox(children=(IntProgress(value=0, description='Epoch 21', max=3084, style=ProgressStyle(description_width='i…"
      ]
     },
     "metadata": {},
     "output_type": "display_data"
    },
    {
     "data": {
      "application/vnd.jupyter.widget-view+json": {
       "model_id": "",
       "version_major": 2,
       "version_minor": 0
      },
      "text/plain": [
       "HBox(children=(IntProgress(value=0, description='Epoch 22', max=3084, style=ProgressStyle(description_width='i…"
      ]
     },
     "metadata": {},
     "output_type": "display_data"
    },
    {
     "data": {
      "application/vnd.jupyter.widget-view+json": {
       "model_id": "",
       "version_major": 2,
       "version_minor": 0
      },
      "text/plain": [
       "HBox(children=(IntProgress(value=0, description='Epoch 23', max=3084, style=ProgressStyle(description_width='i…"
      ]
     },
     "metadata": {},
     "output_type": "display_data"
    },
    {
     "data": {
      "application/vnd.jupyter.widget-view+json": {
       "model_id": "",
       "version_major": 2,
       "version_minor": 0
      },
      "text/plain": [
       "HBox(children=(IntProgress(value=0, description='Epoch 24', max=3084, style=ProgressStyle(description_width='i…"
      ]
     },
     "metadata": {},
     "output_type": "display_data"
    },
    {
     "data": {
      "application/vnd.jupyter.widget-view+json": {
       "model_id": "",
       "version_major": 2,
       "version_minor": 0
      },
      "text/plain": [
       "HBox(children=(IntProgress(value=0, description='Epoch 25', max=3084, style=ProgressStyle(description_width='i…"
      ]
     },
     "metadata": {},
     "output_type": "display_data"
    },
    {
     "data": {
      "application/vnd.jupyter.widget-view+json": {
       "model_id": "",
       "version_major": 2,
       "version_minor": 0
      },
      "text/plain": [
       "HBox(children=(IntProgress(value=0, description='Epoch 26', max=3084, style=ProgressStyle(description_width='i…"
      ]
     },
     "metadata": {},
     "output_type": "display_data"
    },
    {
     "data": {
      "application/vnd.jupyter.widget-view+json": {
       "model_id": "",
       "version_major": 2,
       "version_minor": 0
      },
      "text/plain": [
       "HBox(children=(IntProgress(value=0, description='Epoch 27', max=3084, style=ProgressStyle(description_width='i…"
      ]
     },
     "metadata": {},
     "output_type": "display_data"
    },
    {
     "data": {
      "application/vnd.jupyter.widget-view+json": {
       "model_id": "",
       "version_major": 2,
       "version_minor": 0
      },
      "text/plain": [
       "HBox(children=(IntProgress(value=0, description='Epoch 28', max=3084, style=ProgressStyle(description_width='i…"
      ]
     },
     "metadata": {},
     "output_type": "display_data"
    },
    {
     "data": {
      "application/vnd.jupyter.widget-view+json": {
       "model_id": "",
       "version_major": 2,
       "version_minor": 0
      },
      "text/plain": [
       "HBox(children=(IntProgress(value=0, description='Epoch 29', max=3084, style=ProgressStyle(description_width='i…"
      ]
     },
     "metadata": {},
     "output_type": "display_data"
    },
    {
     "data": {
      "application/vnd.jupyter.widget-view+json": {
       "model_id": "",
       "version_major": 2,
       "version_minor": 0
      },
      "text/plain": [
       "HBox(children=(IntProgress(value=0, description='Epoch 30', max=3084, style=ProgressStyle(description_width='i…"
      ]
     },
     "metadata": {},
     "output_type": "display_data"
    },
    {
     "data": {
      "application/vnd.jupyter.widget-view+json": {
       "model_id": "",
       "version_major": 2,
       "version_minor": 0
      },
      "text/plain": [
       "HBox(children=(IntProgress(value=0, description='Epoch 31', max=3084, style=ProgressStyle(description_width='i…"
      ]
     },
     "metadata": {},
     "output_type": "display_data"
    },
    {
     "data": {
      "application/vnd.jupyter.widget-view+json": {
       "model_id": "",
       "version_major": 2,
       "version_minor": 0
      },
      "text/plain": [
       "HBox(children=(IntProgress(value=0, description='Epoch 32', max=3084, style=ProgressStyle(description_width='i…"
      ]
     },
     "metadata": {},
     "output_type": "display_data"
    },
    {
     "data": {
      "application/vnd.jupyter.widget-view+json": {
       "model_id": "",
       "version_major": 2,
       "version_minor": 0
      },
      "text/plain": [
       "HBox(children=(IntProgress(value=0, description='Epoch 33', max=3084, style=ProgressStyle(description_width='i…"
      ]
     },
     "metadata": {},
     "output_type": "display_data"
    },
    {
     "data": {
      "application/vnd.jupyter.widget-view+json": {
       "model_id": "",
       "version_major": 2,
       "version_minor": 0
      },
      "text/plain": [
       "HBox(children=(IntProgress(value=0, description='Epoch 34', max=3084, style=ProgressStyle(description_width='i…"
      ]
     },
     "metadata": {},
     "output_type": "display_data"
    },
    {
     "data": {
      "application/vnd.jupyter.widget-view+json": {
       "model_id": "",
       "version_major": 2,
       "version_minor": 0
      },
      "text/plain": [
       "HBox(children=(IntProgress(value=0, description='Epoch 35', max=3084, style=ProgressStyle(description_width='i…"
      ]
     },
     "metadata": {},
     "output_type": "display_data"
    },
    {
     "data": {
      "application/vnd.jupyter.widget-view+json": {
       "model_id": "",
       "version_major": 2,
       "version_minor": 0
      },
      "text/plain": [
       "HBox(children=(IntProgress(value=0, description='Epoch 36', max=3084, style=ProgressStyle(description_width='i…"
      ]
     },
     "metadata": {},
     "output_type": "display_data"
    },
    {
     "data": {
      "application/vnd.jupyter.widget-view+json": {
       "model_id": "",
       "version_major": 2,
       "version_minor": 0
      },
      "text/plain": [
       "HBox(children=(IntProgress(value=0, description='Epoch 37', max=3084, style=ProgressStyle(description_width='i…"
      ]
     },
     "metadata": {},
     "output_type": "display_data"
    },
    {
     "data": {
      "application/vnd.jupyter.widget-view+json": {
       "model_id": "",
       "version_major": 2,
       "version_minor": 0
      },
      "text/plain": [
       "HBox(children=(IntProgress(value=0, description='Epoch 38', max=3084, style=ProgressStyle(description_width='i…"
      ]
     },
     "metadata": {},
     "output_type": "display_data"
    },
    {
     "data": {
      "application/vnd.jupyter.widget-view+json": {
       "model_id": "",
       "version_major": 2,
       "version_minor": 0
      },
      "text/plain": [
       "HBox(children=(IntProgress(value=0, description='Epoch 39', max=3084, style=ProgressStyle(description_width='i…"
      ]
     },
     "metadata": {},
     "output_type": "display_data"
    },
    {
     "data": {
      "application/vnd.jupyter.widget-view+json": {
       "model_id": "",
       "version_major": 2,
       "version_minor": 0
      },
      "text/plain": [
       "HBox(children=(IntProgress(value=0, description='Epoch 40', max=3084, style=ProgressStyle(description_width='i…"
      ]
     },
     "metadata": {},
     "output_type": "display_data"
    },
    {
     "data": {
      "application/vnd.jupyter.widget-view+json": {
       "model_id": "",
       "version_major": 2,
       "version_minor": 0
      },
      "text/plain": [
       "HBox(children=(IntProgress(value=0, description='Epoch 41', max=3084, style=ProgressStyle(description_width='i…"
      ]
     },
     "metadata": {},
     "output_type": "display_data"
    },
    {
     "data": {
      "application/vnd.jupyter.widget-view+json": {
       "model_id": "",
       "version_major": 2,
       "version_minor": 0
      },
      "text/plain": [
       "HBox(children=(IntProgress(value=0, description='Epoch 42', max=3084, style=ProgressStyle(description_width='i…"
      ]
     },
     "metadata": {},
     "output_type": "display_data"
    },
    {
     "data": {
      "application/vnd.jupyter.widget-view+json": {
       "model_id": "",
       "version_major": 2,
       "version_minor": 0
      },
      "text/plain": [
       "HBox(children=(IntProgress(value=0, description='Epoch 43', max=3084, style=ProgressStyle(description_width='i…"
      ]
     },
     "metadata": {},
     "output_type": "display_data"
    },
    {
     "data": {
      "application/vnd.jupyter.widget-view+json": {
       "model_id": "",
       "version_major": 2,
       "version_minor": 0
      },
      "text/plain": [
       "HBox(children=(IntProgress(value=0, description='Epoch 44', max=3084, style=ProgressStyle(description_width='i…"
      ]
     },
     "metadata": {},
     "output_type": "display_data"
    },
    {
     "data": {
      "application/vnd.jupyter.widget-view+json": {
       "model_id": "",
       "version_major": 2,
       "version_minor": 0
      },
      "text/plain": [
       "HBox(children=(IntProgress(value=0, description='Epoch 45', max=3084, style=ProgressStyle(description_width='i…"
      ]
     },
     "metadata": {},
     "output_type": "display_data"
    },
    {
     "data": {
      "application/vnd.jupyter.widget-view+json": {
       "model_id": "",
       "version_major": 2,
       "version_minor": 0
      },
      "text/plain": [
       "HBox(children=(IntProgress(value=0, description='Epoch 46', max=3084, style=ProgressStyle(description_width='i…"
      ]
     },
     "metadata": {},
     "output_type": "display_data"
    },
    {
     "data": {
      "application/vnd.jupyter.widget-view+json": {
       "model_id": "",
       "version_major": 2,
       "version_minor": 0
      },
      "text/plain": [
       "HBox(children=(IntProgress(value=0, description='Epoch 47', max=3084, style=ProgressStyle(description_width='i…"
      ]
     },
     "metadata": {},
     "output_type": "display_data"
    },
    {
     "data": {
      "application/vnd.jupyter.widget-view+json": {
       "model_id": "",
       "version_major": 2,
       "version_minor": 0
      },
      "text/plain": [
       "HBox(children=(IntProgress(value=0, description='Epoch 48', max=3084, style=ProgressStyle(description_width='i…"
      ]
     },
     "metadata": {},
     "output_type": "display_data"
    },
    {
     "data": {
      "application/vnd.jupyter.widget-view+json": {
       "model_id": "",
       "version_major": 2,
       "version_minor": 0
      },
      "text/plain": [
       "HBox(children=(IntProgress(value=0, description='Epoch 49', max=3084, style=ProgressStyle(description_width='i…"
      ]
     },
     "metadata": {},
     "output_type": "display_data"
    },
    {
     "name": "stdout",
     "output_type": "stream",
     "text": [
      "\n",
      "3856/3856 [==============================] - ETA: 13 - ETA: 12 - ETA: 12 - ETA: 12 - ETA: 11 - ETA: 11 - ETA: 11 - ETA: 11 - ETA: 11 - ETA: 11 - ETA: 11 - ETA: 11 - ETA: 11 - ETA: 10 - ETA: 10 - ETA: 10 - ETA: 10 - ETA: 10 - ETA: 10 - ETA: 10 - ETA: 10 - ETA: 10 - ETA: 9 - ETA:  - ETA:  - ETA:  - ETA:  - ETA:  - ETA:  - ETA:  - ETA:  - ETA:  - ETA:  - ETA:  - ETA:  - ETA:  - ETA:  - ETA:  - ETA:  - ETA:  - ETA:  - ETA:  - ETA:  - ETA:  - ETA:  - ETA:  - ETA:  - ETA:  - ETA:  - ETA:  - ETA:  - ETA:  - ETA:  - ETA:  - ETA:  - ETA:  - ETA:  - ETA:  - ETA:  - ETA:  - ETA:  - ETA:  - ETA:  - ETA:  - ETA:  - ETA:  - ETA:  - ETA:  - ETA:  - ETA:  - ETA:  - ETA:  - ETA:  - ETA:  - ETA:  - ETA:  - ETA:  - ETA:  - ETA:  - ETA:  - ETA:  - ETA:  - ETA:  - ETA:  - ETA:  - ETA:  - ETA:  - ETA:  - ETA:  - ETA:  - ETA:  - ETA:  - ETA:  - ETA:  - ETA:  - ETA:  - ETA:  - ETA:  - ETA:  - ETA:  - ETA:  - ETA:  - ETA:  - ETA:  - ETA:  - ETA:  - ETA:  - ETA:  - ETA:  - ETA:  - ETA:  - ETA:  - ETA:  - ETA:  - ETA:  - ETA:  - ETA:  - ETA:  - ETA:  - ETA:  - 12s 3ms/step\n",
      "Accuracy: 16.650424384477226 %\n"
     ]
    }
   ],
   "source": [
    "batch_size = 2**7\n",
    "epochs = 50\n",
    "history = cnn_lstm_model.fit(X, Y,\n",
    "                   batch_size=batch_size,\n",
    "                   epochs=epochs,\n",
    "                   verbose=0,\n",
    "                   callbacks=[TQDMNotebookCallback()],\n",
    "                   validation_split = 0.2)\n",
    "print('Accuracy:', cnn_lstm_model.evaluate(X,Y)[1]*100.0,'%')"
   ]
  },
  {
   "cell_type": "code",
   "execution_count": 22,
   "metadata": {},
   "outputs": [
    {
     "data": {
      "image/png": "[encoded data removed]",
      "text/plain": [
       "<Figure size 432x288 with 2 Axes>"
      ]
     },
     "metadata": {
      "needs_background": "light"
     },
     "output_type": "display_data"
    }
   ],
   "source": [
    "plt.figure(1)\n",
    "# summarize history for accuracy\n",
    "plt.subplot(211)\n",
    "plt.plot(history.history['acc'])\n",
    "plt.plot(history.history['val_acc'])\n",
    "plt.title('model accuracy')\n",
    "plt.ylabel('accuracy')\n",
    "plt.xlabel('epoch')\n",
    "plt.legend(['train', 'test'], loc='upper left')\n",
    "# summarize history for loss\n",
    "plt.subplot(212)\n",
    "plt.plot(history.history['loss'])\n",
    "plt.plot(history.history['val_loss'])\n",
    "plt.title('model loss')\n",
    "plt.ylabel('loss')\n",
    "plt.xlabel('epoch')\n",
    "plt.legend(['train', 'test'], loc='upper left')\n",
    "plt.tight_layout()\n",
    "plt.show()\n"
   ]
  },
  {
   "cell_type": "code",
   "execution_count": 29,
   "metadata": {},
   "outputs": [
    {
     "data": {
      "text/plain": [
       "0.35519118850731657"
      ]
     },
     "execution_count": 29,
     "metadata": {},
     "output_type": "execute_result"
    }
   ],
   "source": [
    "np.average((cnn_history.history['val_acc']))"
   ]
  },
  {
   "cell_type": "code",
   "execution_count": 30,
   "metadata": {},
   "outputs": [],
   "source": [
    "predict_output = cnn_model.predict(X)"
   ]
  },
  {
   "cell_type": "code",
   "execution_count": 31,
   "metadata": {},
   "outputs": [
    {
     "data": {
      "text/plain": [
       "array([[[[[4.85093594e-01, 1.63191240e-02, 8.00716691e-03, ...,\n",
       "           3.28264952e-01, 5.47010720e-01, 1.24724314e-01],\n",
       "          [5.30814111e-01, 6.57504471e-03, 4.15508682e-03, ...,\n",
       "           3.43050152e-01, 5.42440057e-01, 1.14509769e-01],\n",
       "          [5.15485525e-01, 1.81778660e-03, 2.45605223e-03, ...,\n",
       "           5.13858676e-01, 3.71550590e-01, 1.14590704e-01],\n",
       "          [4.69787836e-01, 1.35539728e-03, 1.24684779e-03, ...,\n",
       "           3.83177608e-01, 5.05458891e-01, 1.11363538e-01]],\n",
       "\n",
       "         [[5.04282534e-01, 1.21354114e-03, 7.96037726e-04, ...,\n",
       "           2.92949080e-01, 6.00437343e-01, 1.06613576e-01],\n",
       "          [4.48216349e-01, 8.18664557e-04, 6.85430365e-04, ...,\n",
       "           2.47523487e-01, 6.24500871e-01, 1.27975643e-01],\n",
       "          [5.29806018e-01, 8.95829638e-04, 9.29108879e-04, ...,\n",
       "           3.83005410e-01, 4.76537943e-01, 1.40456617e-01],\n",
       "          [5.08850694e-01, 8.34846112e-04, 9.66843741e-04, ...,\n",
       "           3.51679981e-01, 5.07787406e-01, 1.40532553e-01]],\n",
       "\n",
       "         [[5.11954904e-01, 8.45694041e-04, 1.10592751e-03, ...,\n",
       "           4.54439312e-01, 3.89903307e-01, 1.55657336e-01],\n",
       "          [4.84735757e-01, 8.45084141e-04, 9.61095793e-04, ...,\n",
       "           4.35837865e-01, 4.14110780e-01, 1.50051311e-01],\n",
       "          [4.64946598e-01, 6.93920476e-04, 7.90476159e-04, ...,\n",
       "           4.58557963e-01, 4.06936288e-01, 1.34505704e-01],\n",
       "          [4.58155006e-01, 5.64024318e-04, 5.67238021e-04, ...,\n",
       "           4.34436560e-01, 4.46558803e-01, 1.19004659e-01]]],\n",
       "\n",
       "\n",
       "        [[[4.98864323e-01, 6.00186584e-04, 5.69777621e-04, ...,\n",
       "           4.27447855e-01, 4.62061882e-01, 1.10490277e-01],\n",
       "          [4.95365858e-01, 6.08019414e-04, 5.30611025e-04, ...,\n",
       "           4.04839754e-01, 4.81122792e-01, 1.14037499e-01],\n",
       "          [5.07786036e-01, 6.35430566e-04, 6.41211809e-04, ...,\n",
       "           4.46424782e-01, 4.44522768e-01, 1.09052494e-01],\n",
       "          [4.91289198e-01, 6.72692957e-04, 6.54355390e-04, ...,\n",
       "           4.25729066e-01, 4.56617177e-01, 1.17653750e-01]],\n",
       "\n",
       "         [[5.19229233e-01, 7.76498346e-04, 7.50237436e-04, ...,\n",
       "           4.45701957e-01, 4.38375562e-01, 1.15922414e-01],\n",
       "          [5.28990269e-01, 8.64801463e-04, 8.17841094e-04, ...,\n",
       "           4.43953753e-01, 4.38810706e-01, 1.17235556e-01],\n",
       "          [5.08594334e-01, 8.77565297e-04, 8.22557427e-04, ...,\n",
       "           4.47997630e-01, 4.39748079e-01, 1.12254262e-01],\n",
       "          [5.02010226e-01, 8.56350642e-04, 7.05642218e-04, ...,\n",
       "           4.12468016e-01, 4.81740385e-01, 1.05791621e-01]],\n",
       "\n",
       "         [[5.04884362e-01, 9.18823702e-04, 6.84382860e-04, ...,\n",
       "           3.92710775e-01, 5.00109196e-01, 1.07180029e-01],\n",
       "          [4.97239858e-01, 9.00917104e-04, 6.67885237e-04, ...,\n",
       "           3.93828064e-01, 4.93365645e-01, 1.12806365e-01],\n",
       "          [5.30542552e-01, 8.83580011e-04, 8.76222388e-04, ...,\n",
       "           4.69587624e-01, 4.16390479e-01, 1.14021868e-01],\n",
       "          [5.16427338e-01, 8.87704722e-04, 8.01096088e-04, ...,\n",
       "           4.27750438e-01, 4.57327783e-01, 1.14921734e-01]]],\n",
       "\n",
       "\n",
       "        [[[5.32888472e-01, 1.00610347e-03, 8.22879898e-04, ...,\n",
       "           4.20343310e-01, 4.61877346e-01, 1.17779337e-01],\n",
       "          [5.41386127e-01, 1.11364340e-03, 9.93126305e-04, ...,\n",
       "           4.46257055e-01, 4.36765105e-01, 1.16977848e-01],\n",
       "          [4.85126525e-01, 1.00344548e-03, 8.72027653e-04, ...,\n",
       "           4.29022878e-01, 4.59189445e-01, 1.11787677e-01],\n",
       "          [4.80442643e-01, 8.52179248e-04, 6.79042714e-04, ...,\n",
       "           4.14974838e-01, 4.83473867e-01, 1.01551324e-01]],\n",
       "\n",
       "         [[5.05747199e-01, 9.38151439e-04, 7.32693588e-04, ...,\n",
       "           4.09068555e-01, 4.89215255e-01, 1.01716243e-01],\n",
       "          [4.95688260e-01, 9.34280921e-04, 6.41356572e-04, ...,\n",
       "           3.71806204e-01, 5.23108959e-01, 1.05084851e-01],\n",
       "          [5.28284252e-01, 8.88011651e-04, 7.41270545e-04, ...,\n",
       "           4.20532912e-01, 4.63882864e-01, 1.15584232e-01],\n",
       "          [5.14591932e-01, 8.67348455e-04, 6.66506065e-04, ...,\n",
       "           3.90811861e-01, 4.94200110e-01, 1.14988051e-01]],\n",
       "\n",
       "         [[5.03708959e-01, 8.26772128e-04, 7.36608345e-04, ...,\n",
       "           4.41965967e-01, 4.43049461e-01, 1.14984550e-01],\n",
       "          [5.14009237e-01, 8.74323654e-04, 8.31010751e-04, ...,\n",
       "           4.66878712e-01, 4.28542614e-01, 1.04578622e-01],\n",
       "          [4.61668819e-01, 8.09936784e-04, 8.12816899e-04, ...,\n",
       "           4.63850498e-01, 4.25108612e-01, 1.11040875e-01],\n",
       "          [4.82791811e-01, 6.80835394e-04, 7.17488874e-04, ...,\n",
       "           4.92305666e-01, 4.02098089e-01, 1.05596237e-01]]],\n",
       "\n",
       "\n",
       "        ...,\n",
       "\n",
       "\n",
       "        [[[4.91000801e-01, 4.90224734e-03, 4.38200543e-03, ...,\n",
       "           4.02560055e-01, 4.36655641e-01, 1.60784304e-01],\n",
       "          [4.85657185e-01, 4.94369725e-03, 4.38230066e-03, ...,\n",
       "           4.02160943e-01, 4.38912511e-01, 1.58926502e-01],\n",
       "          [4.71699208e-01, 4.62114951e-03, 4.53282474e-03, ...,\n",
       "           4.14974689e-01, 4.18489128e-01, 1.66536137e-01],\n",
       "          [4.74693894e-01, 4.23762202e-03, 4.02346672e-03, ...,\n",
       "           4.09131527e-01, 4.31206554e-01, 1.59661993e-01]],\n",
       "\n",
       "         [[4.85872269e-01, 4.54707537e-03, 4.07988997e-03, ...,\n",
       "           3.98400992e-01, 4.44868237e-01, 1.56730711e-01],\n",
       "          [4.93666708e-01, 4.70499694e-03, 4.38907510e-03, ...,\n",
       "           4.12928224e-01, 4.29659218e-01, 1.57412633e-01],\n",
       "          [4.83365089e-01, 4.82974760e-03, 4.65734676e-03, ...,\n",
       "           4.11090791e-01, 4.18465286e-01, 1.70443892e-01],\n",
       "          [4.80717152e-01, 4.83299606e-03, 4.58423188e-03, ...,\n",
       "           4.07163650e-01, 4.18344617e-01, 1.74491733e-01]],\n",
       "\n",
       "         [[4.85629857e-01, 5.03974874e-03, 4.73637925e-03, ...,\n",
       "           4.11122113e-01, 4.20453995e-01, 1.68423846e-01],\n",
       "          [5.01543641e-01, 5.30135352e-03, 5.12433099e-03, ...,\n",
       "           4.30453181e-01, 4.07014221e-01, 1.62532583e-01],\n",
       "          [4.88267392e-01, 5.38984872e-03, 5.36940433e-03, ...,\n",
       "           4.34925526e-01, 4.05032516e-01, 1.60041943e-01],\n",
       "          [4.89254415e-01, 5.31320972e-03, 5.14803827e-03, ...,\n",
       "           4.32819128e-01, 4.12311554e-01, 1.54869303e-01]]],\n",
       "\n",
       "\n",
       "        [[[4.97960746e-01, 5.63594932e-03, 5.20364940e-03, ...,\n",
       "           4.19114292e-01, 4.30411398e-01, 1.50474325e-01],\n",
       "          [5.05313814e-01, 5.88873774e-03, 5.21361129e-03, ...,\n",
       "           4.12212074e-01, 4.35372978e-01, 1.52414992e-01],\n",
       "          [5.14066637e-01, 6.07384415e-03, 5.73562598e-03, ...,\n",
       "           4.20355648e-01, 4.21926856e-01, 1.57717481e-01],\n",
       "          [5.02286792e-01, 6.14283467e-03, 5.70520246e-03, ...,\n",
       "           4.06969190e-01, 4.22497809e-01, 1.70532987e-01]],\n",
       "\n",
       "         [[5.21764755e-01, 5.45388181e-03, 5.27543947e-03, ...,\n",
       "           4.31972682e-01, 4.08636034e-01, 1.59391269e-01],\n",
       "          [5.18339157e-01, 5.17582381e-03, 5.10314200e-03, ...,\n",
       "           4.37053978e-01, 4.01039094e-01, 1.61906868e-01],\n",
       "          [5.00036240e-01, 3.97555716e-03, 4.47877869e-03, ...,\n",
       "           4.57008123e-01, 3.76831502e-01, 1.66160405e-01],\n",
       "          [4.93223906e-01, 3.18074739e-03, 3.57955764e-03, ...,\n",
       "           4.49738264e-01, 3.94743711e-01, 1.55518100e-01]],\n",
       "\n",
       "         [[5.03764689e-01, 2.79487809e-03, 2.89774197e-03, ...,\n",
       "           4.31235701e-01, 4.06411856e-01, 1.62352473e-01],\n",
       "          [4.89175081e-01, 2.43497733e-03, 2.57881382e-03, ...,\n",
       "           4.30085719e-01, 4.06894177e-01, 1.63020119e-01],\n",
       "          [4.99507844e-01, 2.09164247e-03, 2.28098012e-03, ...,\n",
       "           4.17029142e-01, 4.01352346e-01, 1.81618497e-01],\n",
       "          [4.81070071e-01, 2.00375821e-03, 2.05807947e-03, ...,\n",
       "           3.85289133e-01, 4.23704296e-01, 1.91006631e-01]]],\n",
       "\n",
       "\n",
       "        [[[4.81241524e-01, 1.83276716e-03, 1.88141013e-03, ...,\n",
       "           3.94390553e-01, 4.16738987e-01, 1.88870445e-01],\n",
       "          [4.98430848e-01, 1.75723666e-03, 2.08227569e-03, ...,\n",
       "           4.39746976e-01, 3.75384033e-01, 1.84868932e-01],\n",
       "          [5.14189959e-01, 1.74243003e-03, 1.91521680e-03, ...,\n",
       "           4.22897190e-01, 4.04092669e-01, 1.73010141e-01],\n",
       "          [4.95633692e-01, 1.68375357e-03, 1.78619986e-03, ...,\n",
       "           4.00728822e-01, 4.19839084e-01, 1.79432109e-01]],\n",
       "\n",
       "         [[5.16837478e-01, 1.58051890e-03, 1.65923452e-03, ...,\n",
       "           3.99138123e-01, 4.19063300e-01, 1.81798503e-01],\n",
       "          [5.20064175e-01, 1.47309352e-03, 1.60166225e-03, ...,\n",
       "           4.07413810e-01, 4.04318631e-01, 1.88267604e-01],\n",
       "          [4.89490539e-01, 1.40421255e-03, 1.76409958e-03, ...,\n",
       "           2.91495979e-01, 4.65440243e-01, 2.43063822e-01],\n",
       "          [5.12010396e-01, 1.42978586e-03, 3.27571505e-03, ...,\n",
       "           3.43202621e-01, 4.13282484e-01, 2.43514940e-01]],\n",
       "\n",
       "         [[4.78141278e-01, 1.71705382e-03, 4.73340461e-03, ...,\n",
       "           2.85420656e-01, 4.63897794e-01, 2.50681520e-01],\n",
       "          [4.97275978e-01, 2.92155333e-03, 9.66871250e-03, ...,\n",
       "           3.98742169e-01, 3.16557795e-01, 2.84700006e-01],\n",
       "          [4.03175443e-01, 4.90408763e-03, 1.36925709e-02, ...,\n",
       "           1.33054301e-01, 6.59275055e-01, 2.07670659e-01],\n",
       "          [4.60946679e-01, 1.82595123e-02, 4.08979803e-02, ...,\n",
       "           1.86477408e-01, 5.39018035e-01, 2.74504572e-01]]]],\n",
       "\n",
       "\n",
       "\n",
       "       [[[[4.81763303e-01, 1.71028748e-02, 8.49338248e-03, ...,\n",
       "           3.28407317e-01, 5.44127166e-01, 1.27465516e-01],\n",
       "          [5.28635502e-01, 7.03241630e-03, 4.48537571e-03, ...,\n",
       "           3.43155295e-01, 5.39633155e-01, 1.17211580e-01],\n",
       "          [5.13606369e-01, 1.98418531e-03, 2.67210999e-03, ...,\n",
       "           5.10411203e-01, 3.72154415e-01, 1.17434382e-01],\n",
       "          [4.69458103e-01, 1.48561853e-03, 1.37264386e-03, ...,\n",
       "           3.82889032e-01, 5.03050268e-01, 1.14060745e-01]],\n",
       "\n",
       "         [[5.03645658e-01, 1.33395416e-03, 8.83650442e-04, ...,\n",
       "           2.94383585e-01, 5.96377850e-01, 1.09238572e-01],\n",
       "          [4.48379189e-01, 9.03888198e-04, 7.62375013e-04, ...,\n",
       "           2.49386400e-01, 6.19979084e-01, 1.30634502e-01],\n",
       "          [5.29606581e-01, 9.86459432e-04, 1.02836965e-03, ...,\n",
       "           3.83195221e-01, 4.73931581e-01, 1.42873257e-01],\n",
       "          [5.08489192e-01, 9.16711753e-04, 1.06438750e-03, ...,\n",
       "           3.51694316e-01, 5.05439341e-01, 1.42866358e-01]],\n",
       "\n",
       "         [[5.11722624e-01, 9.24713211e-04, 1.20940618e-03, ...,\n",
       "           4.51974303e-01, 3.90101761e-01, 1.57923982e-01],\n",
       "          [4.84956264e-01, 9.23663727e-04, 1.05213537e-03, ...,\n",
       "           4.34295207e-01, 4.13267672e-01, 1.52437150e-01],\n",
       "          [4.64775831e-01, 7.55956455e-04, 8.62464949e-04, ...,\n",
       "           4.56413597e-01, 4.06602949e-01, 1.36983424e-01],\n",
       "          [4.57795233e-01, 6.14197867e-04, 6.20445993e-04, ...,\n",
       "           4.33032721e-01, 4.45595741e-01, 1.21371508e-01]]],\n",
       "\n",
       "\n",
       "        [[[4.98154104e-01, 6.53245603e-04, 6.23797823e-04, ...,\n",
       "           4.26347286e-01, 4.60661501e-01, 1.12991221e-01],\n",
       "          [4.94700372e-01, 6.61892933e-04, 5.81768458e-04, ...,\n",
       "           4.03988272e-01, 4.79517430e-01, 1.16494231e-01],\n",
       "          [5.06724477e-01, 6.93692651e-04, 7.00510805e-04, ...,\n",
       "           4.43731904e-01, 4.44711149e-01, 1.11556999e-01],\n",
       "          [4.89907533e-01, 7.33337423e-04, 7.18013034e-04, ...,\n",
       "           4.22808796e-01, 4.57009614e-01, 1.20181546e-01]],\n",
       "\n",
       "         [[5.17760634e-01, 8.49749427e-04, 8.24958202e-04, ...,\n",
       "           4.43895847e-01, 4.37623411e-01, 1.18480675e-01],\n",
       "          [5.28640807e-01, 9.48646106e-04, 9.01999243e-04, ...,\n",
       "           4.42952216e-01, 4.37353820e-01, 1.19693905e-01],\n",
       "          [5.08503199e-01, 9.66954161e-04, 9.11692856e-04, ...,\n",
       "           4.47283685e-01, 4.38108921e-01, 1.14607356e-01],\n",
       "          [5.01751602e-01, 9.45827924e-04, 7.84074015e-04, ...,\n",
       "           4.11770225e-01, 4.80010957e-01, 1.08218871e-01]],\n",
       "\n",
       "         [[5.04576623e-01, 1.01436989e-03, 7.57940055e-04, ...,\n",
       "           3.91282141e-01, 4.99270976e-01, 1.09446980e-01],\n",
       "          [4.96735930e-01, 9.91661800e-04, 7.37299735e-04, ...,\n",
       "           3.92154723e-01, 4.92671311e-01, 1.15173995e-01],\n",
       "          [5.30030251e-01, 9.73315910e-04, 9.65960266e-04, ...,\n",
       "           4.66281831e-01, 4.16827708e-01, 1.16890438e-01],\n",
       "          [5.16488135e-01, 9.79898265e-04, 8.87992093e-04, ...,\n",
       "           4.25379217e-01, 4.56753910e-01, 1.17866844e-01]]],\n",
       "\n",
       "\n",
       "        [[[5.32250106e-01, 1.11237075e-03, 9.14231467e-04, ...,\n",
       "           4.17803556e-01, 4.61250722e-01, 1.20945737e-01],\n",
       "          [5.40543556e-01, 1.23296806e-03, 1.11106213e-03, ...,\n",
       "           4.44919467e-01, 4.34834510e-01, 1.20246008e-01],\n",
       "          [4.84477192e-01, 1.11353456e-03, 9.71845351e-04, ...,\n",
       "           4.26143259e-01, 4.59028631e-01, 1.14828095e-01],\n",
       "          [4.80715960e-01, 9.48487432e-04, 7.58089416e-04, ...,\n",
       "           4.12376106e-01, 4.82906818e-01, 1.04717068e-01]],\n",
       "\n",
       "         [[5.05668581e-01, 1.04520214e-03, 8.18782719e-04, ...,\n",
       "           4.05744731e-01, 4.89177883e-01, 1.05077371e-01],\n",
       "          [4.96372789e-01, 1.04289677e-03, 7.19141390e-04, ...,\n",
       "           3.68976712e-01, 5.22364736e-01, 1.08658575e-01],\n",
       "          [5.29449046e-01, 9.94900125e-04, 8.30771285e-04, ...,\n",
       "           4.17272210e-01, 4.63677585e-01, 1.19050153e-01],\n",
       "          [5.15147388e-01, 9.74323542e-04, 7.50954903e-04, ...,\n",
       "           3.88017416e-01, 4.93544102e-01, 1.18438430e-01]],\n",
       "\n",
       "         [[5.03025770e-01, 9.26976325e-04, 8.27897515e-04, ...,\n",
       "           4.38558906e-01, 4.42816973e-01, 1.18624158e-01],\n",
       "          [5.12432039e-01, 9.74555267e-04, 9.27455607e-04, ...,\n",
       "           4.62646335e-01, 4.29467678e-01, 1.07885972e-01],\n",
       "          [4.61856753e-01, 9.05499968e-04, 9.02817410e-04, ...,\n",
       "           4.58949596e-01, 4.27263528e-01, 1.13786861e-01],\n",
       "          [4.83512759e-01, 7.65259552e-04, 8.00696667e-04, ...,\n",
       "           4.87894893e-01, 4.04064029e-01, 1.08041130e-01]]],\n",
       "\n",
       "\n",
       "        ...,\n",
       "\n",
       "\n",
       "        [[[4.90909159e-01, 4.87585925e-03, 4.34377370e-03, ...,\n",
       "           4.02652770e-01, 4.37675893e-01, 1.59671411e-01],\n",
       "          [4.85468954e-01, 4.91440529e-03, 4.34140861e-03, ...,\n",
       "           4.02290434e-01, 4.39863175e-01, 1.57846421e-01],\n",
       "          [4.71753180e-01, 4.58342768e-03, 4.49902192e-03, ...,\n",
       "           4.16098863e-01, 4.18435931e-01, 1.65465251e-01],\n",
       "          [4.74586576e-01, 4.19081468e-03, 3.97450011e-03, ...,\n",
       "           4.09702897e-01, 4.31846768e-01, 1.58450335e-01]],\n",
       "\n",
       "         [[4.86032546e-01, 4.49407799e-03, 4.02847119e-03, ...,\n",
       "           3.99135470e-01, 4.45315570e-01, 1.55548960e-01],\n",
       "          [4.93886203e-01, 4.64907428e-03, 4.33196547e-03, ...,\n",
       "           4.13730711e-01, 4.30117607e-01, 1.56151637e-01],\n",
       "          [4.82982308e-01, 4.76047629e-03, 4.59587248e-03, ...,\n",
       "           4.12106931e-01, 4.18487310e-01, 1.69405788e-01],\n",
       "          [4.80213970e-01, 4.74868948e-03, 4.51211818e-03, ...,\n",
       "           4.08337653e-01, 4.18282926e-01, 1.73379377e-01]],\n",
       "\n",
       "         [[4.85862821e-01, 4.94882930e-03, 4.66752006e-03, ...,\n",
       "           4.13069755e-01, 4.19710338e-01, 1.67219907e-01],\n",
       "          [5.01411319e-01, 5.20243822e-03, 5.03795920e-03, ...,\n",
       "           4.31849271e-01, 4.06880438e-01, 1.61270261e-01],\n",
       "          [4.88339990e-01, 5.28268237e-03, 5.26679633e-03, ...,\n",
       "           4.35992897e-01, 4.05334949e-01, 1.58672169e-01],\n",
       "          [4.89408612e-01, 5.20842616e-03, 5.04768360e-03, ...,\n",
       "           4.33791280e-01, 4.12594020e-01, 1.53614655e-01]]],\n",
       "\n",
       "\n",
       "        [[[4.98036504e-01, 5.51810488e-03, 5.09530585e-03, ...,\n",
       "           4.19803649e-01, 4.30975318e-01, 1.49221003e-01],\n",
       "          [5.05590677e-01, 5.75975468e-03, 5.10491384e-03, ...,\n",
       "           4.13223773e-01, 4.35532600e-01, 1.51243642e-01],\n",
       "          [5.14273703e-01, 5.93330385e-03, 5.61739411e-03, ...,\n",
       "           4.21608746e-01, 4.21849459e-01, 1.56541735e-01],\n",
       "          [5.02393663e-01, 5.99129032e-03, 5.57912048e-03, ...,\n",
       "           4.08062786e-01, 4.22558308e-01, 1.69378906e-01]],\n",
       "\n",
       "         [[5.22195399e-01, 5.31594083e-03, 5.15091280e-03, ...,\n",
       "           4.32838827e-01, 4.08722341e-01, 1.58438787e-01],\n",
       "          [5.18423498e-01, 5.03713964e-03, 4.97684116e-03, ...,\n",
       "           4.37732697e-01, 4.01183695e-01, 1.61083534e-01],\n",
       "          [5.00150204e-01, 3.86611419e-03, 4.35922248e-03, ...,\n",
       "           4.57485467e-01, 3.77153128e-01, 1.65361449e-01],\n",
       "          [4.93450046e-01, 3.09734419e-03, 3.48848081e-03, ...,\n",
       "           4.50216413e-01, 3.95028591e-01, 1.54754981e-01]],\n",
       "\n",
       "         [[5.03554165e-01, 2.71863351e-03, 2.82010040e-03, ...,\n",
       "           4.31509644e-01, 4.06876326e-01, 1.61614016e-01],\n",
       "          [4.89102781e-01, 2.36864295e-03, 2.51231017e-03, ...,\n",
       "           4.30673659e-01, 4.07068998e-01, 1.62257269e-01],\n",
       "          [4.99766588e-01, 2.03752355e-03, 2.22504651e-03, ...,\n",
       "           4.17866379e-01, 4.01304454e-01, 1.80829182e-01],\n",
       "          [4.81361330e-01, 1.95555482e-03, 2.00782251e-03, ...,\n",
       "           3.85684818e-01, 4.24198896e-01, 1.90116286e-01]]],\n",
       "\n",
       "\n",
       "        [[[4.81120050e-01, 1.79091026e-03, 1.83435460e-03, ...,\n",
       "           3.94379914e-01, 4.17763203e-01, 1.87856957e-01],\n",
       "          [4.98643696e-01, 1.71894697e-03, 2.03496660e-03, ...,\n",
       "           4.40354794e-01, 3.75835687e-01, 1.83809504e-01],\n",
       "          [5.14516950e-01, 1.70464558e-03, 1.87495467e-03, ...,\n",
       "           4.23879743e-01, 4.04090822e-01, 1.72029480e-01],\n",
       "          [4.95589048e-01, 1.64471730e-03, 1.74461806e-03, ...,\n",
       "           4.01315510e-01, 4.20260698e-01, 1.78423807e-01]],\n",
       "\n",
       "         [[5.17333627e-01, 1.54333236e-03, 1.62133039e-03, ...,\n",
       "           4.00267154e-01, 4.19007719e-01, 1.80725157e-01],\n",
       "          [5.20475924e-01, 1.43842504e-03, 1.56384637e-03, ...,\n",
       "           4.08432335e-01, 4.04515624e-01, 1.87052086e-01],\n",
       "          [4.89587575e-01, 1.36983127e-03, 1.71979121e-03, ...,\n",
       "           2.91654855e-01, 4.65983659e-01, 2.42361456e-01],\n",
       "          [5.12161255e-01, 1.39378791e-03, 3.20259109e-03, ...,\n",
       "           3.43675733e-01, 4.13534731e-01, 2.42789567e-01]],\n",
       "\n",
       "         [[4.78121519e-01, 1.67225406e-03, 4.63172235e-03, ...,\n",
       "           2.85574764e-01, 4.64450419e-01, 2.49974757e-01],\n",
       "          [4.97528195e-01, 2.85151624e-03, 9.50121880e-03, ...,\n",
       "           4.00272608e-01, 3.15677226e-01, 2.84050226e-01],\n",
       "          [4.03792441e-01, 4.80106054e-03, 1.34992823e-02, ...,\n",
       "           1.32925376e-01, 6.59996033e-01, 2.07078621e-01],\n",
       "          [4.62322146e-01, 1.80384330e-02, 4.05819975e-02, ...,\n",
       "           1.86192766e-01, 5.39470792e-01, 2.74336427e-01]]]],\n",
       "\n",
       "\n",
       "\n",
       "       [[[[4.80089515e-01, 1.75098758e-02, 8.74835532e-03, ...,\n",
       "           3.28476012e-01, 5.42630613e-01, 1.28893405e-01],\n",
       "          [5.27391374e-01, 7.27424258e-03, 4.66431445e-03, ...,\n",
       "           3.43211502e-01, 5.38157761e-01, 1.18630752e-01],\n",
       "          [5.12184381e-01, 2.07142089e-03, 2.78733904e-03, ...,\n",
       "           5.08699477e-01, 3.72373581e-01, 1.18926905e-01],\n",
       "          [4.69133973e-01, 1.55355653e-03, 1.44015986e-03, ...,\n",
       "           3.82982999e-01, 5.01604438e-01, 1.15412638e-01]],\n",
       "\n",
       "         [[5.03225744e-01, 1.39819121e-03, 9.31091490e-04, ...,\n",
       "           2.95173198e-01, 5.94346642e-01, 1.10480160e-01],\n",
       "          [4.48330522e-01, 9.49203793e-04, 8.03739356e-04, ...,\n",
       "           2.50447690e-01, 6.17640615e-01, 1.31911740e-01],\n",
       "          [5.29895842e-01, 1.03438785e-03, 1.08230719e-03, ...,\n",
       "           3.83914322e-01, 4.72093880e-01, 1.43991858e-01],\n",
       "          [5.08429170e-01, 9.58178658e-04, 1.11496344e-03, ...,\n",
       "           3.51950139e-01, 5.04138947e-01, 1.43910930e-01]],\n",
       "\n",
       "         [[5.11841714e-01, 9.62983933e-04, 1.26061426e-03, ...,\n",
       "           4.51022118e-01, 3.90067905e-01, 1.58909962e-01],\n",
       "          [4.85132635e-01, 9.60661506e-04, 1.09648542e-03, ...,\n",
       "           4.33794290e-01, 4.12734509e-01, 1.53471217e-01],\n",
       "          [4.64403033e-01, 7.82504154e-04, 8.94410128e-04, ...,\n",
       "           4.55468923e-01, 4.06450689e-01, 1.38080388e-01],\n",
       "          [4.57206547e-01, 6.34401687e-04, 6.43084000e-04, ...,\n",
       "           4.32471186e-01, 4.45164740e-01, 1.22364126e-01]]],\n",
       "\n",
       "\n",
       "        [[[4.97566968e-01, 6.74731040e-04, 6.47157605e-04, ...,\n",
       "           4.25975055e-01, 4.59905595e-01, 1.14119403e-01],\n",
       "          [4.94083881e-01, 6.83730876e-04, 6.03913097e-04, ...,\n",
       "           4.03634936e-01, 4.78783339e-01, 1.17581710e-01],\n",
       "          [5.05887389e-01, 7.18621188e-04, 7.25878926e-04, ...,\n",
       "           4.42079812e-01, 4.45223868e-01, 1.12696357e-01],\n",
       "          [4.88716424e-01, 7.59428251e-04, 7.47090206e-04, ...,\n",
       "           4.20914590e-01, 4.57719713e-01, 1.21365719e-01]],\n",
       "\n",
       "         [[5.16647160e-01, 8.83553701e-04, 8.60864180e-04, ...,\n",
       "           4.43047851e-01, 4.37274814e-01, 1.19677290e-01],\n",
       "          [5.28635919e-01, 9.89297405e-04, 9.44522733e-04, ...,\n",
       "           4.42862809e-01, 4.36343253e-01, 1.20794006e-01],\n",
       "          [5.08566320e-01, 1.01269770e-03, 9.58980294e-04, ...,\n",
       "           4.47412372e-01, 4.36948985e-01, 1.15638599e-01],\n",
       "          [5.01653492e-01, 9.92676825e-04, 8.25809431e-04, ...,\n",
       "           4.11599427e-01, 4.79092956e-01, 1.09307609e-01]],\n",
       "\n",
       "         [[5.04378796e-01, 1.06516667e-03, 7.96051638e-04, ...,\n",
       "           3.90276045e-01, 4.99319345e-01, 1.10404626e-01],\n",
       "          [4.96381879e-01, 1.03907671e-03, 7.72552623e-04, ...,\n",
       "           3.91025186e-01, 4.92771387e-01, 1.16203412e-01],\n",
       "          [5.29842913e-01, 1.02095457e-03, 1.01350422e-03, ...,\n",
       "           4.64313507e-01, 4.17277247e-01, 1.18409336e-01],\n",
       "          [5.16742110e-01, 1.03009434e-03, 9.35941294e-04, ...,\n",
       "           4.23918068e-01, 4.56622779e-01, 1.19459145e-01]]],\n",
       "\n",
       "\n",
       "        [[[5.31972349e-01, 1.17302081e-03, 9.66452411e-04, ...,\n",
       "           4.16125000e-01, 4.61157590e-01, 1.22717440e-01],\n",
       "          [5.40208042e-01, 1.30334473e-03, 1.18418329e-03, ...,\n",
       "           4.44602042e-01, 4.33302194e-01, 1.22095786e-01],\n",
       "          [4.83875692e-01, 1.17971876e-03, 1.03189738e-03, ...,\n",
       "           4.24138278e-01, 4.59336936e-01, 1.16524756e-01],\n",
       "          [4.81011242e-01, 1.00698671e-03, 8.05388147e-04, ...,\n",
       "           4.10551906e-01, 4.82885391e-01, 1.06562689e-01]],\n",
       "\n",
       "         [[5.05742729e-01, 1.11234328e-03, 8.72019737e-04, ...,\n",
       "           4.03252363e-01, 4.89607155e-01, 1.07140392e-01],\n",
       "          [4.97095197e-01, 1.11256680e-03, 7.68118480e-04, ...,\n",
       "           3.66682768e-01, 5.22425413e-01, 1.10891826e-01],\n",
       "          [5.30712306e-01, 1.06472545e-03, 8.87807459e-04, ...,\n",
       "           4.14960623e-01, 4.63863879e-01, 1.21175490e-01],\n",
       "          [5.15720367e-01, 1.04479294e-03, 8.05435469e-04, ...,\n",
       "           3.85850936e-01, 4.93595272e-01, 1.20553784e-01]],\n",
       "\n",
       "         [[5.02452016e-01, 9.91183799e-04, 8.86045978e-04, ...,\n",
       "           4.36271489e-01, 4.42849934e-01, 1.20878622e-01],\n",
       "          [5.11007726e-01, 1.03596563e-03, 9.85892024e-04, ...,\n",
       "           4.59631622e-01, 4.30521816e-01, 1.09846622e-01],\n",
       "          [4.61821496e-01, 9.64489009e-04, 9.55422176e-04, ...,\n",
       "           4.55381393e-01, 4.29351300e-01, 1.15267307e-01],\n",
       "          [4.84134346e-01, 8.18462984e-04, 8.51173303e-04, ...,\n",
       "           4.85099524e-01, 4.05669302e-01, 1.09231241e-01]]],\n",
       "\n",
       "\n",
       "        ...,\n",
       "\n",
       "\n",
       "        [[[4.92283612e-01, 4.05951403e-03, 3.56766721e-03, ...,\n",
       "           4.05556291e-01, 4.42089766e-01, 1.52353883e-01],\n",
       "          [4.86360788e-01, 4.09466820e-03, 3.55900894e-03, ...,\n",
       "           4.04655933e-01, 4.44851100e-01, 1.50492951e-01],\n",
       "          [4.72070962e-01, 3.80072836e-03, 3.70924803e-03, ...,\n",
       "           4.20617014e-01, 4.20943856e-01, 1.58439174e-01],\n",
       "          [4.74804282e-01, 3.44970031e-03, 3.24332295e-03, ...,\n",
       "           4.13278997e-01, 4.35640961e-01, 1.51080072e-01]],\n",
       "\n",
       "         [[4.87040311e-01, 3.72171216e-03, 3.29587073e-03, ...,\n",
       "           4.02198255e-01, 4.49747652e-01, 1.48054048e-01],\n",
       "          [4.95685518e-01, 3.86298052e-03, 3.56672215e-03, ...,\n",
       "           4.18171674e-01, 4.33299839e-01, 1.48528442e-01],\n",
       "          [4.83420402e-01, 3.96668073e-03, 3.80222150e-03, ...,\n",
       "           4.16274339e-01, 4.21474159e-01, 1.62251458e-01],\n",
       "          [4.80930924e-01, 3.95330507e-03, 3.73171526e-03, ...,\n",
       "           4.13019478e-01, 4.20803428e-01, 1.66177109e-01]],\n",
       "\n",
       "         [[4.88260925e-01, 4.15118923e-03, 3.89171601e-03, ...,\n",
       "           4.18747336e-01, 4.21660900e-01, 1.59591764e-01],\n",
       "          [5.03555000e-01, 4.38357284e-03, 4.22097510e-03, ...,\n",
       "           4.37791288e-01, 4.08396572e-01, 1.53812110e-01],\n",
       "          [4.89750117e-01, 4.46898350e-03, 4.42455290e-03, ...,\n",
       "           4.41315502e-01, 4.07548964e-01, 1.51135534e-01],\n",
       "          [4.90912855e-01, 4.40912787e-03, 4.23554098e-03, ...,\n",
       "           4.38919008e-01, 4.14888263e-01, 1.46192670e-01]]],\n",
       "\n",
       "\n",
       "        [[[4.99941945e-01, 4.69262898e-03, 4.28483915e-03, ...,\n",
       "           4.23624843e-01, 4.34625864e-01, 1.41749322e-01],\n",
       "          [5.08386374e-01, 4.91413102e-03, 4.30346141e-03, ...,\n",
       "           4.17197198e-01, 4.38927233e-01, 1.43875554e-01],\n",
       "          [5.17432451e-01, 5.07061556e-03, 4.77074925e-03, ...,\n",
       "           4.26652461e-01, 4.24044579e-01, 1.49302945e-01],\n",
       "          [5.05304158e-01, 5.12112025e-03, 4.73469030e-03, ...,\n",
       "           4.12607998e-01, 4.25242841e-01, 1.62149161e-01]],\n",
       "\n",
       "         [[5.26034653e-01, 4.50842362e-03, 4.34737885e-03, ...,\n",
       "           4.38767493e-01, 4.10052508e-01, 1.51180014e-01],\n",
       "          [5.21349967e-01, 4.25293343e-03, 4.18147258e-03, ...,\n",
       "           4.43429708e-01, 4.02689099e-01, 1.53881192e-01],\n",
       "          [5.01783073e-01, 3.21150618e-03, 3.62131139e-03, ...,\n",
       "           4.64032292e-01, 3.77854079e-01, 1.58113599e-01],\n",
       "          [4.94474232e-01, 2.54173530e-03, 2.86288792e-03, ...,\n",
       "           4.56078887e-01, 3.96451741e-01, 1.47469401e-01]],\n",
       "\n",
       "         [[5.04461944e-01, 2.20997538e-03, 2.28303997e-03, ...,\n",
       "           4.36182052e-01, 4.09263223e-01, 1.54554680e-01],\n",
       "          [4.89030689e-01, 1.90802023e-03, 2.02005263e-03, ...,\n",
       "           4.35490191e-01, 4.09258246e-01, 1.55251607e-01],\n",
       "          [5.00812173e-01, 1.62865338e-03, 1.77932251e-03, ...,\n",
       "           4.22885448e-01, 4.03018892e-01, 1.74095690e-01],\n",
       "          [4.81237352e-01, 1.56067649e-03, 1.59447198e-03, ...,\n",
       "           3.88276219e-01, 4.28124309e-01, 1.83599472e-01]]],\n",
       "\n",
       "\n",
       "        [[[4.80761707e-01, 1.42144994e-03, 1.44575397e-03, ...,\n",
       "           3.97150517e-01, 4.21794057e-01, 1.81055397e-01],\n",
       "          [4.99672264e-01, 1.36088522e-03, 1.61287317e-03, ...,\n",
       "           4.46304440e-01, 3.77038032e-01, 1.76657528e-01],\n",
       "          [5.16343474e-01, 1.34541199e-03, 1.47969858e-03, ...,\n",
       "           4.29246277e-01, 4.06016558e-01, 1.64737180e-01],\n",
       "          [4.95819390e-01, 1.29205163e-03, 1.36583415e-03, ...,\n",
       "           4.04763758e-01, 4.23981249e-01, 1.71254978e-01]],\n",
       "\n",
       "         [[5.19154727e-01, 1.20525737e-03, 1.26139668e-03, ...,\n",
       "           4.04038489e-01, 4.22404259e-01, 1.73557326e-01],\n",
       "          [5.22370160e-01, 1.11715659e-03, 1.21207244e-03, ...,\n",
       "           4.12895352e-01, 4.07182544e-01, 1.79922149e-01],\n",
       "          [4.91180062e-01, 1.06532429e-03, 1.33592926e-03, ...,\n",
       "           2.91407704e-01, 4.70772147e-01, 2.37820193e-01],\n",
       "          [5.14559388e-01, 1.08088052e-03, 2.56320648e-03, ...,\n",
       "           3.45812201e-01, 4.15816277e-01, 2.38371491e-01]],\n",
       "\n",
       "         [[4.78848875e-01, 1.29947113e-03, 3.76033993e-03, ...,\n",
       "           2.84506857e-01, 4.69784796e-01, 2.45708287e-01],\n",
       "          [4.99859005e-01, 2.27133324e-03, 8.00609123e-03, ...,\n",
       "           4.06476527e-01, 3.12318146e-01, 2.81205386e-01],\n",
       "          [4.03923839e-01, 3.92117770e-03, 1.15807094e-02, ...,\n",
       "           1.27118900e-01, 6.72435760e-01, 2.00445309e-01],\n",
       "          [4.71725523e-01, 1.59421973e-02, 3.70967165e-02, ...,\n",
       "           1.81301907e-01, 5.47878683e-01, 2.70819336e-01]]]],\n",
       "\n",
       "\n",
       "\n",
       "       ...,\n",
       "\n",
       "\n",
       "\n",
       "       [[[[4.47379977e-01, 2.54927762e-02, 1.40483091e-02, ...,\n",
       "           3.28431964e-01, 5.18520534e-01, 1.53047457e-01],\n",
       "          [5.06824553e-01, 1.25991171e-02, 8.63030553e-03, ...,\n",
       "           3.42280984e-01, 5.15009046e-01, 1.42710030e-01],\n",
       "          [5.00114620e-01, 4.32338472e-03, 5.59338741e-03, ...,\n",
       "           4.78165358e-01, 3.77079666e-01, 1.44755021e-01],\n",
       "          [4.66956973e-01, 3.38407862e-03, 3.20536247e-03, ...,\n",
       "           3.75824362e-01, 4.83368993e-01, 1.40806571e-01]],\n",
       "\n",
       "         [[4.96820301e-01, 3.09840427e-03, 2.22338992e-03, ...,\n",
       "           3.04233462e-01, 5.59287667e-01, 1.36478871e-01],\n",
       "          [4.50631231e-01, 2.20385403e-03, 1.98079576e-03, ...,\n",
       "           2.64331371e-01, 5.78477919e-01, 1.57190710e-01],\n",
       "          [5.20532310e-01, 2.36712652e-03, 2.55778059e-03, ...,\n",
       "           3.76864433e-01, 4.55229849e-01, 1.67905763e-01],\n",
       "          [5.01882553e-01, 2.21076980e-03, 2.59591988e-03, ...,\n",
       "           3.49451959e-01, 4.82914716e-01, 1.67633310e-01]],\n",
       "\n",
       "         [[5.05219400e-01, 2.21746345e-03, 2.86379037e-03, ...,\n",
       "           4.27167952e-01, 3.91343832e-01, 1.81488261e-01],\n",
       "          [4.85816956e-01, 2.25457596e-03, 2.56129028e-03, ...,\n",
       "           4.17587876e-01, 4.05152082e-01, 1.77260056e-01],\n",
       "          [4.67149258e-01, 1.89055467e-03, 2.14559678e-03, ...,\n",
       "           4.34366405e-01, 4.02283907e-01, 1.63349688e-01],\n",
       "          [4.61858869e-01, 1.58474839e-03, 1.63310266e-03, ...,\n",
       "           4.18136090e-01, 4.33925331e-01, 1.47938535e-01]]],\n",
       "\n",
       "\n",
       "        [[[4.95500326e-01, 1.67038734e-03, 1.65325077e-03, ...,\n",
       "           4.14937913e-01, 4.44913626e-01, 1.40148431e-01],\n",
       "          [4.89938647e-01, 1.66325609e-03, 1.56010815e-03, ...,\n",
       "           3.92234951e-01, 4.65390623e-01, 1.42374441e-01],\n",
       "          [5.01593828e-01, 1.76888215e-03, 1.81435561e-03, ...,\n",
       "           4.25672680e-01, 4.35554981e-01, 1.38772383e-01],\n",
       "          [4.84974504e-01, 1.82395196e-03, 1.86525681e-03, ...,\n",
       "           4.04775620e-01, 4.48706627e-01, 1.46517754e-01]],\n",
       "\n",
       "         [[5.09730875e-01, 2.10653758e-03, 2.10666214e-03, ...,\n",
       "           4.26946580e-01, 4.27361667e-01, 1.45691708e-01],\n",
       "          [5.21158159e-01, 2.32186797e-03, 2.28651939e-03, ...,\n",
       "           4.28010911e-01, 4.25503135e-01, 1.46485925e-01],\n",
       "          [5.04472613e-01, 2.38002976e-03, 2.32755183e-03, ...,\n",
       "           4.32105392e-01, 4.26351011e-01, 1.41543597e-01],\n",
       "          [4.98979092e-01, 2.34860834e-03, 2.06175027e-03, ...,\n",
       "           4.03736651e-01, 4.60984766e-01, 1.35278553e-01]],\n",
       "\n",
       "         [[5.00853837e-01, 2.49488652e-03, 1.99750206e-03, ...,\n",
       "           3.85587275e-01, 4.78170425e-01, 1.36242330e-01],\n",
       "          [4.94336933e-01, 2.44531641e-03, 1.94732763e-03, ...,\n",
       "           3.85529131e-01, 4.72618729e-01, 1.41852185e-01],\n",
       "          [5.21299243e-01, 2.41341768e-03, 2.44406564e-03, ...,\n",
       "           4.43304569e-01, 4.11761194e-01, 1.44934252e-01],\n",
       "          [5.10969639e-01, 2.43397709e-03, 2.29766872e-03, ...,\n",
       "           4.11450267e-01, 4.42607075e-01, 1.45942673e-01]]],\n",
       "\n",
       "\n",
       "        [[[5.23675740e-01, 2.72057811e-03, 2.37745047e-03, ...,\n",
       "           4.06101316e-01, 4.44407582e-01, 1.49491072e-01],\n",
       "          [5.30123293e-01, 2.98137753e-03, 2.82680639e-03, ...,\n",
       "           4.29210752e-01, 4.22010124e-01, 1.48779094e-01],\n",
       "          [4.83544141e-01, 2.75053084e-03, 2.50906032e-03, ...,\n",
       "           4.11292702e-01, 4.45332557e-01, 1.43374756e-01],\n",
       "          [4.82181847e-01, 2.42898171e-03, 2.05812231e-03, ...,\n",
       "           4.01698470e-01, 4.64511305e-01, 1.33790195e-01]],\n",
       "\n",
       "         [[5.02125084e-01, 2.63731414e-03, 2.20722845e-03, ...,\n",
       "           3.96462470e-01, 4.69241947e-01, 1.34295583e-01],\n",
       "          [4.96063888e-01, 2.64988560e-03, 2.00045225e-03, ...,\n",
       "           3.67062032e-01, 4.94717151e-01, 1.38220847e-01],\n",
       "          [5.22892475e-01, 2.58548069e-03, 2.26711598e-03, ...,\n",
       "           4.04169738e-01, 4.47779775e-01, 1.48050502e-01],\n",
       "          [5.11076629e-01, 2.57062656e-03, 2.12814915e-03, ...,\n",
       "           3.82622004e-01, 4.69950914e-01, 1.47427052e-01]],\n",
       "\n",
       "         [[4.98503000e-01, 2.50473525e-03, 2.32648407e-03, ...,\n",
       "           4.21140671e-01, 4.30944383e-01, 1.47915035e-01],\n",
       "          [5.06738365e-01, 2.62382417e-03, 2.56528216e-03, ...,\n",
       "           4.41461354e-01, 4.21598852e-01, 1.36939883e-01],\n",
       "          [4.67543453e-01, 2.51968321e-03, 2.52366555e-03, ...,\n",
       "           4.35920298e-01, 4.22060609e-01, 1.42019093e-01],\n",
       "          [4.85890806e-01, 2.22567376e-03, 2.30130507e-03, ...,\n",
       "           4.58477199e-01, 4.04875100e-01, 1.36647686e-01]]],\n",
       "\n",
       "\n",
       "        ...,\n",
       "\n",
       "\n",
       "        [[[4.96283084e-01, 1.48566486e-03, 1.21916027e-03, ...,\n",
       "           4.18225586e-01, 4.62260962e-01, 1.19513445e-01],\n",
       "          [4.88265157e-01, 1.50635524e-03, 1.20483129e-03, ...,\n",
       "           4.14277017e-01, 4.68407035e-01, 1.17315985e-01],\n",
       "          [4.70323771e-01, 1.36652216e-03, 1.28773472e-03, ...,\n",
       "           4.40518498e-01, 4.32907075e-01, 1.26574412e-01],\n",
       "          [4.72645044e-01, 1.20015547e-03, 1.07553450e-03, ...,\n",
       "           4.28395271e-01, 4.53340948e-01, 1.18263811e-01]],\n",
       "\n",
       "         [[4.88572180e-01, 1.33841380e-03, 1.10776804e-03, ...,\n",
       "           4.13998008e-01, 4.71374303e-01, 1.14627652e-01],\n",
       "          [5.01673162e-01, 1.41487946e-03, 1.24182273e-03, ...,\n",
       "           4.37849522e-01, 4.47559565e-01, 1.14590995e-01],\n",
       "          [4.83751327e-01, 1.48327253e-03, 1.35928718e-03, ...,\n",
       "           4.34330791e-01, 4.36253548e-01, 1.29415601e-01],\n",
       "          [4.83020008e-01, 1.48436020e-03, 1.33904093e-03, ...,\n",
       "           4.33052868e-01, 4.33724076e-01, 1.33223101e-01]],\n",
       "\n",
       "         [[4.98178810e-01, 1.62738562e-03, 1.45415589e-03, ...,\n",
       "           4.41760272e-01, 4.33207870e-01, 1.25031859e-01],\n",
       "          [5.13564169e-01, 1.76654221e-03, 1.63282338e-03, ...,\n",
       "           4.64210093e-01, 4.15551007e-01, 1.20238885e-01],\n",
       "          [4.94888783e-01, 1.83575274e-03, 1.74499641e-03, ...,\n",
       "           4.64912862e-01, 4.16879445e-01, 1.18207626e-01],\n",
       "          [4.96964246e-01, 1.81007129e-03, 1.65079033e-03, ...,\n",
       "           4.60201830e-01, 4.26168919e-01, 1.13629244e-01]]],\n",
       "\n",
       "\n",
       "        [[[5.08274078e-01, 1.97631354e-03, 1.68298522e-03, ...,\n",
       "           4.37309414e-01, 4.53234106e-01, 1.09456502e-01],\n",
       "          [5.20106614e-01, 2.09402083e-03, 1.70556142e-03, ...,\n",
       "           4.31166172e-01, 4.56649780e-01, 1.12184070e-01],\n",
       "          [5.33585548e-01, 2.20193062e-03, 1.96026149e-03, ...,\n",
       "           4.46106344e-01, 4.36627686e-01, 1.17266029e-01],\n",
       "          [5.22886395e-01, 2.24629766e-03, 1.95922004e-03, ...,\n",
       "           4.32471961e-01, 4.38598007e-01, 1.28929988e-01]],\n",
       "\n",
       "         [[5.46107352e-01, 1.90304581e-03, 1.77269801e-03, ...,\n",
       "           4.68145728e-01, 4.13866222e-01, 1.17988117e-01],\n",
       "          [5.38701177e-01, 1.78059470e-03, 1.68014434e-03, ...,\n",
       "           4.71802175e-01, 4.08084780e-01, 1.20113052e-01],\n",
       "          [5.08014619e-01, 1.23167911e-03, 1.39041955e-03, ...,\n",
       "           4.98111606e-01, 3.76941204e-01, 1.24947183e-01],\n",
       "          [4.97918010e-01, 9.09623865e-04, 1.02349615e-03, ...,\n",
       "           4.85715121e-01, 4.00241673e-01, 1.14043199e-01]],\n",
       "\n",
       "         [[5.08726895e-01, 7.54764478e-04, 7.62063777e-04, ...,\n",
       "           4.59934592e-01, 4.18131590e-01, 1.21933773e-01],\n",
       "          [4.87591714e-01, 6.20436098e-04, 6.48169604e-04, ...,\n",
       "           4.59085405e-01, 4.18030858e-01, 1.22883722e-01],\n",
       "          [5.03784657e-01, 5.04213560e-04, 5.49409946e-04, ...,\n",
       "           4.46284533e-01, 4.11071122e-01, 1.42644346e-01],\n",
       "          [4.77817714e-01, 4.75318608e-04, 4.73117543e-04, ...,\n",
       "           3.99847031e-01, 4.46967334e-01, 1.53185651e-01]]],\n",
       "\n",
       "\n",
       "        [[[4.77283031e-01, 4.17769304e-04, 4.12206369e-04, ...,\n",
       "           4.11070555e-01, 4.39094365e-01, 1.49835050e-01],\n",
       "          [5.02430558e-01, 3.92282091e-04, 4.69484308e-04, ...,\n",
       "           4.75729257e-01, 3.80267203e-01, 1.44003525e-01],\n",
       "          [5.23639739e-01, 3.81459657e-04, 4.18101525e-04, ...,\n",
       "           4.53718841e-01, 4.14845139e-01, 1.31435946e-01],\n",
       "          [4.95545298e-01, 3.59285856e-04, 3.72588547e-04, ...,\n",
       "           4.19767082e-01, 4.41694349e-01, 1.38538569e-01]],\n",
       "\n",
       "         [[5.25699198e-01, 3.24837543e-04, 3.32026859e-04, ...,\n",
       "           4.19010907e-01, 4.40046757e-01, 1.40942335e-01],\n",
       "          [5.29923558e-01, 2.92079552e-04, 3.13582830e-04, ...,\n",
       "           4.32673663e-01, 4.19586301e-01, 1.47739992e-01],\n",
       "          [4.98000592e-01, 2.81827262e-04, 3.52331816e-04, ...,\n",
       "           2.88458556e-01, 4.95752305e-01, 2.15789139e-01],\n",
       "          [5.25377214e-01, 2.81953544e-04, 7.90113758e-04, ...,\n",
       "           3.55435997e-01, 4.27582294e-01, 2.16981679e-01]],\n",
       "\n",
       "         [[4.80785459e-01, 3.44673230e-04, 1.25499989e-03, ...,\n",
       "           2.77366161e-01, 4.97588336e-01, 2.25045487e-01],\n",
       "          [5.07440805e-01, 6.84658356e-04, 3.22703714e-03, ...,\n",
       "           4.35105413e-01, 2.97203660e-01, 2.67690927e-01],\n",
       "          [3.95924866e-01, 1.33773766e-03, 5.06862300e-03, ...,\n",
       "           9.77821052e-02, 7.35608697e-01, 1.66609123e-01],\n",
       "          [5.08437276e-01, 8.09958763e-03, 2.24017054e-02, ...,\n",
       "           1.55995384e-01, 5.93045413e-01, 2.50959188e-01]]]],\n",
       "\n",
       "\n",
       "\n",
       "       [[[[4.52225715e-01, 2.42412537e-02, 1.31857442e-02, ...,\n",
       "           3.28552365e-01, 5.21884143e-01, 1.49563491e-01],\n",
       "          [5.10248959e-01, 1.16907516e-02, 7.93324970e-03, ...,\n",
       "           3.42626572e-01, 5.18223345e-01, 1.39150023e-01],\n",
       "          [5.02653062e-01, 3.91334016e-03, 5.08650905e-03, ...,\n",
       "           4.82516378e-01, 3.76595885e-01, 1.40887707e-01],\n",
       "          [4.67611015e-01, 3.04589630e-03, 2.87311547e-03, ...,\n",
       "           3.76693547e-01, 4.86203432e-01, 1.37102976e-01]],\n",
       "\n",
       "         [[4.98108119e-01, 2.77707819e-03, 1.97293307e-03, ...,\n",
       "           3.03181827e-01, 5.64085066e-01, 1.32733107e-01],\n",
       "          [4.50602084e-01, 1.96257653e-03, 1.74881762e-03, ...,\n",
       "           2.62326092e-01, 5.84076405e-01, 1.53597444e-01],\n",
       "          [5.21577239e-01, 2.11119233e-03, 2.26547359e-03, ...,\n",
       "           3.77067596e-01, 4.58481759e-01, 1.64450690e-01],\n",
       "          [5.02804101e-01, 1.97240128e-03, 2.30935006e-03, ...,\n",
       "           3.49482626e-01, 4.86233413e-01, 1.64283931e-01]],\n",
       "\n",
       "         [[5.06018817e-01, 1.97958434e-03, 2.55800318e-03, ...,\n",
       "           4.30211276e-01, 3.91417295e-01, 1.78371415e-01],\n",
       "          [4.85602528e-01, 2.00634892e-03, 2.27701524e-03, ...,\n",
       "           4.19410229e-01, 4.06613886e-01, 1.73975870e-01],\n",
       "          [4.67224061e-01, 1.68005063e-03, 1.90688204e-03, ...,\n",
       "           4.37331915e-01, 4.02928025e-01, 1.59740046e-01],\n",
       "          [4.61593419e-01, 1.40402897e-03, 1.44154427e-03, ...,\n",
       "           4.19987977e-01, 4.35700238e-01, 1.44311741e-01]]],\n",
       "\n",
       "\n",
       "        [[[4.95955616e-01, 1.48093281e-03, 1.45563355e-03, ...,\n",
       "           4.16064918e-01, 4.47546959e-01, 1.36388123e-01],\n",
       "          [4.91338581e-01, 1.48327043e-03, 1.37271313e-03, ...,\n",
       "           3.94374579e-01, 4.66617674e-01, 1.39007717e-01],\n",
       "          [5.02416134e-01, 1.56842207e-03, 1.60480326e-03, ...,\n",
       "           4.28255767e-01, 4.36738372e-01, 1.35005891e-01],\n",
       "          [4.86003548e-01, 1.62374158e-03, 1.64777727e-03, ...,\n",
       "           4.07546729e-01, 4.49574500e-01, 1.42878786e-01]],\n",
       "\n",
       "         [[5.11197567e-01, 1.87442137e-03, 1.86448474e-03, ...,\n",
       "           4.29239452e-01, 4.28967625e-01, 1.41792864e-01],\n",
       "          [5.22277832e-01, 2.06955965e-03, 2.02405779e-03, ...,\n",
       "           4.29696143e-01, 4.27577615e-01, 1.42726228e-01],\n",
       "          [5.05197346e-01, 2.11775559e-03, 2.05795420e-03, ...,\n",
       "           4.34008300e-01, 4.28296357e-01, 1.37695402e-01],\n",
       "          [4.99366850e-01, 2.08589761e-03, 1.81432918e-03, ...,\n",
       "           4.04575557e-01, 4.63946581e-01, 1.31477892e-01]],\n",
       "\n",
       "         [[5.01610398e-01, 2.21658521e-03, 1.75631489e-03, ...,\n",
       "           3.86296660e-01, 4.81225967e-01, 1.32477403e-01],\n",
       "          [4.94843781e-01, 2.16924492e-03, 1.71017332e-03, ...,\n",
       "           3.86341751e-01, 4.75505471e-01, 1.38152808e-01],\n",
       "          [5.22846401e-01, 2.13616504e-03, 2.15547695e-03, ...,\n",
       "           4.46483254e-01, 4.12713975e-01, 1.40802771e-01],\n",
       "          [5.12007892e-01, 2.15250370e-03, 2.01691338e-03, ...,\n",
       "           4.13146138e-01, 4.45090920e-01, 1.41762927e-01]]],\n",
       "\n",
       "\n",
       "        [[[5.25250435e-01, 2.40769959e-03, 2.08153832e-03, ...,\n",
       "           4.07348722e-01, 4.47305679e-01, 1.45345598e-01],\n",
       "          [5.31665981e-01, 2.63875583e-03, 2.47708801e-03, ...,\n",
       "           4.30626869e-01, 4.24639016e-01, 1.44734174e-01],\n",
       "          [4.83861983e-01, 2.42102589e-03, 2.19309214e-03, ...,\n",
       "           4.13245410e-01, 4.47515666e-01, 1.39238834e-01],\n",
       "          [4.81667161e-01, 2.12090323e-03, 1.78108027e-03, ...,\n",
       "           4.02867794e-01, 4.67654258e-01, 1.29477963e-01]],\n",
       "\n",
       "         [[5.02678096e-01, 2.29998864e-03, 1.90553232e-03, ...,\n",
       "           3.97617400e-01, 4.72522676e-01, 1.29859954e-01],\n",
       "          [4.95857716e-01, 2.30129482e-03, 1.71332201e-03, ...,\n",
       "           3.67043585e-01, 4.99176145e-01, 1.33780241e-01],\n",
       "          [5.23955047e-01, 2.23175366e-03, 1.94246985e-03, ...,\n",
       "           4.05613452e-01, 4.50661957e-01, 1.43724650e-01],\n",
       "          [5.11941671e-01, 2.21337727e-03, 1.81398622e-03, ...,\n",
       "           3.83116037e-01, 4.73780453e-01, 1.43103555e-01]],\n",
       "\n",
       "         [[4.99509335e-01, 2.14969995e-03, 1.98695133e-03, ...,\n",
       "           4.23458993e-01, 4.32881773e-01, 1.43659279e-01],\n",
       "          [5.08386612e-01, 2.25828309e-03, 2.20279861e-03, ...,\n",
       "           4.44751859e-01, 4.22577679e-01, 1.32670432e-01],\n",
       "          [4.66622412e-01, 2.15909211e-03, 2.16441532e-03, ...,\n",
       "           4.39052492e-01, 4.22884166e-01, 1.38063312e-01],\n",
       "          [4.85708386e-01, 1.89378508e-03, 1.96513883e-03, ...,\n",
       "           4.62735444e-01, 4.04690206e-01, 1.32574350e-01]]],\n",
       "\n",
       "\n",
       "        ...,\n",
       "\n",
       "\n",
       "        [[[4.96551603e-01, 1.41169433e-03, 1.14857533e-03, ...,\n",
       "           4.19181347e-01, 4.64489758e-01, 1.16328880e-01],\n",
       "          [4.88169789e-01, 1.43501512e-03, 1.13137648e-03, ...,\n",
       "           4.13908243e-01, 4.71985728e-01, 1.14105985e-01],\n",
       "          [4.70616698e-01, 1.29590021e-03, 1.21960277e-03, ...,\n",
       "           4.43467855e-01, 4.33089167e-01, 1.23442911e-01],\n",
       "          [4.72438723e-01, 1.12935330e-03, 1.00606377e-03, ...,\n",
       "           4.29631859e-01, 4.55527097e-01, 1.14841036e-01]],\n",
       "\n",
       "         [[4.88771319e-01, 1.26125617e-03, 1.03826309e-03, ...,\n",
       "           4.15845066e-01, 4.72877353e-01, 1.11277603e-01],\n",
       "          [5.02160728e-01, 1.33423903e-03, 1.16555556e-03, ...,\n",
       "           4.40188378e-01, 4.48776186e-01, 1.11035414e-01],\n",
       "          [4.81961191e-01, 1.39543228e-03, 1.27923780e-03, ...,\n",
       "           4.36828345e-01, 4.36778873e-01, 1.26392737e-01],\n",
       "          [4.81830597e-01, 1.38656225e-03, 1.25694694e-03, ...,\n",
       "           4.37306076e-01, 4.32892472e-01, 1.29801452e-01]],\n",
       "\n",
       "         [[5.01126468e-01, 1.53066556e-03, 1.38111401e-03, ...,\n",
       "           4.49223787e-01, 4.29846406e-01, 1.20929807e-01],\n",
       "          [5.13195097e-01, 1.66452967e-03, 1.54597429e-03, ...,\n",
       "           4.69072908e-01, 4.14376795e-01, 1.16550341e-01],\n",
       "          [4.95428115e-01, 1.72318460e-03, 1.63601385e-03, ...,\n",
       "           4.68130052e-01, 4.17876899e-01, 1.13993056e-01],\n",
       "          [4.97037321e-01, 1.69412536e-03, 1.53095415e-03, ...,\n",
       "           4.61041570e-01, 4.28930879e-01, 1.10027529e-01]]],\n",
       "\n",
       "\n",
       "        [[[5.07911205e-01, 1.83329755e-03, 1.54120754e-03, ...,\n",
       "           4.36062366e-01, 4.58196729e-01, 1.05740860e-01],\n",
       "          [5.19875705e-01, 1.91731867e-03, 1.55483163e-03, ...,\n",
       "           4.32024926e-01, 4.59004134e-01, 1.08970903e-01],\n",
       "          [5.35924971e-01, 2.00525974e-03, 1.79371191e-03, ...,\n",
       "           4.50593680e-01, 4.35853243e-01, 1.13553099e-01],\n",
       "          [5.23123085e-01, 2.03684112e-03, 1.79551588e-03, ...,\n",
       "           4.37077165e-01, 4.37432677e-01, 1.25490203e-01]],\n",
       "\n",
       "         [[5.49077630e-01, 1.72758952e-03, 1.61266327e-03, ...,\n",
       "           4.72379625e-01, 4.13301826e-01, 1.14318565e-01],\n",
       "          [5.40273845e-01, 1.61641743e-03, 1.52451266e-03, ...,\n",
       "           4.75232214e-01, 4.08303440e-01, 1.16464324e-01],\n",
       "          [5.09253204e-01, 1.11142837e-03, 1.25366368e-03, ...,\n",
       "           5.00748813e-01, 3.78015399e-01, 1.21235773e-01],\n",
       "          [4.98779655e-01, 8.22586589e-04, 9.18561767e-04, ...,\n",
       "           4.86183256e-01, 4.03023064e-01, 1.10793702e-01]],\n",
       "\n",
       "         [[5.06688893e-01, 6.78784447e-04, 6.81731093e-04, ...,\n",
       "           4.59548324e-01, 4.21438903e-01, 1.19012773e-01],\n",
       "          [4.86564904e-01, 5.57001214e-04, 5.84767782e-04, ...,\n",
       "           4.61526573e-01, 4.18350130e-01, 1.20123290e-01],\n",
       "          [5.04431963e-01, 4.56175621e-04, 5.00037859e-04, ...,\n",
       "           4.50346977e-01, 4.09951359e-01, 1.39701650e-01],\n",
       "          [4.78598237e-01, 4.33384150e-04, 4.31789231e-04, ...,\n",
       "           4.02498454e-01, 4.47343379e-01, 1.50158182e-01]]],\n",
       "\n",
       "\n",
       "        [[[4.77364510e-01, 3.83500505e-04, 3.75994743e-04, ...,\n",
       "           4.12363440e-01, 4.41394597e-01, 1.46241963e-01],\n",
       "          [5.03986180e-01, 3.61664279e-04, 4.30745014e-04, ...,\n",
       "           4.78871912e-01, 3.81223649e-01, 1.39904410e-01],\n",
       "          [5.24710774e-01, 3.50630609e-04, 3.84497514e-04, ...,\n",
       "           4.57488298e-01, 4.14728045e-01, 1.27783731e-01],\n",
       "          [4.95061666e-01, 3.27729940e-04, 3.38775193e-04, ...,\n",
       "           4.21648324e-01, 4.43608284e-01, 1.34743363e-01]],\n",
       "\n",
       "         [[5.27114987e-01, 2.94750091e-04, 3.01012857e-04, ...,\n",
       "           4.22539026e-01, 4.40404117e-01, 1.37056887e-01],\n",
       "          [5.30951440e-01, 2.64214090e-04, 2.83043541e-04, ...,\n",
       "           4.36067730e-01, 4.20387924e-01, 1.43544376e-01],\n",
       "          [4.98579383e-01, 2.54094222e-04, 3.16193706e-04, ...,\n",
       "           2.89250165e-01, 4.97592300e-01, 2.13157490e-01],\n",
       "          [5.25671840e-01, 2.52969126e-04, 7.17712275e-04, ...,\n",
       "           3.57364088e-01, 4.28112000e-01, 2.14523882e-01]],\n",
       "\n",
       "         [[4.80467141e-01, 3.07563605e-04, 1.14202918e-03, ...,\n",
       "           2.77562886e-01, 5.00005364e-01, 2.22431809e-01],\n",
       "          [5.07889688e-01, 6.15822501e-04, 2.98942579e-03, ...,\n",
       "           4.41327095e-01, 2.93465734e-01, 2.65207201e-01],\n",
       "          [3.97198111e-01, 1.21653860e-03, 4.74702939e-03, ...,\n",
       "           9.68970433e-02, 7.38793612e-01, 1.64309338e-01],\n",
       "          [5.12529194e-01, 7.64408987e-03, 2.15414073e-02, ...,\n",
       "           1.54679999e-01, 5.95215261e-01, 2.50104696e-01]]]],\n",
       "\n",
       "\n",
       "\n",
       "       [[[[4.51133579e-01, 2.44957525e-02, 1.33635318e-02, ...,\n",
       "           3.28535289e-01, 5.21163225e-01, 1.50301456e-01],\n",
       "          [5.09623826e-01, 1.18725784e-02, 8.07046518e-03, ...,\n",
       "           3.42611670e-01, 5.17521739e-01, 1.39866561e-01],\n",
       "          [5.02489746e-01, 3.99831031e-03, 5.18929213e-03, ...,\n",
       "           4.81605649e-01, 3.76711488e-01, 1.41682863e-01],\n",
       "          [4.67590779e-01, 3.11708450e-03, 2.94073368e-03, ...,\n",
       "           3.76351178e-01, 4.85718280e-01, 1.37930498e-01]],\n",
       "\n",
       "         [[4.97915715e-01, 2.84243934e-03, 2.02386896e-03, ...,\n",
       "           3.03417593e-01, 5.62964380e-01, 1.33618027e-01],\n",
       "          [4.50751156e-01, 2.01246561e-03, 1.79660728e-03, ...,\n",
       "           2.62729734e-01, 5.82837760e-01, 1.54432505e-01],\n",
       "          [5.20947158e-01, 2.16492498e-03, 2.32323003e-03, ...,\n",
       "           3.76469553e-01, 4.58292365e-01, 1.65238097e-01],\n",
       "          [5.02433658e-01, 2.02610577e-03, 2.37087393e-03, ...,\n",
       "           3.49337310e-01, 4.85534400e-01, 1.65128320e-01]],\n",
       "\n",
       "         [[5.05627334e-01, 2.03620177e-03, 2.62759649e-03, ...,\n",
       "           4.29443210e-01, 3.91418308e-01, 1.79138407e-01],\n",
       "          [4.85534519e-01, 2.06583505e-03, 2.34186254e-03, ...,\n",
       "           4.18768942e-01, 4.06450719e-01, 1.74780309e-01],\n",
       "          [4.67582017e-01, 1.73621520e-03, 1.96829601e-03, ...,\n",
       "           4.36619133e-01, 4.02768821e-01, 1.60611987e-01],\n",
       "          [4.62145030e-01, 1.45513867e-03, 1.49306981e-03, ...,\n",
       "           4.19444412e-01, 4.35297251e-01, 1.45258307e-01]]],\n",
       "\n",
       "\n",
       "        [[[4.96018559e-01, 1.53391878e-03, 1.50719238e-03, ...,\n",
       "           4.15567130e-01, 4.47093874e-01, 1.37339011e-01],\n",
       "          [4.91703391e-01, 1.53910578e-03, 1.42240885e-03, ...,\n",
       "           3.94518286e-01, 4.65430379e-01, 1.40051290e-01],\n",
       "          [5.02427757e-01, 1.62211258e-03, 1.66162057e-03, ...,\n",
       "           4.28146034e-01, 4.35868353e-01, 1.35985613e-01],\n",
       "          [4.86304045e-01, 1.67805038e-03, 1.70286011e-03, ...,\n",
       "           4.07675177e-01, 4.48543191e-01, 1.43781677e-01]],\n",
       "\n",
       "         [[5.11286974e-01, 1.93272135e-03, 1.92268007e-03, ...,\n",
       "           4.28809285e-01, 4.28513378e-01, 1.42677307e-01],\n",
       "          [5.21904469e-01, 2.13019084e-03, 2.08351575e-03, ...,\n",
       "           4.29026514e-01, 4.27329749e-01, 1.43643662e-01],\n",
       "          [5.04972637e-01, 2.17632623e-03, 2.11536675e-03, ...,\n",
       "           4.33223099e-01, 4.28085566e-01, 1.38691321e-01],\n",
       "          [4.99283969e-01, 2.14263122e-03, 1.86704402e-03, ...,\n",
       "           4.04324472e-01, 4.63221669e-01, 1.32453874e-01]],\n",
       "\n",
       "         [[5.01514673e-01, 2.27561221e-03, 1.81062031e-03, ...,\n",
       "           3.86600614e-01, 4.79874581e-01, 1.33524805e-01],\n",
       "          [4.94962066e-01, 2.23066239e-03, 1.76603196e-03, ...,\n",
       "           3.86676162e-01, 4.74203259e-01, 1.39120579e-01],\n",
       "          [5.22457898e-01, 2.19613244e-03, 2.21927301e-03, ...,\n",
       "           4.46297050e-01, 4.12083834e-01, 1.41619146e-01],\n",
       "          [5.11628449e-01, 2.21065432e-03, 2.07410078e-03, ...,\n",
       "           4.13202524e-01, 4.44293469e-01, 1.42503962e-01]]],\n",
       "\n",
       "\n",
       "        [[[5.24989486e-01, 2.46716454e-03, 2.13934272e-03, ...,\n",
       "           4.07778472e-01, 4.46183771e-01, 1.46037817e-01],\n",
       "          [5.31248927e-01, 2.69931089e-03, 2.53186189e-03, ...,\n",
       "           4.30061489e-01, 4.24571514e-01, 1.45367011e-01],\n",
       "          [4.84094858e-01, 2.47618626e-03, 2.24720547e-03, ...,\n",
       "           4.13516402e-01, 4.46480423e-01, 1.40003175e-01],\n",
       "          [4.81562525e-01, 2.17117579e-03, 1.83022430e-03, ...,\n",
       "           4.03371811e-01, 4.66422528e-01, 1.30205661e-01]],\n",
       "\n",
       "         [[5.02489686e-01, 2.34910077e-03, 1.95572386e-03, ...,\n",
       "           3.98763090e-01, 4.70787317e-01, 1.30449578e-01],\n",
       "          [4.95548427e-01, 2.34905235e-03, 1.75944448e-03, ...,\n",
       "           3.68506372e-01, 4.97222155e-01, 1.34271517e-01],\n",
       "          [5.22924721e-01, 2.27780989e-03, 1.99098513e-03, ...,\n",
       "           4.06273812e-01, 4.49503452e-01, 1.44222781e-01],\n",
       "          [5.11416078e-01, 2.25969823e-03, 1.86115573e-03, ...,\n",
       "           3.84222329e-01, 4.72154737e-01, 1.43622920e-01]],\n",
       "\n",
       "         [[4.99474376e-01, 2.20097485e-03, 2.03952310e-03, ...,\n",
       "           4.23836827e-01, 4.32067066e-01, 1.44096091e-01],\n",
       "          [5.08712232e-01, 2.31800578e-03, 2.26634624e-03, ...,\n",
       "           4.45270240e-01, 4.21452671e-01, 1.33277163e-01],\n",
       "          [4.67015833e-01, 2.22014170e-03, 2.23441771e-03, ...,\n",
       "           4.39599574e-01, 4.21481043e-01, 1.38919324e-01],\n",
       "          [4.85687226e-01, 1.95040740e-03, 2.03025271e-03, ...,\n",
       "           4.62604493e-01, 4.03748512e-01, 1.33646950e-01]]],\n",
       "\n",
       "\n",
       "        ...,\n",
       "\n",
       "\n",
       "        [[[4.96232927e-01, 1.57136354e-03, 1.29381835e-03, ...,\n",
       "           4.17967230e-01, 4.61399823e-01, 1.20632902e-01],\n",
       "          [4.88183916e-01, 1.59322540e-03, 1.27935398e-03, ...,\n",
       "           4.14069444e-01, 4.67457175e-01, 1.18473366e-01],\n",
       "          [4.70492899e-01, 1.44625653e-03, 1.36665220e-03, ...,\n",
       "           4.40093726e-01, 4.32241291e-01, 1.27664953e-01],\n",
       "          [4.72881496e-01, 1.27071643e-03, 1.14218693e-03, ...,\n",
       "           4.28095281e-01, 4.52582568e-01, 1.19322151e-01]],\n",
       "\n",
       "         [[4.88777876e-01, 1.41446630e-03, 1.17558765e-03, ...,\n",
       "           4.14016753e-01, 4.70228374e-01, 1.15754902e-01],\n",
       "          [5.01395881e-01, 1.49341580e-03, 1.31427357e-03, ...,\n",
       "           4.37198132e-01, 4.47069019e-01, 1.15732893e-01],\n",
       "          [4.83414620e-01, 1.56079920e-03, 1.43509731e-03, ...,\n",
       "           4.33904290e-01, 4.35517907e-01, 1.30577832e-01],\n",
       "          [4.82470453e-01, 1.55756960e-03, 1.41065090e-03, ...,\n",
       "           4.32660192e-01, 4.32997644e-01, 1.34342149e-01]],\n",
       "\n",
       "         [[4.97801781e-01, 1.70220248e-03, 1.52868615e-03, ...,\n",
       "           4.41797972e-01, 4.32127833e-01, 1.26074195e-01],\n",
       "          [5.12530923e-01, 1.84241193e-03, 1.71009311e-03, ...,\n",
       "           4.63679254e-01, 4.14992422e-01, 1.21328324e-01],\n",
       "          [4.94791985e-01, 1.91036542e-03, 1.82095310e-03, ...,\n",
       "           4.64306235e-01, 4.16665375e-01, 1.19028315e-01],\n",
       "          [4.96693343e-01, 1.88307627e-03, 1.72094023e-03, ...,\n",
       "           4.59250659e-01, 4.26190108e-01, 1.14559270e-01]]],\n",
       "\n",
       "\n",
       "        [[[5.07710695e-01, 2.05054530e-03, 1.74997200e-03, ...,\n",
       "           4.36356068e-01, 4.53269362e-01, 1.10374555e-01],\n",
       "          [5.19598961e-01, 2.16725864e-03, 1.77324458e-03, ...,\n",
       "           4.30863678e-01, 4.55963314e-01, 1.13173045e-01],\n",
       "          [5.33019483e-01, 2.27551325e-03, 2.03596149e-03, ...,\n",
       "           4.46050644e-01, 4.35768217e-01, 1.18181154e-01],\n",
       "          [5.21850467e-01, 2.31723022e-03, 2.03272048e-03, ...,\n",
       "           4.32364613e-01, 4.37679261e-01, 1.29956126e-01]],\n",
       "\n",
       "         [[5.45526922e-01, 1.96635723e-03, 1.83884660e-03, ...,\n",
       "           4.67499226e-01, 4.13489878e-01, 1.19010836e-01],\n",
       "          [5.37775278e-01, 1.83888688e-03, 1.74096494e-03, ...,\n",
       "           4.70681608e-01, 4.08124894e-01, 1.21193565e-01],\n",
       "          [5.07709026e-01, 1.27715524e-03, 1.44146336e-03, ...,\n",
       "           4.96410459e-01, 3.77586305e-01, 1.26003310e-01],\n",
       "          [4.97774899e-01, 9.47936089e-04, 1.06637483e-03, ...,\n",
       "           4.84235555e-01, 4.00574088e-01, 1.15190312e-01]],\n",
       "\n",
       "         [[5.08028388e-01, 7.87561759e-04, 7.96156353e-04, ...,\n",
       "           4.58644390e-01, 4.18260098e-01, 1.23095438e-01],\n",
       "          [4.87397999e-01, 6.49155059e-04, 6.79048826e-04, ...,\n",
       "           4.58075792e-01, 4.17907029e-01, 1.24017172e-01],\n",
       "          [5.03824532e-01, 5.29959099e-04, 5.78336301e-04, ...,\n",
       "           4.45777893e-01, 4.10503596e-01, 1.43718511e-01],\n",
       "          [4.78204995e-01, 5.01031405e-04, 4.99336864e-04, ...,\n",
       "           3.99535120e-01, 4.46296126e-01, 1.54168785e-01]]],\n",
       "\n",
       "\n",
       "        [[[4.77441996e-01, 4.42022720e-04, 4.35988972e-04, ...,\n",
       "           4.10245329e-01, 4.39009517e-01, 1.50745198e-01],\n",
       "          [5.02624393e-01, 4.16255469e-04, 4.97597153e-04, ...,\n",
       "           4.74678099e-01, 3.80364418e-01, 1.44957528e-01],\n",
       "          [5.23438990e-01, 4.05190949e-04, 4.44626203e-04, ...,\n",
       "           4.53269064e-01, 4.14194465e-01, 1.32536426e-01],\n",
       "          [4.95523989e-01, 3.81536491e-04, 3.96227348e-04, ...,\n",
       "           4.19576406e-01, 4.40862805e-01, 1.39560819e-01]],\n",
       "\n",
       "         [[5.25788486e-01, 3.45596607e-04, 3.54049203e-04, ...,\n",
       "           4.19279426e-01, 4.38799709e-01, 1.41920835e-01],\n",
       "          [5.29806018e-01, 3.11369717e-04, 3.34455457e-04, ...,\n",
       "           4.32432204e-01, 4.18976039e-01, 1.48591742e-01],\n",
       "          [4.97706264e-01, 2.99954641e-04, 3.74723139e-04, ...,\n",
       "           2.88889349e-01, 4.94599938e-01, 2.16510668e-01],\n",
       "          [5.24769425e-01, 3.00137181e-04, 8.34431150e-04, ...,\n",
       "           3.55340749e-01, 4.26959127e-01, 2.17700049e-01]],\n",
       "\n",
       "         [[4.80587184e-01, 3.66001797e-04, 1.31881528e-03, ...,\n",
       "           2.77990699e-01, 4.96335685e-01, 2.25673601e-01],\n",
       "          [5.07240534e-01, 7.22487515e-04, 3.36494413e-03, ...,\n",
       "           4.35011953e-01, 2.97130257e-01, 2.67857820e-01],\n",
       "          [3.97140622e-01, 1.40457845e-03, 5.27442573e-03, ...,\n",
       "           9.94528979e-02, 7.32327044e-01, 1.68220058e-01],\n",
       "          [5.07584393e-01, 8.36348161e-03, 2.29771193e-02, ...,\n",
       "           1.57340467e-01, 5.90540528e-01, 2.52118975e-01]]]]],\n",
       "      dtype=float32)"
      ]
     },
     "execution_count": 31,
     "metadata": {},
     "output_type": "execute_result"
    }
   ],
   "source": [
    "predict_output"
   ]
  },
  {
   "cell_type": "code",
   "execution_count": 32,
   "metadata": {},
   "outputs": [
    {
     "data": {
      "text/plain": [
       "array([[[[[1., 0., 0., ..., 0., 0., 0.],\n",
       "          [1., 0., 0., ..., 0., 0., 0.],\n",
       "          [1., 0., 0., ..., 0., 0., 0.],\n",
       "          [1., 0., 0., ..., 0., 0., 0.]],\n",
       "\n",
       "         [[1., 0., 0., ..., 0., 0., 0.],\n",
       "          [1., 0., 0., ..., 0., 0., 0.],\n",
       "          [1., 0., 0., ..., 0., 0., 0.],\n",
       "          [1., 0., 0., ..., 0., 0., 0.]],\n",
       "\n",
       "         [[1., 0., 0., ..., 0., 0., 0.],\n",
       "          [1., 0., 0., ..., 0., 0., 0.],\n",
       "          [1., 0., 0., ..., 0., 0., 0.],\n",
       "          [1., 0., 0., ..., 0., 0., 0.]]],\n",
       "\n",
       "\n",
       "        [[[1., 0., 0., ..., 0., 0., 0.],\n",
       "          [1., 0., 0., ..., 0., 0., 0.],\n",
       "          [1., 0., 0., ..., 0., 0., 0.],\n",
       "          [1., 0., 0., ..., 0., 0., 0.]],\n",
       "\n",
       "         [[1., 0., 0., ..., 0., 0., 0.],\n",
       "          [1., 0., 0., ..., 0., 0., 0.],\n",
       "          [1., 0., 0., ..., 0., 0., 0.],\n",
       "          [1., 0., 0., ..., 0., 0., 0.]],\n",
       "\n",
       "         [[1., 0., 0., ..., 0., 0., 0.],\n",
       "          [1., 0., 0., ..., 0., 0., 0.],\n",
       "          [1., 0., 0., ..., 0., 0., 0.],\n",
       "          [1., 0., 0., ..., 0., 0., 0.]]],\n",
       "\n",
       "\n",
       "        [[[1., 0., 0., ..., 0., 0., 0.],\n",
       "          [1., 0., 0., ..., 0., 0., 0.],\n",
       "          [1., 0., 0., ..., 0., 0., 0.],\n",
       "          [1., 0., 0., ..., 0., 0., 0.]],\n",
       "\n",
       "         [[1., 0., 0., ..., 0., 0., 0.],\n",
       "          [1., 0., 0., ..., 0., 0., 0.],\n",
       "          [1., 0., 0., ..., 0., 0., 0.],\n",
       "          [1., 0., 0., ..., 0., 0., 0.]],\n",
       "\n",
       "         [[1., 0., 0., ..., 0., 0., 0.],\n",
       "          [1., 0., 0., ..., 0., 0., 0.],\n",
       "          [1., 0., 0., ..., 0., 0., 0.],\n",
       "          [1., 0., 0., ..., 0., 0., 0.]]],\n",
       "\n",
       "\n",
       "        ...,\n",
       "\n",
       "\n",
       "        [[[1., 0., 0., ..., 0., 0., 0.],\n",
       "          [1., 0., 0., ..., 0., 0., 0.],\n",
       "          [1., 0., 0., ..., 0., 0., 0.],\n",
       "          [1., 0., 0., ..., 0., 0., 0.]],\n",
       "\n",
       "         [[1., 0., 0., ..., 0., 0., 0.],\n",
       "          [1., 0., 0., ..., 0., 0., 0.],\n",
       "          [1., 0., 0., ..., 0., 0., 0.],\n",
       "          [1., 0., 0., ..., 0., 0., 0.]],\n",
       "\n",
       "         [[1., 0., 0., ..., 0., 0., 0.],\n",
       "          [1., 0., 0., ..., 0., 0., 0.],\n",
       "          [1., 0., 0., ..., 0., 0., 0.],\n",
       "          [1., 0., 0., ..., 0., 0., 0.]]],\n",
       "\n",
       "\n",
       "        [[[1., 0., 0., ..., 0., 0., 0.],\n",
       "          [1., 0., 0., ..., 0., 0., 0.],\n",
       "          [1., 0., 0., ..., 0., 0., 0.],\n",
       "          [1., 0., 0., ..., 0., 0., 0.]],\n",
       "\n",
       "         [[1., 0., 0., ..., 0., 0., 0.],\n",
       "          [1., 0., 0., ..., 0., 0., 0.],\n",
       "          [1., 0., 0., ..., 0., 0., 0.],\n",
       "          [1., 0., 0., ..., 0., 0., 0.]],\n",
       "\n",
       "         [[1., 0., 0., ..., 0., 0., 0.],\n",
       "          [1., 0., 0., ..., 0., 0., 0.],\n",
       "          [1., 0., 0., ..., 0., 0., 0.],\n",
       "          [1., 0., 0., ..., 0., 0., 0.]]],\n",
       "\n",
       "\n",
       "        [[[1., 0., 0., ..., 0., 0., 0.],\n",
       "          [1., 0., 0., ..., 0., 0., 0.],\n",
       "          [1., 0., 0., ..., 0., 0., 0.],\n",
       "          [1., 0., 0., ..., 0., 0., 0.]],\n",
       "\n",
       "         [[1., 0., 0., ..., 0., 0., 0.],\n",
       "          [1., 0., 0., ..., 0., 0., 0.],\n",
       "          [1., 0., 0., ..., 0., 0., 0.],\n",
       "          [1., 0., 0., ..., 0., 0., 0.]],\n",
       "\n",
       "         [[1., 0., 0., ..., 0., 0., 0.],\n",
       "          [1., 0., 0., ..., 0., 0., 0.],\n",
       "          [1., 0., 0., ..., 0., 0., 0.],\n",
       "          [1., 0., 0., ..., 0., 0., 0.]]]],\n",
       "\n",
       "\n",
       "\n",
       "       [[[[1., 0., 0., ..., 0., 0., 0.],\n",
       "          [1., 0., 0., ..., 0., 0., 0.],\n",
       "          [1., 0., 0., ..., 0., 0., 0.],\n",
       "          [1., 0., 0., ..., 0., 0., 0.]],\n",
       "\n",
       "         [[1., 0., 0., ..., 0., 0., 0.],\n",
       "          [1., 0., 0., ..., 0., 0., 0.],\n",
       "          [1., 0., 0., ..., 0., 0., 0.],\n",
       "          [1., 0., 0., ..., 0., 0., 0.]],\n",
       "\n",
       "         [[1., 0., 0., ..., 0., 0., 0.],\n",
       "          [1., 0., 0., ..., 0., 0., 0.],\n",
       "          [1., 0., 0., ..., 0., 0., 0.],\n",
       "          [1., 0., 0., ..., 0., 0., 0.]]],\n",
       "\n",
       "\n",
       "        [[[1., 0., 0., ..., 0., 0., 0.],\n",
       "          [1., 0., 0., ..., 0., 0., 0.],\n",
       "          [1., 0., 0., ..., 0., 0., 0.],\n",
       "          [1., 0., 0., ..., 0., 0., 0.]],\n",
       "\n",
       "         [[1., 0., 0., ..., 0., 0., 0.],\n",
       "          [1., 0., 0., ..., 0., 0., 0.],\n",
       "          [1., 0., 0., ..., 0., 0., 0.],\n",
       "          [1., 0., 0., ..., 0., 0., 0.]],\n",
       "\n",
       "         [[1., 0., 0., ..., 0., 0., 0.],\n",
       "          [1., 0., 0., ..., 0., 0., 0.],\n",
       "          [1., 0., 0., ..., 0., 0., 0.],\n",
       "          [1., 0., 0., ..., 0., 0., 0.]]],\n",
       "\n",
       "\n",
       "        [[[1., 0., 0., ..., 0., 0., 0.],\n",
       "          [1., 0., 0., ..., 0., 0., 0.],\n",
       "          [1., 0., 0., ..., 0., 0., 0.],\n",
       "          [1., 0., 0., ..., 0., 0., 0.]],\n",
       "\n",
       "         [[1., 0., 0., ..., 0., 0., 0.],\n",
       "          [1., 0., 0., ..., 0., 0., 0.],\n",
       "          [1., 0., 0., ..., 0., 0., 0.],\n",
       "          [1., 0., 0., ..., 0., 0., 0.]],\n",
       "\n",
       "         [[1., 0., 0., ..., 0., 0., 0.],\n",
       "          [1., 0., 0., ..., 0., 0., 0.],\n",
       "          [1., 0., 0., ..., 0., 0., 0.],\n",
       "          [1., 0., 0., ..., 0., 0., 0.]]],\n",
       "\n",
       "\n",
       "        ...,\n",
       "\n",
       "\n",
       "        [[[1., 0., 0., ..., 0., 0., 0.],\n",
       "          [1., 0., 0., ..., 0., 0., 0.],\n",
       "          [1., 0., 0., ..., 0., 0., 0.],\n",
       "          [1., 0., 0., ..., 0., 0., 0.]],\n",
       "\n",
       "         [[1., 0., 0., ..., 0., 0., 0.],\n",
       "          [1., 0., 0., ..., 0., 0., 0.],\n",
       "          [1., 0., 0., ..., 0., 0., 0.],\n",
       "          [1., 0., 0., ..., 0., 0., 0.]],\n",
       "\n",
       "         [[1., 0., 0., ..., 0., 0., 0.],\n",
       "          [1., 0., 0., ..., 0., 0., 0.],\n",
       "          [1., 0., 0., ..., 0., 0., 0.],\n",
       "          [1., 0., 0., ..., 0., 0., 0.]]],\n",
       "\n",
       "\n",
       "        [[[1., 0., 0., ..., 0., 0., 0.],\n",
       "          [1., 0., 0., ..., 0., 0., 0.],\n",
       "          [1., 0., 0., ..., 0., 0., 0.],\n",
       "          [1., 0., 0., ..., 0., 0., 0.]],\n",
       "\n",
       "         [[1., 0., 0., ..., 0., 0., 0.],\n",
       "          [1., 0., 0., ..., 0., 0., 0.],\n",
       "          [1., 0., 0., ..., 0., 0., 0.],\n",
       "          [1., 0., 0., ..., 0., 0., 0.]],\n",
       "\n",
       "         [[1., 0., 0., ..., 0., 0., 0.],\n",
       "          [1., 0., 0., ..., 0., 0., 0.],\n",
       "          [1., 0., 0., ..., 0., 0., 0.],\n",
       "          [1., 0., 0., ..., 0., 0., 0.]]],\n",
       "\n",
       "\n",
       "        [[[1., 0., 0., ..., 0., 0., 0.],\n",
       "          [1., 0., 0., ..., 0., 0., 0.],\n",
       "          [1., 0., 0., ..., 0., 0., 0.],\n",
       "          [1., 0., 0., ..., 0., 0., 0.]],\n",
       "\n",
       "         [[1., 0., 0., ..., 0., 0., 0.],\n",
       "          [1., 0., 0., ..., 0., 0., 0.],\n",
       "          [1., 0., 0., ..., 0., 0., 0.],\n",
       "          [1., 0., 0., ..., 0., 0., 0.]],\n",
       "\n",
       "         [[1., 0., 0., ..., 0., 0., 0.],\n",
       "          [1., 0., 0., ..., 0., 0., 0.],\n",
       "          [1., 0., 0., ..., 0., 0., 0.],\n",
       "          [1., 0., 0., ..., 0., 0., 0.]]]],\n",
       "\n",
       "\n",
       "\n",
       "       [[[[1., 0., 0., ..., 0., 0., 0.],\n",
       "          [1., 0., 0., ..., 0., 0., 0.],\n",
       "          [1., 0., 0., ..., 0., 0., 0.],\n",
       "          [1., 0., 0., ..., 0., 0., 0.]],\n",
       "\n",
       "         [[1., 0., 0., ..., 0., 0., 0.],\n",
       "          [1., 0., 0., ..., 0., 0., 0.],\n",
       "          [1., 0., 0., ..., 0., 0., 0.],\n",
       "          [1., 0., 0., ..., 0., 0., 0.]],\n",
       "\n",
       "         [[1., 0., 0., ..., 0., 0., 0.],\n",
       "          [1., 0., 0., ..., 0., 0., 0.],\n",
       "          [1., 0., 0., ..., 0., 0., 0.],\n",
       "          [1., 0., 0., ..., 0., 0., 0.]]],\n",
       "\n",
       "\n",
       "        [[[1., 0., 0., ..., 0., 0., 0.],\n",
       "          [1., 0., 0., ..., 0., 0., 0.],\n",
       "          [1., 0., 0., ..., 0., 0., 0.],\n",
       "          [1., 0., 0., ..., 0., 0., 0.]],\n",
       "\n",
       "         [[1., 0., 0., ..., 0., 0., 0.],\n",
       "          [1., 0., 0., ..., 0., 0., 0.],\n",
       "          [1., 0., 0., ..., 0., 0., 0.],\n",
       "          [1., 0., 0., ..., 0., 0., 0.]],\n",
       "\n",
       "         [[1., 0., 0., ..., 0., 0., 0.],\n",
       "          [1., 0., 0., ..., 0., 0., 0.],\n",
       "          [1., 0., 0., ..., 0., 0., 0.],\n",
       "          [1., 0., 0., ..., 0., 0., 0.]]],\n",
       "\n",
       "\n",
       "        [[[1., 0., 0., ..., 0., 0., 0.],\n",
       "          [1., 0., 0., ..., 0., 0., 0.],\n",
       "          [1., 0., 0., ..., 0., 0., 0.],\n",
       "          [1., 0., 0., ..., 0., 0., 0.]],\n",
       "\n",
       "         [[1., 0., 0., ..., 0., 0., 0.],\n",
       "          [1., 0., 0., ..., 0., 0., 0.],\n",
       "          [1., 0., 0., ..., 0., 0., 0.],\n",
       "          [1., 0., 0., ..., 0., 0., 0.]],\n",
       "\n",
       "         [[1., 0., 0., ..., 0., 0., 0.],\n",
       "          [1., 0., 0., ..., 0., 0., 0.],\n",
       "          [1., 0., 0., ..., 0., 0., 0.],\n",
       "          [1., 0., 0., ..., 0., 0., 0.]]],\n",
       "\n",
       "\n",
       "        ...,\n",
       "\n",
       "\n",
       "        [[[1., 0., 0., ..., 0., 0., 0.],\n",
       "          [1., 0., 0., ..., 0., 0., 0.],\n",
       "          [1., 0., 0., ..., 0., 0., 0.],\n",
       "          [1., 0., 0., ..., 0., 0., 0.]],\n",
       "\n",
       "         [[1., 0., 0., ..., 0., 0., 0.],\n",
       "          [1., 0., 0., ..., 0., 0., 0.],\n",
       "          [1., 0., 0., ..., 0., 0., 0.],\n",
       "          [1., 0., 0., ..., 0., 0., 0.]],\n",
       "\n",
       "         [[1., 0., 0., ..., 0., 0., 0.],\n",
       "          [1., 0., 0., ..., 0., 0., 0.],\n",
       "          [1., 0., 0., ..., 0., 0., 0.],\n",
       "          [1., 0., 0., ..., 0., 0., 0.]]],\n",
       "\n",
       "\n",
       "        [[[1., 0., 0., ..., 0., 0., 0.],\n",
       "          [1., 0., 0., ..., 0., 0., 0.],\n",
       "          [1., 0., 0., ..., 0., 0., 0.],\n",
       "          [1., 0., 0., ..., 0., 0., 0.]],\n",
       "\n",
       "         [[1., 0., 0., ..., 0., 0., 0.],\n",
       "          [1., 0., 0., ..., 0., 0., 0.],\n",
       "          [1., 0., 0., ..., 0., 0., 0.],\n",
       "          [1., 0., 0., ..., 0., 0., 0.]],\n",
       "\n",
       "         [[1., 0., 0., ..., 0., 0., 0.],\n",
       "          [1., 0., 0., ..., 0., 0., 0.],\n",
       "          [1., 0., 0., ..., 0., 0., 0.],\n",
       "          [1., 0., 0., ..., 0., 0., 0.]]],\n",
       "\n",
       "\n",
       "        [[[1., 0., 0., ..., 0., 0., 0.],\n",
       "          [1., 0., 0., ..., 0., 0., 0.],\n",
       "          [1., 0., 0., ..., 0., 0., 0.],\n",
       "          [1., 0., 0., ..., 0., 0., 0.]],\n",
       "\n",
       "         [[1., 0., 0., ..., 0., 0., 0.],\n",
       "          [1., 0., 0., ..., 0., 0., 0.],\n",
       "          [1., 0., 0., ..., 0., 0., 0.],\n",
       "          [1., 0., 0., ..., 0., 0., 0.]],\n",
       "\n",
       "         [[1., 0., 0., ..., 0., 0., 0.],\n",
       "          [1., 0., 0., ..., 0., 0., 0.],\n",
       "          [1., 0., 0., ..., 0., 0., 0.],\n",
       "          [1., 0., 0., ..., 0., 0., 0.]]]],\n",
       "\n",
       "\n",
       "\n",
       "       ...,\n",
       "\n",
       "\n",
       "\n",
       "       [[[[1., 0., 0., ..., 0., 0., 0.],\n",
       "          [1., 0., 0., ..., 0., 0., 0.],\n",
       "          [1., 0., 0., ..., 0., 0., 0.],\n",
       "          [1., 0., 0., ..., 0., 0., 0.]],\n",
       "\n",
       "         [[1., 0., 0., ..., 0., 0., 0.],\n",
       "          [1., 0., 0., ..., 0., 0., 0.],\n",
       "          [1., 0., 0., ..., 0., 0., 0.],\n",
       "          [1., 0., 0., ..., 0., 0., 0.]],\n",
       "\n",
       "         [[1., 0., 0., ..., 0., 0., 0.],\n",
       "          [1., 0., 0., ..., 0., 0., 0.],\n",
       "          [1., 0., 0., ..., 0., 0., 0.],\n",
       "          [1., 0., 0., ..., 0., 0., 0.]]],\n",
       "\n",
       "\n",
       "        [[[1., 0., 0., ..., 0., 0., 0.],\n",
       "          [1., 0., 0., ..., 0., 0., 0.],\n",
       "          [1., 0., 0., ..., 0., 0., 0.],\n",
       "          [1., 0., 0., ..., 0., 0., 0.]],\n",
       "\n",
       "         [[1., 0., 0., ..., 0., 0., 0.],\n",
       "          [1., 0., 0., ..., 0., 0., 0.],\n",
       "          [1., 0., 0., ..., 0., 0., 0.],\n",
       "          [1., 0., 0., ..., 0., 0., 0.]],\n",
       "\n",
       "         [[1., 0., 0., ..., 0., 0., 0.],\n",
       "          [1., 0., 0., ..., 0., 0., 0.],\n",
       "          [1., 0., 0., ..., 0., 0., 0.],\n",
       "          [1., 0., 0., ..., 0., 0., 0.]]],\n",
       "\n",
       "\n",
       "        [[[1., 0., 0., ..., 0., 0., 0.],\n",
       "          [1., 0., 0., ..., 0., 0., 0.],\n",
       "          [1., 0., 0., ..., 0., 0., 0.],\n",
       "          [1., 0., 0., ..., 0., 0., 0.]],\n",
       "\n",
       "         [[1., 0., 0., ..., 0., 0., 0.],\n",
       "          [1., 0., 0., ..., 0., 0., 0.],\n",
       "          [1., 0., 0., ..., 0., 0., 0.],\n",
       "          [1., 0., 0., ..., 0., 0., 0.]],\n",
       "\n",
       "         [[1., 0., 0., ..., 0., 0., 0.],\n",
       "          [1., 0., 0., ..., 0., 0., 0.],\n",
       "          [1., 0., 0., ..., 0., 0., 0.],\n",
       "          [1., 0., 0., ..., 0., 0., 0.]]],\n",
       "\n",
       "\n",
       "        ...,\n",
       "\n",
       "\n",
       "        [[[1., 0., 0., ..., 0., 0., 0.],\n",
       "          [1., 0., 0., ..., 0., 0., 0.],\n",
       "          [1., 0., 0., ..., 0., 0., 0.],\n",
       "          [1., 0., 0., ..., 0., 0., 0.]],\n",
       "\n",
       "         [[1., 0., 0., ..., 0., 0., 0.],\n",
       "          [1., 0., 0., ..., 0., 0., 0.],\n",
       "          [1., 0., 0., ..., 0., 0., 0.],\n",
       "          [1., 0., 0., ..., 0., 0., 0.]],\n",
       "\n",
       "         [[1., 0., 0., ..., 0., 0., 0.],\n",
       "          [1., 0., 0., ..., 0., 0., 0.],\n",
       "          [1., 0., 0., ..., 0., 0., 0.],\n",
       "          [1., 0., 0., ..., 0., 0., 0.]]],\n",
       "\n",
       "\n",
       "        [[[1., 0., 0., ..., 0., 0., 0.],\n",
       "          [1., 0., 0., ..., 0., 0., 0.],\n",
       "          [1., 0., 0., ..., 0., 0., 0.],\n",
       "          [1., 0., 0., ..., 0., 0., 0.]],\n",
       "\n",
       "         [[1., 0., 0., ..., 0., 0., 0.],\n",
       "          [1., 0., 0., ..., 0., 0., 0.],\n",
       "          [1., 0., 0., ..., 0., 0., 0.],\n",
       "          [1., 0., 0., ..., 0., 0., 0.]],\n",
       "\n",
       "         [[1., 0., 0., ..., 0., 0., 0.],\n",
       "          [1., 0., 0., ..., 0., 0., 0.],\n",
       "          [1., 0., 0., ..., 0., 0., 0.],\n",
       "          [1., 0., 0., ..., 0., 0., 0.]]],\n",
       "\n",
       "\n",
       "        [[[1., 0., 0., ..., 0., 0., 0.],\n",
       "          [1., 0., 0., ..., 0., 0., 0.],\n",
       "          [1., 0., 0., ..., 0., 0., 0.],\n",
       "          [1., 0., 0., ..., 0., 0., 0.]],\n",
       "\n",
       "         [[1., 0., 0., ..., 0., 0., 0.],\n",
       "          [1., 0., 0., ..., 0., 0., 0.],\n",
       "          [1., 0., 0., ..., 0., 0., 0.],\n",
       "          [1., 0., 0., ..., 0., 0., 0.]],\n",
       "\n",
       "         [[1., 0., 0., ..., 0., 0., 0.],\n",
       "          [1., 0., 0., ..., 0., 0., 0.],\n",
       "          [1., 0., 0., ..., 0., 0., 0.],\n",
       "          [1., 0., 0., ..., 0., 0., 0.]]]],\n",
       "\n",
       "\n",
       "\n",
       "       [[[[1., 0., 0., ..., 0., 0., 0.],\n",
       "          [1., 0., 0., ..., 0., 0., 0.],\n",
       "          [1., 0., 0., ..., 0., 0., 0.],\n",
       "          [1., 0., 0., ..., 0., 0., 0.]],\n",
       "\n",
       "         [[1., 0., 0., ..., 0., 0., 0.],\n",
       "          [1., 0., 0., ..., 0., 0., 0.],\n",
       "          [1., 0., 0., ..., 0., 0., 0.],\n",
       "          [1., 0., 0., ..., 0., 0., 0.]],\n",
       "\n",
       "         [[1., 0., 0., ..., 0., 0., 0.],\n",
       "          [1., 0., 0., ..., 0., 0., 0.],\n",
       "          [1., 0., 0., ..., 0., 0., 0.],\n",
       "          [1., 0., 0., ..., 0., 0., 0.]]],\n",
       "\n",
       "\n",
       "        [[[1., 0., 0., ..., 0., 0., 0.],\n",
       "          [1., 0., 0., ..., 0., 0., 0.],\n",
       "          [1., 0., 0., ..., 0., 0., 0.],\n",
       "          [1., 0., 0., ..., 0., 0., 0.]],\n",
       "\n",
       "         [[1., 0., 0., ..., 0., 0., 0.],\n",
       "          [1., 0., 0., ..., 0., 0., 0.],\n",
       "          [1., 0., 0., ..., 0., 0., 0.],\n",
       "          [1., 0., 0., ..., 0., 0., 0.]],\n",
       "\n",
       "         [[1., 0., 0., ..., 0., 0., 0.],\n",
       "          [1., 0., 0., ..., 0., 0., 0.],\n",
       "          [1., 0., 0., ..., 0., 0., 0.],\n",
       "          [1., 0., 0., ..., 0., 0., 0.]]],\n",
       "\n",
       "\n",
       "        [[[1., 0., 0., ..., 0., 0., 0.],\n",
       "          [1., 0., 0., ..., 0., 0., 0.],\n",
       "          [1., 0., 0., ..., 0., 0., 0.],\n",
       "          [1., 0., 0., ..., 0., 0., 0.]],\n",
       "\n",
       "         [[1., 0., 0., ..., 0., 0., 0.],\n",
       "          [1., 0., 0., ..., 0., 0., 0.],\n",
       "          [1., 0., 0., ..., 0., 0., 0.],\n",
       "          [1., 0., 0., ..., 0., 0., 0.]],\n",
       "\n",
       "         [[1., 0., 0., ..., 0., 0., 0.],\n",
       "          [1., 0., 0., ..., 0., 0., 0.],\n",
       "          [1., 0., 0., ..., 0., 0., 0.],\n",
       "          [1., 0., 0., ..., 0., 0., 0.]]],\n",
       "\n",
       "\n",
       "        ...,\n",
       "\n",
       "\n",
       "        [[[1., 0., 0., ..., 0., 0., 0.],\n",
       "          [1., 0., 0., ..., 0., 0., 0.],\n",
       "          [1., 0., 0., ..., 0., 0., 0.],\n",
       "          [1., 0., 0., ..., 0., 0., 0.]],\n",
       "\n",
       "         [[1., 0., 0., ..., 0., 0., 0.],\n",
       "          [1., 0., 0., ..., 0., 0., 0.],\n",
       "          [1., 0., 0., ..., 0., 0., 0.],\n",
       "          [1., 0., 0., ..., 0., 0., 0.]],\n",
       "\n",
       "         [[1., 0., 0., ..., 0., 0., 0.],\n",
       "          [1., 0., 0., ..., 0., 0., 0.],\n",
       "          [1., 0., 0., ..., 0., 0., 0.],\n",
       "          [1., 0., 0., ..., 0., 0., 0.]]],\n",
       "\n",
       "\n",
       "        [[[1., 0., 0., ..., 0., 0., 0.],\n",
       "          [1., 0., 0., ..., 0., 0., 0.],\n",
       "          [1., 0., 0., ..., 0., 0., 0.],\n",
       "          [1., 0., 0., ..., 0., 0., 0.]],\n",
       "\n",
       "         [[1., 0., 0., ..., 0., 0., 0.],\n",
       "          [1., 0., 0., ..., 0., 0., 0.],\n",
       "          [1., 0., 0., ..., 0., 0., 0.],\n",
       "          [1., 0., 0., ..., 0., 0., 0.]],\n",
       "\n",
       "         [[1., 0., 0., ..., 0., 0., 0.],\n",
       "          [1., 0., 0., ..., 0., 0., 0.],\n",
       "          [1., 0., 0., ..., 0., 0., 0.],\n",
       "          [1., 0., 0., ..., 0., 0., 0.]]],\n",
       "\n",
       "\n",
       "        [[[1., 0., 0., ..., 0., 0., 0.],\n",
       "          [1., 0., 0., ..., 0., 0., 0.],\n",
       "          [1., 0., 0., ..., 0., 0., 0.],\n",
       "          [1., 0., 0., ..., 0., 0., 0.]],\n",
       "\n",
       "         [[1., 0., 0., ..., 0., 0., 0.],\n",
       "          [1., 0., 0., ..., 0., 0., 0.],\n",
       "          [1., 0., 0., ..., 0., 0., 0.],\n",
       "          [1., 0., 0., ..., 0., 0., 0.]],\n",
       "\n",
       "         [[1., 0., 0., ..., 0., 0., 0.],\n",
       "          [1., 0., 0., ..., 0., 0., 0.],\n",
       "          [1., 0., 0., ..., 0., 0., 0.],\n",
       "          [1., 0., 0., ..., 0., 0., 0.]]]],\n",
       "\n",
       "\n",
       "\n",
       "       [[[[1., 0., 0., ..., 0., 0., 0.],\n",
       "          [1., 0., 0., ..., 0., 0., 0.],\n",
       "          [1., 0., 0., ..., 0., 0., 0.],\n",
       "          [1., 0., 0., ..., 0., 0., 0.]],\n",
       "\n",
       "         [[1., 0., 0., ..., 0., 0., 0.],\n",
       "          [1., 0., 0., ..., 0., 0., 0.],\n",
       "          [1., 0., 0., ..., 0., 0., 0.],\n",
       "          [1., 0., 0., ..., 0., 0., 0.]],\n",
       "\n",
       "         [[1., 0., 0., ..., 0., 0., 0.],\n",
       "          [1., 0., 0., ..., 0., 0., 0.],\n",
       "          [1., 0., 0., ..., 0., 0., 0.],\n",
       "          [1., 0., 0., ..., 0., 0., 0.]]],\n",
       "\n",
       "\n",
       "        [[[1., 0., 0., ..., 0., 0., 0.],\n",
       "          [1., 0., 0., ..., 0., 0., 0.],\n",
       "          [1., 0., 0., ..., 0., 0., 0.],\n",
       "          [1., 0., 0., ..., 0., 0., 0.]],\n",
       "\n",
       "         [[1., 0., 0., ..., 0., 0., 0.],\n",
       "          [1., 0., 0., ..., 0., 0., 0.],\n",
       "          [1., 0., 0., ..., 0., 0., 0.],\n",
       "          [1., 0., 0., ..., 0., 0., 0.]],\n",
       "\n",
       "         [[1., 0., 0., ..., 0., 0., 0.],\n",
       "          [1., 0., 0., ..., 0., 0., 0.],\n",
       "          [1., 0., 0., ..., 0., 0., 0.],\n",
       "          [1., 0., 0., ..., 0., 0., 0.]]],\n",
       "\n",
       "\n",
       "        [[[1., 0., 0., ..., 0., 0., 0.],\n",
       "          [1., 0., 0., ..., 0., 0., 0.],\n",
       "          [1., 0., 0., ..., 0., 0., 0.],\n",
       "          [1., 0., 0., ..., 0., 0., 0.]],\n",
       "\n",
       "         [[1., 0., 0., ..., 0., 0., 0.],\n",
       "          [1., 0., 0., ..., 0., 0., 0.],\n",
       "          [1., 0., 0., ..., 0., 0., 0.],\n",
       "          [1., 0., 0., ..., 0., 0., 0.]],\n",
       "\n",
       "         [[1., 0., 0., ..., 0., 0., 0.],\n",
       "          [1., 0., 0., ..., 0., 0., 0.],\n",
       "          [1., 0., 0., ..., 0., 0., 0.],\n",
       "          [1., 0., 0., ..., 0., 0., 0.]]],\n",
       "\n",
       "\n",
       "        ...,\n",
       "\n",
       "\n",
       "        [[[1., 0., 0., ..., 0., 0., 0.],\n",
       "          [1., 0., 0., ..., 0., 0., 0.],\n",
       "          [1., 0., 0., ..., 0., 0., 0.],\n",
       "          [1., 0., 0., ..., 0., 0., 0.]],\n",
       "\n",
       "         [[1., 0., 0., ..., 0., 0., 0.],\n",
       "          [1., 0., 0., ..., 0., 0., 0.],\n",
       "          [1., 0., 0., ..., 0., 0., 0.],\n",
       "          [1., 0., 0., ..., 0., 0., 0.]],\n",
       "\n",
       "         [[1., 0., 0., ..., 0., 0., 0.],\n",
       "          [1., 0., 0., ..., 0., 0., 0.],\n",
       "          [1., 0., 0., ..., 0., 0., 0.],\n",
       "          [1., 0., 0., ..., 0., 0., 0.]]],\n",
       "\n",
       "\n",
       "        [[[1., 0., 0., ..., 0., 0., 0.],\n",
       "          [1., 0., 0., ..., 0., 0., 0.],\n",
       "          [1., 0., 0., ..., 0., 0., 0.],\n",
       "          [1., 0., 0., ..., 0., 0., 0.]],\n",
       "\n",
       "         [[1., 0., 0., ..., 0., 0., 0.],\n",
       "          [1., 0., 0., ..., 0., 0., 0.],\n",
       "          [1., 0., 0., ..., 0., 0., 0.],\n",
       "          [1., 0., 0., ..., 0., 0., 0.]],\n",
       "\n",
       "         [[1., 0., 0., ..., 0., 0., 0.],\n",
       "          [1., 0., 0., ..., 0., 0., 0.],\n",
       "          [1., 0., 0., ..., 0., 0., 0.],\n",
       "          [1., 0., 0., ..., 0., 0., 0.]]],\n",
       "\n",
       "\n",
       "        [[[1., 0., 0., ..., 0., 0., 0.],\n",
       "          [1., 0., 0., ..., 0., 0., 0.],\n",
       "          [1., 0., 0., ..., 0., 0., 0.],\n",
       "          [1., 0., 0., ..., 0., 0., 0.]],\n",
       "\n",
       "         [[1., 0., 0., ..., 0., 0., 0.],\n",
       "          [1., 0., 0., ..., 0., 0., 0.],\n",
       "          [1., 0., 0., ..., 0., 0., 0.],\n",
       "          [1., 0., 0., ..., 0., 0., 0.]],\n",
       "\n",
       "         [[1., 0., 0., ..., 0., 0., 0.],\n",
       "          [1., 0., 0., ..., 0., 0., 0.],\n",
       "          [1., 0., 0., ..., 0., 0., 0.],\n",
       "          [1., 0., 0., ..., 0., 0., 0.]]]]])"
      ]
     },
     "execution_count": 32,
     "metadata": {},
     "output_type": "execute_result"
    }
   ],
   "source": [
    "Y"
   ]
  },
  {
   "cell_type": "code",
   "execution_count": 33,
   "metadata": {},
   "outputs": [
    {
     "name": "stdout",
     "output_type": "stream",
     "text": [
      "-16\n"
     ]
    }
   ],
   "source": [
    "export_beatmap(predict_output, tempo, filename = 'gen.json')\n"
   ]
  }
 ],
 "metadata": {
  "kernelspec": {
   "display_name": "Python 3",
   "language": "python",
   "name": "python3"
  },
  "language_info": {
   "codemirror_mode": {
    "name": "ipython",
    "version": 3
   },
   "file_extension": ".py",
   "mimetype": "text/x-python",
   "name": "python",
   "nbconvert_exporter": "python",
   "pygments_lexer": "ipython3",
   "version": "3.6.5"
  }
 },
 "nbformat": 4,
 "nbformat_minor": 2
}
