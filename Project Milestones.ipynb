{
 "cells": [
  {
   "cell_type": "markdown",
   "metadata": {},
   "source": [
    "# __Project Milestone 1__\n",
    "Date: March 14th, 2019\n",
    "\n",
    "Group 0: Pandemonium\n",
    "\n",
    "Group Members: Taylor Carrick, Jack Goble, Thai Do, Levi Shirley, and Zube Molokwu"
   ]
  },
  {
   "cell_type": "markdown",
   "metadata": {},
   "source": [
    "| Deliverable  | Percent Complete | Estimated Completion Date | Percent Complete by Next Milestone |\n",
    "|--------------|------------------|---------------------------|------------------------------------|\n",
    "| Code         | 3%               | Apr. 9                    | 50%                                |\n",
    "| Paper        | 0%               | Apr. 16                   | 15%                                |\n",
    "| Demo         | 0%               | Apr. 23                   | 10%                                |\n",
    "| Presentation | 0%               | May  2                    | 0%                                 |"
   ]
  },
  {
   "cell_type": "markdown",
   "metadata": {},
   "source": [
    "1. What deliverable goals established in the last milestone report were accomplished to the anticipated percentage?"
   ]
  },
  {
   "cell_type": "markdown",
   "metadata": {},
   "source": [
    "N/A"
   ]
  },
  {
   "cell_type": "markdown",
   "metadata": {},
   "source": [
    "2. What deliverable goals established in the last milestone report were not accomplished to the anticipated percentage?"
   ]
  },
  {
   "cell_type": "markdown",
   "metadata": {},
   "source": [
    "N/A"
   ]
  },
  {
   "cell_type": "markdown",
   "metadata": {},
   "source": [
    "3. What are the main deliverable goals to meet before the next milestone report, and who is working on them?"
   ]
  },
  {
   "cell_type": "markdown",
   "metadata": {},
   "source": [
    "Levi - First draft of preprocessing, PCA, and center track isolation.  \n",
    "Thai & Zube - Intro to paper, RNN that can be trained.  \n",
    "Taylor - Compile list of songs with beatmaps. Floater duty.  \n",
    "Jack - Create Demo file, and layout sections. Floater duty.  "
   ]
  },
  {
   "cell_type": "markdown",
   "metadata": {},
   "source": [
    "# __Project Milestone 2__\n",
    "Date: March 28th, 2019\n",
    "\n",
    "Group 0: Pandemonium\n",
    "\n",
    "Group Members: Taylor Carrick, Jack Goble, Thai Do, Levi Shirley, and Zube Molokwu"
   ]
  },
  {
   "cell_type": "markdown",
   "metadata": {},
   "source": [
    "| Deliverable  | Percent Complete  | Estimated Completion Date | Percent Complete by Next Milestone |\n",
    "|--------------|------------------ |---------------------------|------------------------------------|\n",
    "| Code         | 40%               | Apr. 9                    | 100%                               |\n",
    "| Paper        | 15%               | Apr. 16                   | 75%                                |\n",
    "| Demo         | 0%                | Apr. 23                   | 50%                                |\n",
    "| Presentation | 0%                | May  2                    | 50%                                |"
   ]
  },
  {
   "cell_type": "markdown",
   "metadata": {},
   "source": [
    "1. What deliverable goals established in the last milestone report were accomplished to the anticipated percentage?"
   ]
  },
  {
   "cell_type": "markdown",
   "metadata": {},
   "source": [
    "Paper - We anticipated to get at least 15% of the paper done, and we accomplished that."
   ]
  },
  {
   "cell_type": "markdown",
   "metadata": {},
   "source": [
    "2. What deliverable goals established in the last milestone report were not accomplished to the anticipated percentage?"
   ]
  },
  {
   "cell_type": "markdown",
   "metadata": {},
   "source": [
    "Code - We anticpated to get at least 50% of the code done, but we managed just about 40% of the code.  We finished the PCA, and the code that preps the data for the neural net. (it may change in the future, but for now, it is in a work in progress. \n",
    "\n",
    "Demo - We anticipated to get at least 10% of the demo, but we weren't able to start anything related with the demo whatsoever.  "
   ]
  },
  {
   "cell_type": "markdown",
   "metadata": {},
   "source": [
    "3. What are the main deliverable goals to meet before the next milestone report, and who is working on them?"
   ]
  },
  {
   "cell_type": "markdown",
   "metadata": {},
   "source": [
    "Levi - Start on presentation. Floater duty.\n",
    "\n",
    "Thai & Zube - Body of the paper, RNN that can be trained\n",
    "\n",
    "Jack - Create Demo file, and layout sections. Floater duty."
   ]
  },
  {
   "cell_type": "markdown",
   "metadata": {},
   "source": [
    "# __Project Milestone 3__\n",
    "Date: April 11th, 2019\n",
    "\n",
    "Group 0: Pandemonium\n",
    "\n",
    "Group Members: Taylor Carrick, Jack Goble, Thai Do, Levi Shirley, and Zube Molokwu"
   ]
  },
  {
   "cell_type": "markdown",
   "metadata": {},
   "source": [
    "| Deliverable  | Percent Complete  | Estimated Completion Date | Percent Complete by Next Milestone |\n",
    "|--------------|------------------ |---------------------------|------------------------------------|\n",
    "| Code         | 75%               | Apr. 20                   | 100%                               |\n",
    "| Paper        | 45%               | Apr. 20                   | 100%                               |\n",
    "| Demo         | 0%                | Apr. 23                   | 100%                               |\n",
    "| Presentation | 15%               | May  2                    | 100%                               |"
   ]
  },
  {
   "cell_type": "markdown",
   "metadata": {},
   "source": [
    "1. What deliverable goals established in the last milestone report were accomplished to the anticipated percentage?"
   ]
  },
  {
   "cell_type": "markdown",
   "metadata": {},
   "source": [
    "None - Final Crunch has affected all members and work has been done, but at a slower pace than expected. "
   ]
  },
  {
   "cell_type": "markdown",
   "metadata": {},
   "source": [
    "2. What deliverable goals established in the last milestone report were not accomplished to the anticipated percentage?"
   ]
  },
  {
   "cell_type": "markdown",
   "metadata": {},
   "source": [
    "Code - Initial model has been built, but still working out kinks before training can begin. Data loading functions have been completed and training will begin once errors in model have been solve.\n",
    "\n",
    "Paper - Progress has been made but a bit less than desired due to aforementioned delays. Thankfully the burden will lessen in the coming days.\n",
    "\n",
    "Demo - The same as above. \n",
    "\n",
    "Presentation - The same as above."
   ]
  },
  {
   "cell_type": "markdown",
   "metadata": {},
   "source": [
    "3. What are the main deliverable goals to meet before the next milestone report, and who is working on them?"
   ]
  },
  {
   "cell_type": "markdown",
   "metadata": {},
   "source": [
    "Thai & Zube - Finish building effective model and begin testing phase as well as finish paper entirely.\n",
    "\n",
    "Levi - Complete Presentation \n",
    "\n",
    "Jack - Complete Demo. "
   ]
  },
  {
   "cell_type": "code",
   "execution_count": null,
   "metadata": {},
   "outputs": [],
   "source": []
  }
 ],
 "metadata": {
  "kernelspec": {
   "display_name": "Python 3",
   "language": "python",
   "name": "python3"
  },
  "language_info": {
   "codemirror_mode": {
    "name": "ipython",
    "version": 3
   },
   "file_extension": ".py",
   "mimetype": "text/x-python",
   "name": "python",
   "nbconvert_exporter": "python",
   "pygments_lexer": "ipython3",
   "version": "3.6.7"
  }
 },
 "nbformat": 4,
 "nbformat_minor": 2
}
