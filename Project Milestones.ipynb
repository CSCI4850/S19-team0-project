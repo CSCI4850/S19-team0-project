{
 "cells": [
  {
   "cell_type": "markdown",
   "metadata": {},
   "source": [
    "# __Project Milestone 1__\n",
    "Date: March 14th, 2019\n",
    "\n",
    "Group 0: Pandemonium\n",
    "\n",
    "Group Members: Taylor Carrick, Jack Goble, Thai Do, Levi Shirley, and Zube Molokwu"
   ]
  },
  {
   "cell_type": "markdown",
   "metadata": {},
   "source": [
    "| Deliverable  | Percent Complete | Estimated Completion Date | Percent Complete by Next Milestone |\n",
    "|--------------|------------------|---------------------------|------------------------------------|\n",
    "| Code         | 3%               | Apr. 9                    | 50%                                |\n",
    "| Paper        | 0%               | Apr. 16                   | 15%                                |\n",
    "| Demo         | 0%               | Apr. 23                   | 10%                                |\n",
    "| Presentation | 0%               | May  2                    | 0%                                 |"
   ]
  },
  {
   "cell_type": "markdown",
   "metadata": {},
   "source": [
    "1. What deliverable goals established in the last milestone report were accomplished to the anticipated percentage?"
   ]
  },
  {
   "cell_type": "markdown",
   "metadata": {},
   "source": [
    "N/A"
   ]
  },
  {
   "cell_type": "markdown",
   "metadata": {},
   "source": [
    "2. What deliverable goals established in the last milestone report were not accomplished to the anticipated percentage?"
   ]
  },
  {
   "cell_type": "markdown",
   "metadata": {},
   "source": [
    "N/A"
   ]
  },
  {
   "cell_type": "markdown",
   "metadata": {},
   "source": [
    "3. What are the main deliverable goals to meet before the next milestone report, and who is working on them?"
   ]
  },
  {
   "cell_type": "markdown",
   "metadata": {},
   "source": [
    "Levi - First draft of preprocessing, PCA, and center track isolation.  \n",
    "Thai & Zube - Intro to paper, RNN that can be trained.  \n",
    "Taylor - Compile list of songs with beatmaps. Floater duty.  \n",
    "Jack - Create Demo file, and layout sections. Floater duty.  "
   ]
  },
  {
   "cell_type": "markdown",
   "metadata": {},
   "source": [
    "# __Project Milestone 2__\n",
    "Date: March 28th, 2019\n",
    "\n",
    "Group 0: Pandemonium\n",
    "\n",
    "Group Members: Taylor Carrick, Jack Goble, Thai Do, Levi Shirley, and Zube Molokwu"
   ]
  },
  {
   "cell_type": "markdown",
   "metadata": {},
   "source": [
    "| Deliverable  | Percent Complete  | Estimated Completion Date | Percent Complete by Next Milestone |\n",
    "|--------------|------------------ |---------------------------|------------------------------------|\n",
    "| Code         | 40%               | Apr. 9                    | 100%                               |\n",
    "| Paper        | 15%               | Apr. 16                   | 75%                                |\n",
    "| Demo         | 0%                | Apr. 23                   | 50%                                |\n",
    "| Presentation | 0%                | May  2                    | 50%                                |"
   ]
  },
  {
   "cell_type": "markdown",
   "metadata": {},
   "source": [
    "1. What deliverable goals established in the last milestone report were accomplished to the anticipated percentage?"
   ]
  },
  {
   "cell_type": "markdown",
   "metadata": {},
   "source": [
    "Paper - We anticipated to get at least 15% of the paper done, and we accomplished that."
   ]
  },
  {
   "cell_type": "markdown",
   "metadata": {},
   "source": [
    "2. What deliverable goals established in the last milestone report were not accomplished to the anticipated percentage?"
   ]
  },
  {
   "cell_type": "markdown",
   "metadata": {},
   "source": [
    "Code - We anticpated to get at least 50% of the code done, but we managed just about 40% of the code.  We finished the PCA, and the code that preps the data for the neural net. (it may change in the future, but for now, it is in a w \n",
    "\n",
    "Demo - We anticipated to get at least 10% of the demo, but we weren't able to start anything related with the demo whatsoever.  "
   ]
  },
  {
   "cell_type": "markdown",
   "metadata": {},
   "source": [
    "3. What are the main deliverable goals to meet before the next milestone report, and who is working on them?"
   ]
  },
  {
   "cell_type": "markdown",
   "metadata": {},
   "source": [
    "Levi - Start on presentation. Floater duty.\n",
    "\n",
    "Thai & Zube - Body of the paper, RNN that can be trained\n",
    "\n",
    "Jack - Create Demo file, and layout sections. Floater duty."
   ]
  },
  {
   "cell_type": "code",
   "execution_count": null,
   "metadata": {},
   "outputs": [],
   "source": []
  }
 ],
 "metadata": {
  "kernelspec": {
   "display_name": "Python 3",
   "language": "python",
   "name": "python3"
  },
  "language_info": {
   "codemirror_mode": {
    "name": "ipython",
    "version": 3
   },
   "file_extension": ".py",
   "mimetype": "text/x-python",
   "name": "python",
   "nbconvert_exporter": "python",
   "pygments_lexer": "ipython3",
   "version": "3.6.7"
  }
 },
 "nbformat": 4,
 "nbformat_minor": 2
}
