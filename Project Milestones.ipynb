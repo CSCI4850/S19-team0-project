{
 "cells": [
  {
   "cell_type": "markdown",
   "metadata": {},
   "source": [
    "# __Project Milestones__\n",
    "Date: March 14th 2019\n",
    "\n",
    "Group 0: Pandemonium\n",
    "\n",
    "Group Members: Taylor Carrick, Jack Goble, Thai Do, Levi Shirley, and Zube Molokwu"
   ]
  },
  {
   "cell_type": "markdown",
   "metadata": {},
   "source": [
    "| Deliverable  | Percent Complete | Estimated Completion Date | Percent Complete by Next Milestone |\n",
    "|--------------|------------------|---------------------------|------------------------------------|\n",
    "| Code         | 0%               | Apr. 5                    | 0%                                 |\n",
    "| Paper        | 0%               | Apr. 5                    | 0%                                 |\n",
    "| Demo         | 0%               | Apr. 5                    | 0%                                 |\n",
    "| Presentation | 0%               | Apr. 5                    | 0%                                 |"
   ]
  },
  {
   "cell_type": "markdown",
   "metadata": {},
   "source": [
    "1. What deliverable goals established in the last milestone report were accomplished to the anticipated percentage?"
   ]
  },
  {
   "cell_type": "code",
   "execution_count": null,
   "metadata": {},
   "outputs": [],
   "source": []
  },
  {
   "cell_type": "markdown",
   "metadata": {},
   "source": [
    "2. What deliverable goals established in the last milestone report were were not accomplished to the anticipated percentage?"
   ]
  },
  {
   "cell_type": "code",
   "execution_count": null,
   "metadata": {},
   "outputs": [],
   "source": []
  },
  {
   "cell_type": "markdown",
   "metadata": {},
   "source": [
    "3. What are the main deliverable goals to meet before the next milestone report, and who is working on them?"
   ]
  },
  {
   "cell_type": "code",
   "execution_count": null,
   "metadata": {},
   "outputs": [],
   "source": []
  }
 ],
 "metadata": {
  "kernelspec": {
   "display_name": "Python 3",
   "language": "python",
   "name": "python3"
  },
  "language_info": {
   "codemirror_mode": {
    "name": "ipython",
    "version": 3
   },
   "file_extension": ".py",
   "mimetype": "text/x-python",
   "name": "python",
   "nbconvert_exporter": "python",
   "pygments_lexer": "ipython3",
   "version": "3.7.1"
  }
 },
 "nbformat": 4,
 "nbformat_minor": 2
}
